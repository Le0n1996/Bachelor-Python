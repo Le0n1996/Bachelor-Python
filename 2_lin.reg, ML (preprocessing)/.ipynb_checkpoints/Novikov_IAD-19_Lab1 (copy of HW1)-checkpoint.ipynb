{
 "cells": [
  {
   "cell_type": "markdown",
   "metadata": {},
   "source": [
    "# Лабораторная работа №1"
   ]
  },
  {
   "cell_type": "markdown",
   "metadata": {},
   "source": [
    "**ФИО:** Новиков Лев Ильич\n",
    "\n",
    "**Группа:** ИАД-19"
   ]
  },
  {
   "cell_type": "markdown",
   "metadata": {},
   "source": [
    "## Общая информация\n",
    "\n",
    "Дата выдачи: **02.02.2016**\n",
    "\n",
    "Срок сдачи: **16.02.2016 23:59**MSK \n",
    "\n",
    "### О задании\n",
    "Целью лабораторной работы №1 является ознакомление с библиотеками NumPy и Pandas путём решения набора задач. В ходе задания предлагается редактировать данный ipython notebook (в части блоков с кодом на python) таким образом, чтобы были реализованы указанные в задании функции.\n",
    "\n",
    "### Оценивание и штрафы\n",
    "Максимально допустимая оценка за работу — 10 баллов.\n",
    "\n",
    "При сдаче задания после указанного срока начисляется **штраф -0.5 балла за каждый день просрочки**. При выставлении неполного балла за задание в связи с наличием ошибок на усмотрение проверяющего предусмотрена возможность исправить задание на указанных в ответном письме условиях.\n",
    "\n",
    "Задание выполняется **самостоятельно**. «Похожие» решения считаются плагиатом и все задействованные студенты (в том числе те, у кого списали) не могут получить за него больше 0 баллов (но могут меньше). Если вы нашли решение какого-то из заданий в открытом источнике, необходимо прислать ссылку на этот источник (чтобы исключить подозрение в плагиате). \n",
    "\n",
    "### Формат сдачи\n",
    "Для сдачи задания переименуйте получившийся файл \\*.ipynb в соответствии со следующим форматом: *Username_(group)_Lab1.ipynb*, где Username — ваша фамилия на латинице, group — название группы. (например, Petrov_IAD-19_Lab1.ipynb). Далее отправьте этот файл на используемую в Вашей группе почту курса (hse.minor.dm@gmail.com) c темой письма *[ИАД-NN] - Лабораторная работа 1 - Фамилия Имя Отчество*.\n",
    "\n",
    "Убедительная просьба сдавать задание **только 1 раз** (финальную версию).\n",
    "\n",
    "### Выполнение задания на виртуальной машине\n",
    "Если вы решите делать задание на виртуальной машине, для части с Pandas'ом можно не скачивать данные, а загрузить их из папки *data/2008.csv.bz2* (папка data находится в корне, совсем в корне). \n",
    "\n",
    "Также учтите, что ваш файл с заданием могут видеть все. Недоступность виртуальной машины не является уважительной причиной для продления дедлайна.\n",
    "\n",
    "Ввиду этого настоятельно советуем для выполнения задания поставить jupyter на свой рабочий компьютер."
   ]
  },
  {
   "cell_type": "markdown",
   "metadata": {},
   "source": [
    "## Numpy\n",
    "\n",
    "Для каждого из нижеприведенных пунктов следует \n",
    "\n",
    "*   Написать не менее двух вариантов кода различной эффективности. Должен быть как минимум один полностью векторизованный вариант (запрещается использовать циклы) и один вариант с использованием циклов (без векторизации)\n",
    "    \n",
    "*   Сравнить при помощи %timeit время работы каждого из вариантах на тестовых наборах разного размера (как минимум 3)\n",
    "    \n",
    "*   Проанализировать полученные данные о скорости работы разных реализаций (например, сделать таблицу/график)\n",
    "    \n",
    "*   Сделать выводы    "
   ]
  },
  {
   "cell_type": "code",
   "execution_count": 1,
   "metadata": {},
   "outputs": [],
   "source": [
    "import numpy as np\n",
    "import pandas as pd\n",
    "import matplotlib.pyplot as plt\n",
    "% matplotlib inline\n",
    "import timeit as tm"
   ]
  },
  {
   "cell_type": "markdown",
   "metadata": {},
   "source": [
    "**1.** Даны числа N и k. Построить одномерный вектор np.array длины N, содержащий зацикленную последовательность от 1 до k (включительно). Например:\n",
    "    \n",
    "    print(cycle_vec(10, 3))\n",
    "    > array([1, 2, 3, 1, 2, 3, 1, 2, 3, 1])"
   ]
  },
  {
   "cell_type": "code",
   "execution_count": 66,
   "metadata": {},
   "outputs": [
    {
     "name": "stdout",
     "output_type": "stream",
     "text": [
      "69\n",
      "29\n",
      "[ 1  2  3  4  5  6  7  8  9 10 11 12 13 14 15 16 17 18 19 20 21 22 23 24 25\n",
      " 26 27 28 29  1  2  3  4  5  6  7  8  9 10 11 12 13 14 15 16 17 18 19 20 21\n",
      " 22 23 24 25 26 27 28 29  1  2  3  4  5  6  7  8  9 10 11]\n",
      "10000 loops, best of 3: 41.5 µs per loop\n",
      "10000 loops, best of 3: 51.7 µs per loop\n",
      "10000 loops, best of 3: 39.9 µs per loop\n",
      "10000 loops, best of 3: 41.6 µs per loop\n",
      "10000 loops, best of 3: 43.7 µs per loop\n",
      "10000 loops, best of 3: 48.4 µs per loop\n"
     ]
    },
    {
     "data": {
      "image/png": "[encoded data removed]",
      "text/plain": [
       "<matplotlib.figure.Figure at 0x9774f28>"
      ]
     },
     "metadata": {},
     "output_type": "display_data"
    }
   ],
   "source": [
    "def cycle_vec(N, k):\n",
    "    sequence = list(range(1, k+1))\n",
    "    a = sequence*((N//k)+1)\n",
    "    return np.array(a[:N])\n",
    "\n",
    "def cycle_vec_2(N, k):\n",
    "    sequence = list(range(1, k+1))\n",
    "    remainder = list(range(1, (N%k)+1))\n",
    "    a = sequence*(N//k)+remainder\n",
    "    return np.array(a)\n",
    "\n",
    "def cycle_vec_3(N, k):\n",
    "    sequence = np.array(range(1, k+1))\n",
    "    main = np.tile(sequence, (N//k))\n",
    "    remainder = np.array(range(1, (N%k)+1))\n",
    "    a = np.concatenate((main, remainder), axis=0)\n",
    "    return np.array(a)\n",
    "\n",
    "def cycle_nonvec(N, k):\n",
    "    sequence = [i for i in range(1, k+1)]\n",
    "    a = sequence*((N//k)+1)\n",
    "    return np.array(a[:N])\n",
    "\n",
    "def cycle_nonvec_2(N, k):\n",
    "    sequence = [i for i in range(1, k+1)]\n",
    "    remainder = [i for i in range(1, (N%k)+1)]\n",
    "    a = sequence*(N//k) + remainder\n",
    "    return np.array(a)\n",
    "\n",
    "small_N = np.random.randint(40,70)\n",
    "small_k = np.random.randint(10,30)\n",
    "normal_N = np.random.randint(300,600)\n",
    "normal_k = np.random.randint(70,130)\n",
    "big_N = np.random.randint(2000,4000)\n",
    "big_k = np.random.randint(300,450)\n",
    "huge_N = np.random.randint(7000,9000)\n",
    "huge_k = np.random.randint(800,1100)\n",
    "\n",
    "print(small_N)\n",
    "print(small_k)\n",
    "print(cycle_vec(small_N, small_k))\n",
    "# результат работы на пробном наборе N, k\n",
    "\n",
    "%timeit cycle_vec_2(normal_N, normal_k)\n",
    "%timeit cycle_vec_3(normal_N, normal_k)\n",
    "# оказывается, concatenate работает гораздо медленнее, чем простое сложение, так что не будем использовать его:\n",
    "\n",
    "%timeit cycle_vec(normal_N, normal_k)\n",
    "%timeit cycle_vec_2(normal_N, normal_k)\n",
    "%timeit cycle_nonvec(normal_N, normal_k)\n",
    "%timeit cycle_nonvec_2(normal_N, normal_k)\n",
    "# оказывается, в обоих случаях быстрее сделать срез, чем определять и прибавлять еще этот \"хвост\" - remainder.\n",
    "# (быстрее для чисел любого размера)\n",
    "\n",
    "# сравним две лучшие функции\n",
    "plt.plot([1, 2, 3, 4], [min(tm.Timer(lambda: cycle_vec(small_N, small_k)).repeat(1000, 1)),\n",
    "                        min(tm.Timer(lambda: cycle_vec(normal_N, normal_k)).repeat(500, 1)),\n",
    "                        min(tm.Timer(lambda: cycle_vec(big_N, big_k)).repeat(200, 1)),\n",
    "                        min(tm.Timer(lambda: cycle_vec(huge_N, huge_k)).repeat(100, 1))], 'mp',\n",
    "         [1, 2, 3, 4], [min(tm.Timer(lambda: cycle_nonvec(small_N, small_k)).repeat(1000, 1)),\n",
    "                        min(tm.Timer(lambda: cycle_nonvec(normal_N, normal_k)).repeat(500, 1)),\n",
    "                        min(tm.Timer(lambda: cycle_nonvec(big_N, big_k)).repeat(200, 1)),\n",
    "                        min(tm.Timer(lambda: cycle_nonvec(huge_N, huge_k)).repeat(100, 1))], 'gp')\n",
    "# далее во всех графиках используются фиолетовые метки для векторного варианта и зеленые -- для не векторного\n",
    "\n",
    "plt.axis([0.5, 4.5, 0, 70*10**(-5)])\n",
    "plt.xlabel('tests, from small to huge')\n",
    "plt.ylabel('time, sec')\n",
    "plt.show()"
   ]
  },
  {
   "cell_type": "markdown",
   "metadata": {},
   "source": [
    "Видим, что вариант без циклов немножко быстрее, причем как на маленьких числах, так и на больших.\n",
    "Хотя все функции быстрее, если не переводить список в вектор."
   ]
  },
  {
   "cell_type": "markdown",
   "metadata": {},
   "source": [
    "**2.** Дан вектор np.array длины N. Построить матрицу размера N + 1 x N + 1, у которой над главной диагональю стоят элементы массива (остальные элементы должны быть нулевыми). Например:\n",
    "    \n",
    "    print(next_diagonal_vec(np.arange(1, 3)))\n",
    "    > array([[0, 1, 0],\n",
    "             [0, 0, 2],\n",
    "             [0, 0, 0]])"
   ]
  },
  {
   "cell_type": "code",
   "execution_count": 40,
   "metadata": {},
   "outputs": [
    {
     "name": "stdout",
     "output_type": "stream",
     "text": [
      "[8 9 7 5 6 6]\n",
      "[[0 8 0 0 0 0 0]\n",
      " [0 0 9 0 0 0 0]\n",
      " [0 0 0 7 0 0 0]\n",
      " [0 0 0 0 5 0 0]\n",
      " [0 0 0 0 0 6 0]\n",
      " [0 0 0 0 0 0 6]\n",
      " [0 0 0 0 0 0 0]]\n"
     ]
    },
    {
     "data": {
      "image/png": "[encoded data removed]",
      "text/plain": [
       "<matplotlib.figure.Figure at 0x9828d30>"
      ]
     },
     "metadata": {},
     "output_type": "display_data"
    }
   ],
   "source": [
    "def next_diagonal_vec(X):\n",
    "    matr = np.diagflat(X, 1)\n",
    "    return np.array(matr)\n",
    "\n",
    "def next_diagonal_nonvec(X):\n",
    "    N = len(X) \n",
    "    matr = [[0 for i in range(N+1)] for j in range(N+1)]\n",
    "    for i in range(N):\n",
    "        matr[i][i+1] = int(X[i])\n",
    "    return np.array(matr)\n",
    "\n",
    "small_X = [np.random.randint(5,10) for x in range(np.random.randint(5,10))]\n",
    "normal_X = [np.random.randint(5,15) for x in range(np.random.randint(10,25))]\n",
    "big_X = [np.random.randint(15,25) for x in range(np.random.randint(30,45))]\n",
    "huge_X = [np.random.randint(30,40) for x in range(np.random.randint(55,70))]\n",
    "\n",
    "\n",
    "print(np.array(small_X))\n",
    "print(next_diagonal_vec(small_X))\n",
    "# результат работы на пробном X\n",
    "\n",
    "plt.plot([1, 2, 3, 4], [min(tm.Timer(lambda: next_diagonal_vec(small_X)).repeat(500, 1)),\\\n",
    "                        min(tm.Timer(lambda: next_diagonal_vec(normal_X)).repeat(200, 1)),\\\n",
    "                        min(tm.Timer(lambda: next_diagonal_vec(big_X)).repeat(100, 1)),\\\n",
    "                        min(tm.Timer(lambda: next_diagonal_vec(huge_X)).repeat(50, 1))], 'mp',\\\n",
    "         [1, 2, 3, 4], [min(tm.Timer(lambda: next_diagonal_nonvec(small_X)).repeat(500, 1)),\\\n",
    "                        min(tm.Timer(lambda: next_diagonal_nonvec(normal_X)).repeat(200, 1)),\\\n",
    "                        min(tm.Timer(lambda: next_diagonal_nonvec(big_X)).repeat(100, 1)),\\\n",
    "                        min(tm.Timer(lambda: next_diagonal_nonvec(huge_X)).repeat(50, 1))], 'gp')\n",
    "plt.axis([0.5, 4.5, 0, 70*10**(-5)])\n",
    "plt.xlabel('tests, from small to huge')\n",
    "plt.ylabel('time, sec')\n",
    "plt.show()"
   ]
  },
  {
   "cell_type": "markdown",
   "metadata": {},
   "source": [
    "Векторизованный вариант работает очень быстро на больших числах (и время выполнения растет очень медленно при увеличении размера матрицы), на маленьких числах - лишь слегка быстрее решения через циклы."
   ]
  },
  {
   "cell_type": "markdown",
   "metadata": {},
   "source": [
    "**3.** Дана матрица X и два вектора i и j одинаковой длины. Построить вектор np.array, состоящий из последовательности элементов [X[i[0], j[0]], X[i[1], j[1]], ..., X[i[N-1], j[N-1]]]."
   ]
  },
  {
   "cell_type": "code",
   "execution_count": 57,
   "metadata": {},
   "outputs": [
    {
     "name": "stdout",
     "output_type": "stream",
     "text": [
      "[[16  0  0  9 14 11 15  9]\n",
      " [20 12 14 17  9 10 12 15]\n",
      " [15 19  3 12 12  2 16 14]\n",
      " [14 19 14 18  4  1 17  9]\n",
      " [20 17 16  0 18  8 17 13]]\n",
      "[2 1 0 4 2]\n",
      "[5 3 6 2 5]\n",
      "[ 2 17 15 16  2]\n"
     ]
    },
    {
     "data": {
      "image/png": "[encoded data removed]",
      "text/plain": [
       "<matplotlib.figure.Figure at 0x9291160>"
      ]
     },
     "metadata": {},
     "output_type": "display_data"
    }
   ],
   "source": [
    "def get_elemants_vec(X, i, j):\n",
    "    return np.array(X[i,j])\n",
    "\n",
    "def get_elemants_nonvec(X, i, j):\n",
    "    return np.array([X[i[k]][j[k]] for k in range(len(i))])\n",
    "\n",
    "small_len = np.random.randint(5,10)\n",
    "small_filling_i = np.random.randint(5,10)\n",
    "small_filling_j = np.random.randint(5,10)\n",
    "small_filling_X = np.random.randint(15,30)\n",
    "small_X = np.random.randint(small_filling_X, size=(small_filling_i, small_filling_j))\n",
    "small_i = np.random.randint(small_filling_i, size=(small_len))\n",
    "small_j = np.random.randint(small_filling_j, size=(small_len))\n",
    "\n",
    "normal_len = np.random.randint(10,20)\n",
    "normal_filling_i = np.random.randint(20,30)\n",
    "normal_filling_j = np.random.randint(15,35)\n",
    "normal_filling_X = np.random.randint(30,50)\n",
    "normal_X = np.random.randint(normal_filling_X, size=(normal_filling_i, normal_filling_j))\n",
    "normal_i = np.random.randint(normal_filling_i, size=(normal_len))\n",
    "normal_j = np.random.randint(normal_filling_j, size=(normal_len))\n",
    "\n",
    "big_len = np.random.randint(25,40)\n",
    "big_filling_i = np.random.randint(35,50)\n",
    "big_filling_j = np.random.randint(25,35)\n",
    "big_filling_X = np.random.randint(45,60)\n",
    "big_X = np.random.randint(big_filling_X, size=(big_filling_i, big_filling_j))\n",
    "big_i = np.random.randint(big_filling_i, size=(big_len))\n",
    "big_j = np.random.randint(big_filling_j, size=(big_len))\n",
    "\n",
    "huge_len = np.random.randint(50,70)\n",
    "huge_filling_i = np.random.randint(50,75)\n",
    "huge_filling_j = np.random.randint(50,75)\n",
    "huge_filling_X = np.random.randint(60,100)\n",
    "huge_X = np.random.randint(huge_filling_X, size=(huge_filling_i, huge_filling_j))\n",
    "huge_i = np.random.randint(huge_filling_i, size=(huge_len))\n",
    "huge_j = np.random.randint(huge_filling_j, size=(huge_len))\n",
    "\n",
    "print(small_X)\n",
    "print(small_i)\n",
    "print(small_j)\n",
    "print(get_elemants_vec(small_X, small_i, small_j))\n",
    "# результат работы на пробном наборе X, i, j\n",
    "\n",
    "plt.plot([1, 2, 3, 4], [min(tm.Timer(lambda: get_elemants_vec(small_X, small_i, small_j)).repeat(500, 1)),\\\n",
    "                        min(tm.Timer(lambda: get_elemants_vec(normal_X, normal_i, normal_j)).repeat(200, 1)),\\\n",
    "                        min(tm.Timer(lambda: get_elemants_vec(big_X, big_i, big_j)).repeat(100, 1)),\\\n",
    "                        min(tm.Timer(lambda: get_elemants_vec(huge_X, huge_i, huge_j)).repeat(50, 1))], 'mp',\\\n",
    "         [1, 2, 3, 4], [min(tm.Timer(lambda: get_elemants_nonvec(small_X, small_i, small_j)).repeat(500, 1)),\\\n",
    "                        min(tm.Timer(lambda: get_elemants_nonvec(normal_X, normal_i, normal_j)).repeat(200, 1)),\\\n",
    "                        min(tm.Timer(lambda: get_elemants_nonvec(big_X, big_i, big_j)).repeat(100, 1)),\\\n",
    "                        min(tm.Timer(lambda: get_elemants_nonvec(huge_X, huge_i, huge_j)).repeat(50, 1))], 'gp')\n",
    "plt.axis([0.5, 4.5, 0, 65*10**(-6)])\n",
    "plt.xlabel('tests, from small to huge')\n",
    "plt.ylabel('time, sec')\n",
    "plt.show()"
   ]
  },
  {
   "cell_type": "markdown",
   "metadata": {},
   "source": [
    "Было найдено очень быстрое и компактное решение на сайте http://www.cyberforum.ru/python/thread1659469.html, которое и вошло в ответ. Как видно, вариант без циклов опять всегда работает быстрее, и на матрицах малого размера, и на матрицах большого размера."
   ]
  },
  {
   "cell_type": "markdown",
   "metadata": {},
   "source": [
    "**4.** Дан одномерный вектор X. Найти в X минимальный ненулевой элемент, перед которым стоит нулевой. Например:\n",
    "    \n",
    "    print(min_postzero_vec(np.array([3, 5, 2, 0, 0, 7, 0, 5, 3, 0])))\n",
    "    > 5"
   ]
  },
  {
   "cell_type": "code",
   "execution_count": null,
   "metadata": {
    "collapsed": true
   },
   "outputs": [],
   "source": [
    "def min_postzero_vec(X):\n",
    "    return\n",
    "\n",
    "def min_postzero_nonvec(X):\n",
    "    return"
   ]
  },
  {
   "cell_type": "markdown",
   "metadata": {},
   "source": [
    "**5.** Дана матрица и некоторое число. Найти ближайший (по величине) к числу элемент матрицы. Например:\n",
    "\n",
    "    X = np.arange(0,10)\n",
    "    v = 3.6\n",
    "    print(nearest_value_vec(X, v))\n",
    "    > 4"
   ]
  },
  {
   "cell_type": "code",
   "execution_count": null,
   "metadata": {},
   "outputs": [],
   "source": [
    "def nearest_value_vec(X, v):\n",
    "    return\n",
    "\n",
    "def nearest_value_nonvec(X, v):\n",
    "    return"
   ]
  },
  {
   "cell_type": "markdown",
   "metadata": {},
   "source": [
    "**6.** Даны две выборки объектов X - np.array (N x D) и Y - np.array (M x D). Вычислить матрицу евклидовых расстояний между объектами"
   ]
  },
  {
   "cell_type": "code",
   "execution_count": null,
   "metadata": {
    "collapsed": true
   },
   "outputs": [],
   "source": [
    "def euclidean_vec(X, Y):\n",
    "    return\n",
    "\n",
    "def euclidean_nonvec(X, Y):\n",
    "    return"
   ]
  },
  {
   "cell_type": "markdown",
   "metadata": {},
   "source": [
    "**Пример работы %timeit**"
   ]
  },
  {
   "cell_type": "code",
   "execution_count": null,
   "metadata": {},
   "outputs": [],
   "source": [
    "def double_cycle(X, a, b):\n",
    "    Y = np.zeros((a, b))\n",
    "    N = X.shape[0]\n",
    "    for i in range(a):\n",
    "        for j in range(b):\n",
    "            Y[i, j] = X[(i*b + j) % N]\n",
    "    return Y\n",
    "\n",
    "%timeit double_cycle(np.arange(100, 2000), 10, 1500)"
   ]
  },
  {
   "cell_type": "markdown",
   "metadata": {},
   "source": [
    "## Pandas\n",
    "\n",
    "Ответьте на вопросы по данным об авиарейсах в США за январь-апрель 2008 года. В соответствующих блоках должен быть написан и выполнен программный код для получения ответов, ответы следует также вывести на экран.\n",
    "\n",
    "Загрузить данные можно здесь: http://stat-computing.org/dataexpo/2009/2008.csv.bz2 (обратите внимание, что распаковывать этот файл не обязательно — функция pandas.read_csv умеет читать из архивов автоматически)\n",
    "\n",
    "Описание датасета: http://stat-computing.org/dataexpo/2009/the-data.html"
   ]
  },
  {
   "cell_type": "markdown",
   "metadata": {},
   "source": [
    "**0.** Загрузите данные с помощью pandas в оперативную память."
   ]
  },
  {
   "cell_type": "code",
   "execution_count": 13,
   "metadata": {},
   "outputs": [],
   "source": [
    "flights = pd.read_csv('2008.csv.bz2') #(Данные должны лежать в той же папке, что и этот файл)"
   ]
  },
  {
   "cell_type": "markdown",
   "metadata": {},
   "source": [
    "**1.** Какая из причин отмены рейса (CancellationCode) была самой частой (расшифровки кодов можно найти в описании данных)? На какое максимальное время задерживали полет по этой причине?"
   ]
  },
  {
   "cell_type": "code",
   "execution_count": 14,
   "metadata": {},
   "outputs": [
    {
     "name": "stdout",
     "output_type": "stream",
     "text": [
      "B\n"
     ]
    }
   ],
   "source": [
    "total = flights['CancellationCode'].value_counts()\n",
    "print(total.idxmax())"
   ]
  },
  {
   "cell_type": "markdown",
   "metadata": {},
   "source": [
    "В описании данных видно, что причина B -- погода, следовательно, надо найти максимальную задержку из-за погоды (это WeatherDelay):"
   ]
  },
  {
   "cell_type": "code",
   "execution_count": 15,
   "metadata": {},
   "outputs": [
    {
     "name": "stdout",
     "output_type": "stream",
     "text": [
      "1352\n"
     ]
    }
   ],
   "source": [
    "print(int(flights.WeatherDelay.max()))"
   ]
  },
  {
   "cell_type": "markdown",
   "metadata": {},
   "source": [
    "Получаем, что максимальная задержка из-за неблагоприятных погодных условий -- 1352 минуты (примерно 22,5 часа)"
   ]
  },
  {
   "cell_type": "markdown",
   "metadata": {},
   "source": [
    "**2.** Каково среднее, минимальное и максимальное расстояние, пройденное самолетом?"
   ]
  },
  {
   "cell_type": "markdown",
   "metadata": {},
   "source": [
    "За пройденное расстояние отвечает Distance:"
   ]
  },
  {
   "cell_type": "code",
   "execution_count": 16,
   "metadata": {},
   "outputs": [
    {
     "name": "stdout",
     "output_type": "stream",
     "text": [
      "726.3870294253928\n",
      "11\n",
      "4962\n"
     ]
    }
   ],
   "source": [
    "print(flights.Distance.mean()) #(в милях)\n",
    "print(flights.Distance.min()) #(в милях)\n",
    "print(flights.Distance.max()) #(в милях)"
   ]
  },
  {
   "cell_type": "markdown",
   "metadata": {},
   "source": [
    "**3.** Не выглядит ли подозрительным минимальное пройденное расстояние? В какие дни и на каких рейсах оно было? Какое расстояние было пройдено этими же рейсами в другие дни?"
   ]
  },
  {
   "cell_type": "markdown",
   "metadata": {},
   "source": [
    "Найдем для всех самолетов, пролетевших только 11 миль, дату этого полета (Year, Month, DayofMonth, DayOfWeek), и номер рейса (\tFlightNum). А еще Origin и Dest -- аэропорт, из которого самолет вылетел и в который прилетел. Потому что интересно."
   ]
  },
  {
   "cell_type": "code",
   "execution_count": 17,
   "metadata": {},
   "outputs": [
    {
     "data": {
      "text/html": [
       "<div>\n",
       "<table border=\"1\" class=\"dataframe\">\n",
       "  <thead>\n",
       "    <tr style=\"text-align: right;\">\n",
       "      <th></th>\n",
       "      <th>FlightNum</th>\n",
       "      <th>Year</th>\n",
       "      <th>Month</th>\n",
       "      <th>DayofMonth</th>\n",
       "      <th>DayOfWeek</th>\n",
       "      <th>Origin</th>\n",
       "      <th>Dest</th>\n",
       "    </tr>\n",
       "  </thead>\n",
       "  <tbody>\n",
       "    <tr>\n",
       "      <th>2547298</th>\n",
       "      <td>4988</td>\n",
       "      <td>2008</td>\n",
       "      <td>5</td>\n",
       "      <td>15</td>\n",
       "      <td>4</td>\n",
       "      <td>JFK</td>\n",
       "      <td>LGA</td>\n",
       "    </tr>\n",
       "    <tr>\n",
       "      <th>4392215</th>\n",
       "      <td>5572</td>\n",
       "      <td>2008</td>\n",
       "      <td>8</td>\n",
       "      <td>10</td>\n",
       "      <td>7</td>\n",
       "      <td>JFK</td>\n",
       "      <td>LGA</td>\n",
       "    </tr>\n",
       "  </tbody>\n",
       "</table>\n",
       "</div>"
      ],
      "text/plain": [
       "         FlightNum  Year  Month  DayofMonth  DayOfWeek Origin Dest\n",
       "2547298       4988  2008      5          15          4    JFK  LGA\n",
       "4392215       5572  2008      8          10          7    JFK  LGA"
      ]
     },
     "execution_count": 17,
     "metadata": {},
     "output_type": "execute_result"
    }
   ],
   "source": [
    "flights[flights.Distance == 11][['FlightNum', 'Year', 'Month', 'DayofMonth', 'DayOfWeek', 'Origin', 'Dest']]"
   ]
  },
  {
   "cell_type": "markdown",
   "metadata": {},
   "source": [
    "Хмм, похоже на два соседних аэропорта...\n",
    "\n",
    "Да, один -- John F Kennedy Intl, в Нью-Йорке, второй -- LaGuardia, там же (для поиска можно использовать код, написанный ниже). Между ними всего 15 километров."
   ]
  },
  {
   "cell_type": "code",
   "execution_count": 18,
   "metadata": {},
   "outputs": [
    {
     "name": "stdout",
     "output_type": "stream",
     "text": [
      "1915    New York\n",
      "Name: city, dtype: object\n",
      "2061    New York\n",
      "Name: city, dtype: object\n"
     ]
    }
   ],
   "source": [
    "airports = pd.read_csv('airports.csv')\n",
    "print(airports[airports.iata == 'JFK'].city)\n",
    "print(airports[airports.iata == 'LGA'].city)"
   ]
  },
  {
   "cell_type": "markdown",
   "metadata": {},
   "source": [
    "Найдем все их полеты, которые они сделали в другое время:"
   ]
  },
  {
   "cell_type": "code",
   "execution_count": 19,
   "metadata": {},
   "outputs": [
    {
     "name": "stdout",
     "output_type": "stream",
     "text": [
      "FlightNum  Distance\n",
      "4988       834         130\n",
      "           96            1\n",
      "           11            1\n",
      "           414           1\n",
      "           223          11\n",
      "           712           4\n",
      "           321          18\n",
      "           903          59\n",
      "dtype: int64\n",
      "FlightNum  Distance\n",
      "5572       544         243\n",
      "           329         507\n",
      "           11            1\n",
      "           363          27\n",
      "           134          42\n",
      "           669           2\n",
      "           508           4\n",
      "dtype: int64\n"
     ]
    }
   ],
   "source": [
    "print(flights[flights.FlightNum == 4988].groupby(by=['FlightNum', 'Distance'], sort=False).size()) #без сортировки немного быстрее\n",
    "print(flights[flights.FlightNum == 5572].groupby(by=['FlightNum', 'Distance'], sort=False).size())"
   ]
  },
  {
   "cell_type": "markdown",
   "metadata": {},
   "source": [
    "С сортировкой по длине перелета:"
   ]
  },
  {
   "cell_type": "code",
   "execution_count": 20,
   "metadata": {},
   "outputs": [
    {
     "name": "stdout",
     "output_type": "stream",
     "text": [
      "FlightNum  Distance\n",
      "4988       11            1\n",
      "           96            1\n",
      "           223          11\n",
      "           321          18\n",
      "           414           1\n",
      "           712           4\n",
      "           834         130\n",
      "           903          59\n",
      "dtype: int64\n",
      "FlightNum  Distance\n",
      "5572       11            1\n",
      "           134          42\n",
      "           329         507\n",
      "           363          27\n",
      "           508           4\n",
      "           544         243\n",
      "           669           2\n",
      "dtype: int64\n"
     ]
    }
   ],
   "source": [
    "print(flights[flights.FlightNum == 4988].groupby(by=['FlightNum', 'Distance']).size())\n",
    "print(flights[flights.FlightNum == 5572].groupby(by=['FlightNum', 'Distance']).size())"
   ]
  },
  {
   "cell_type": "markdown",
   "metadata": {},
   "source": [
    "Видим, что это два абсолютно разных рейса (т.е. других одинаковых маршрутов у них нет)."
   ]
  },
  {
   "cell_type": "markdown",
   "metadata": {},
   "source": [
    "**4.** Из какого аэропорта было произведено больше всего вылетов? В каком городе он находится?"
   ]
  },
  {
   "cell_type": "code",
   "execution_count": 21,
   "metadata": {},
   "outputs": [
    {
     "name": "stdout",
     "output_type": "stream",
     "text": [
      "ATL\n",
      "414513\n",
      "880    Atlanta\n",
      "Name: city, dtype: object\n"
     ]
    }
   ],
   "source": [
    "print(flights.Origin.value_counts().idxmax())\n",
    "print(flights.Origin.value_counts().max())\n",
    "print(airports[airports.iata == flights.Origin.value_counts().idxmax()].city)"
   ]
  },
  {
   "cell_type": "markdown",
   "metadata": {},
   "source": [
    "\"ATL\" находится в Атланте, максимальное количество полетов было произведено из него (414513)"
   ]
  },
  {
   "cell_type": "markdown",
   "metadata": {},
   "source": [
    "**5.** Найдите для каждого аэропорта среднее время полета (AirTime) по всем вылетевшим из него рейсам. Какой аэропорт имеет наибольшее значение этого показателя?"
   ]
  },
  {
   "cell_type": "code",
   "execution_count": 22,
   "metadata": {},
   "outputs": [
    {
     "name": "stdout",
     "output_type": "stream",
     "text": [
      "           AirTime\n",
      "Origin            \n",
      "ABE      89.057518\n",
      "ABI      36.789977\n",
      "ABQ      91.657166\n",
      "ABY      35.379759\n",
      "ACK      50.692124\n",
      "ACT      29.875977\n",
      "ACV      58.850658\n",
      "ACY     108.848214\n",
      "ADK     151.423913\n",
      "ADQ      41.987934\n",
      "AEX      68.543556\n",
      "AGS      36.933814\n",
      "AKN      37.321429\n",
      "ALB     101.860527\n",
      "ALO      36.373134\n",
      "AMA      56.196001\n",
      "ANC     156.163749\n",
      "ASE      48.307996\n",
      "ATL      93.320419\n",
      "ATW      50.696326\n",
      "AUS     101.266600\n",
      "AVL      69.899021\n",
      "AVP      94.665204\n",
      "AZO      34.846602\n",
      "BDL     118.701612\n",
      "BET      57.597815\n",
      "BFL      64.024511\n",
      "BGM      66.582260\n",
      "BGR      90.211095\n",
      "BHM      82.290713\n",
      "...            ...\n",
      "SPS      29.490040\n",
      "SRQ     103.083807\n",
      "STL      99.294409\n",
      "STT     168.681929\n",
      "STX     168.101176\n",
      "SUN      48.221851\n",
      "SUX      44.918919\n",
      "SWF     132.768826\n",
      "SYR      84.524087\n",
      "TEX      93.124183\n",
      "TLH      59.293080\n",
      "TOL      48.295047\n",
      "TPA     117.917963\n",
      "TRI      47.871046\n",
      "TUL      80.876802\n",
      "TUP      42.900000\n",
      "TUS      92.801864\n",
      "TVC      49.328770\n",
      "TWF      41.316563\n",
      "TXK      43.796312\n",
      "TYR      30.372715\n",
      "TYS      81.030894\n",
      "VLD      45.158351\n",
      "VPS      75.231116\n",
      "WRG      16.741606\n",
      "WYS      62.961977\n",
      "XNA      84.253180\n",
      "YAK      36.372159\n",
      "YKM      80.697329\n",
      "YUM      48.876952\n",
      "\n",
      "[303 rows x 1 columns]\n",
      "SJU\n",
      "203.850842697\n"
     ]
    }
   ],
   "source": [
    "a = flights.groupby('Origin')['Origin', 'AirTime'].mean()\n",
    "print(a)\n",
    "print(a.idxmax()[0])\n",
    "print(a.max()[0])"
   ]
  },
  {
   "cell_type": "markdown",
   "metadata": {},
   "source": [
    "Итак, таблица со средним временем полета из каждого аэропорта есть, максимальное среднее время полета достигается в аэропорте SJU (204 минуты). Только как-то подозрительно, что бывает среднее время полета 17 минут.."
   ]
  },
  {
   "cell_type": "code",
   "execution_count": 23,
   "metadata": {},
   "outputs": [
    {
     "data": {
      "text/plain": [
       "FlightNum  Distance  Dest  AirTime\n",
       "64         82        KTN   14          1\n",
       "                           17          2\n",
       "                           18         22\n",
       "                           19         38\n",
       "                           20         63\n",
       "                           21         68\n",
       "                           22         46\n",
       "                           23         29\n",
       "                           24         22\n",
       "                           25         13\n",
       "                           26         16\n",
       "                           27          6\n",
       "                           28          5\n",
       "                           29          2\n",
       "                           30          3\n",
       "                           35          1\n",
       "                           42          1\n",
       "                           54          1\n",
       "                           68          1\n",
       "65         31        PSG   7           4\n",
       "                           8          31\n",
       "                           9          92\n",
       "                           10         68\n",
       "                           11         29\n",
       "                           12         12\n",
       "                           13         14\n",
       "                           14         14\n",
       "                           15         31\n",
       "                           16         31\n",
       "                           17          8\n",
       "                           18          3\n",
       "                           19          2\n",
       "                           23          1\n",
       "                           32          1\n",
       "                           33          1\n",
       "                           36          1\n",
       "                           39          1\n",
       "                           40          1\n",
       "dtype: int64"
      ]
     },
     "execution_count": 23,
     "metadata": {},
     "output_type": "execute_result"
    }
   ],
   "source": [
    "flights[flights.Origin == 'WRG'].groupby(['FlightNum', 'Distance', 'Dest', 'AirTime']).size()"
   ]
  },
  {
   "cell_type": "markdown",
   "metadata": {},
   "source": [
    "Ясно, это опять перегон самолетов в соседний аэропорт, который находится очень близко."
   ]
  },
  {
   "cell_type": "markdown",
   "metadata": {},
   "source": [
    "**6.** Найдите самое популярное направление и сколько рейсов по нему совершено. Ответом является тройка (Аэропорт отправления, аэропорт прибытия, количество рейсов)"
   ]
  },
  {
   "cell_type": "code",
   "execution_count": 24,
   "metadata": {},
   "outputs": [
    {
     "name": "stdout",
     "output_type": "stream",
     "text": [
      "SFO, LAX, 13788\n"
     ]
    }
   ],
   "source": [
    "fl = flights.groupby(by = ['Origin', 'Dest'], sort = True)['Origin', 'Dest'].size()\n",
    "print(fl.idxmax()[0], fl.idxmax()[1], fl.max(), sep=', ')"
   ]
  },
  {
   "cell_type": "code",
   "execution_count": 25,
   "metadata": {},
   "outputs": [
    {
     "name": "stdout",
     "output_type": "stream",
     "text": [
      "2934    San Francisco\n",
      "Name: city, dtype: object\n",
      "2039    Los Angeles\n",
      "Name: city, dtype: object\n"
     ]
    }
   ],
   "source": [
    "print(airports[airports.iata == fl.idxmax()[0]].city)\n",
    "print(airports[airports.iata == fl.idxmax()[1]].city)"
   ]
  },
  {
   "cell_type": "markdown",
   "metadata": {},
   "source": [
    "Итого, чаще всего летали из аэропорта SFO (Сан-Франциско) в аэропорт LAX (Лос-Анджелес) -- всего совершено 13788 полетов."
   ]
  },
  {
   "cell_type": "markdown",
   "metadata": {},
   "source": [
    "**7.** Найдите аэропорт, у которого наибольшая доля задержанных (DepDelay > 0) рейсов. Исключите при этом из рассмотрения аэропорты, из которых было отправлено меньше 500 рейсов (используйте функцию filter после groupby)."
   ]
  },
  {
   "cell_type": "code",
   "execution_count": 27,
   "metadata": {},
   "outputs": [
    {
     "name": "stdout",
     "output_type": "stream",
     "text": [
      "ORD\n"
     ]
    }
   ],
   "source": [
    "fl_delayed = flights[flights.DepDelay > 0].groupby(by = ['Origin'], sort = False).filter(lambda elem: len(elem) >= 500)[['Origin', 'DepDelay']]\n",
    "# составили список из всех кандидатов (аэропортов), которые могут попасть в ответ\n",
    "fl_total_delays = fl_delayed.groupby(by = ['Origin'], sort = False).sum()\n",
    "# просуммировали количество рейсов, которые задерживали и нашли их количество\n",
    "# (возможная сортировка по умолчанию у groupby отключена, так как иначе работа программы сильно замедляется)\n",
    "print(fl_total_delays.idxmax()[0]) # нашли ответ"
   ]
  },
  {
   "cell_type": "code",
   "execution_count": 28,
   "metadata": {},
   "outputs": [
    {
     "name": "stdout",
     "output_type": "stream",
     "text": [
      "2531    Chicago\n",
      "Name: city, dtype: object\n"
     ]
    }
   ],
   "source": [
    "print(airports[airports.iata == 'ORD'].city)"
   ]
  },
  {
   "cell_type": "markdown",
   "metadata": {},
   "source": [
    "Во время выполнения задания я пользовался:\n",
    "\n",
    "https://docs.python.org/2/library/timeit.html\n",
    "\n",
    "https://ru.wikipedia.org/wiki/Функциональное_программирование_на_Python\n",
    "\n",
    "http://pandas.pydata.org/"
   ]
  },
  {
   "cell_type": "code",
   "execution_count": null,
   "metadata": {
    "collapsed": true
   },
   "outputs": [],
   "source": []
  }
 ],
 "metadata": {
  "kernelspec": {
   "display_name": "Python 3",
   "language": "python",
   "name": "python3"
  },
  "language_info": {
   "codemirror_mode": {
    "name": "ipython",
    "version": 3
   },
   "file_extension": ".py",
   "mimetype": "text/x-python",
   "name": "python",
   "nbconvert_exporter": "python",
   "pygments_lexer": "ipython3",
   "version": "3.7.3"
  }
 },
 "nbformat": 4,
 "nbformat_minor": 1
}
