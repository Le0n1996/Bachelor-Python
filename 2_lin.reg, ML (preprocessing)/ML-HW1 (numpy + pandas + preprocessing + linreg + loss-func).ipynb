{
 "cells": [
  {
   "cell_type": "markdown",
   "metadata": {
    "colab_type": "text",
    "id": "rK6FkgeRrOdN"
   },
   "source": [
    "# Машинное обучение, ФКН ВШЭ\n",
    "\n",
    "# Практическое задание 1\n",
    "\n",
    "## Общая информация\n",
    "\n",
    "Дата выдачи: 16.09.2016\n",
    "\n",
    "Срок сдачи: 30.09.2016 23:59MSK\n",
    "\n",
    "### О задании\n",
    "\n",
    "Практическое задание 1 посвящено изучению основных библиотек для анализа данных, а также линейных моделей и методов их обучения. Вы научитесь:\n",
    " * применять библиотеки NumPy и Pandas для осуществления желаемых преобразований;\n",
    " * подготавливать данные для обучения линейных моделей;\n",
    " * обучать линейную, Lasso и Ridge-регрессии при помощи модуля scikit-learn;\n",
    " * реализовывать обычный и стохастический градиентные спуски;\n",
    " * обучать линейную регрессию для произвольного функционала качества.\n",
    " \n",
    "\n",
    "### Оценивание и штрафы\n",
    "\n",
    "Каждая из задач имеет определенную «стоимость» (указана в скобках около задачи). Максимально допустимая оценка за работу — 10 баллов. Кроме того, некоторые из заданий являются опциональными (необязательными), однако за их выполнение можно получить дополнительные баллы, которые позднее будут учитываться при проставлении оценок автоматом по курсу.\n",
    "\n",
    "Сдавать задание после указанного срока сдачи нельзя. При выставлении неполного балла за задание в связи с наличием ошибок на усмотрение проверяющего предусмотрена возможность исправить работу на указанных в ответном письме условиях.\n",
    "\n",
    "Задание выполняется самостоятельно. «Похожие» решения считаются плагиатом и все задействованные студенты (в том числе те, у кого списали) не могут получить за него больше 0 баллов (подробнее о плагиате см. на странице курса). Если вы нашли решение какого-то из заданий (или его часть) в открытом источнике, необходимо указать ссылку на этот источник в отдельном блоке в конце Вашей работы (скорее всего вы будете не единственным, кто это нашел, поэтому чтобы исключить подозрение в плагиате, необходима ссылка на источник). \n",
    "\n",
    "Неэффективная реализация кода может негативно отразиться на оценке.\n",
    "\n",
    "\n",
    "### Формат сдачи\n",
    "Для сдачи задания переименуйте получившийся файл \\*.ipynb в соответствии со следующим форматом: *HW1_Username.ipynb*, где *Username* — Ваша фамилия и инициалы на латинице (например, *HW1_IvanovII.ipynb*). Далее отправьте этот файл на hse.cs.ml+<номер группы>@gmail.com (например, hse.cs.ml+141@gmail.com для студентов группы БПМИ-141)."
   ]
  },
  {
   "cell_type": "markdown",
   "metadata": {
    "colab_type": "text",
    "id": "iTTfNFwBrOdQ"
   },
   "source": [
    "## Библиотеки для анализа данных\n",
    "\n",
    "### NumPy\n",
    "\n",
    "Во всех заданиях данного раздела запрещено использовать циклы  и list comprehensions. Под вектором и матрицей в данных заданиях понимается одномерный и двумерный numpy.array соответственно."
   ]
  },
  {
   "cell_type": "code",
   "execution_count": 0,
   "metadata": {
    "colab": {
     "autoexec": {
      "startup": false,
      "wait_interval": 0
     }
    },
    "colab_type": "code",
    "collapsed": true,
    "id": "Bxuvd6V3rOdR"
   },
   "outputs": [],
   "source": [
    "import numpy as np"
   ]
  },
  {
   "cell_type": "markdown",
   "metadata": {
    "colab_type": "text",
    "id": "NVXSY_SqrOdX"
   },
   "source": [
    "**1. (0.2 балла)** Реализуйте функцию, возвращающую максимальный элемент в векторе x среди элементов, перед которыми стоит нулевой. Для x = np.array([6, 2, 0, 3, 0, 0, 5, 7, 0]) ответом является 5. Если нулевых элементов нет, функция должна возвращать None.\n"
   ]
  },
  {
   "cell_type": "code",
   "execution_count": 0,
   "metadata": {
    "colab": {
     "autoexec": {
      "startup": false,
      "wait_interval": 0
     }
    },
    "colab_type": "code",
    "collapsed": true,
    "id": "XfMO162grOdZ"
   },
   "outputs": [],
   "source": [
    "def max_element(arr):\n",
    "    result = x[1:][x[:-1] == 0]\n",
    "    if result.size == 0:\n",
    "        return None\n",
    "    else:\n",
    "        return result.max()"
   ]
  },
  {
   "cell_type": "markdown",
   "metadata": {
    "colab_type": "text",
    "id": "JFVwKxDFrOde"
   },
   "source": [
    "**2. (0.2 балла)** Реализуйте функцию, принимающую на вход матрицу и некоторое число и возвращающую ближайший к числу элемент матрицы. Например: для X = np.arange(0,10).reshape((2, 5)) и v = 3.6 ответом будет 4."
   ]
  },
  {
   "cell_type": "code",
   "execution_count": 0,
   "metadata": {
    "colab": {
     "autoexec": {
      "startup": false,
      "wait_interval": 0
     }
    },
    "colab_type": "code",
    "collapsed": true,
    "id": "omnR-tcGrOdf"
   },
   "outputs": [],
   "source": [
    "def nearest_value(X, v):\n",
    "    return X.reshape(-1)[np.argmin(abs(X - v))]"
   ]
  },
  {
   "cell_type": "markdown",
   "metadata": {
    "colab_type": "text",
    "id": "YtGr2xRKrOdj"
   },
   "source": [
    "**3. (0.2 балла)** Реализуйте функцию scale(X), которая принимает на вход матрицу и масштабирует каждый ее столбец (вычитает выборочное среднее и делит на стандартное отклонение). Убедитесь, что в функции не будет происходить деления на ноль. Протестируйте на случайной матрице (для её генерации можно использовать, например, функцию [numpy.random.randint](http://docs.scipy.org/doc/numpy/reference/generated/numpy.random.randint.html))."
   ]
  },
  {
   "cell_type": "code",
   "execution_count": 0,
   "metadata": {
    "colab": {
     "autoexec": {
      "startup": false,
      "wait_interval": 0
     }
    },
    "colab_type": "code",
    "id": "kUOecoDurOdl",
    "outputId": "bbddc6eb-b756-4887-afaa-f387f3e60725"
   },
   "outputs": [
    {
     "name": "stdout",
     "output_type": "stream",
     "text": [
      "[[2 2 0]\n",
      " [4 3 3]\n",
      " [4 4 4]]\n",
      "[[-1.09544512 -0.82158384 -1.91702895]\n",
      " [ 0.54772256  0.          0.54772256]\n",
      " [ 0.54772256  0.82158384  1.36930639]]\n"
     ]
    }
   ],
   "source": [
    "def scale(X):\n",
    "    X = X - np.mean(X, axis = 0)\n",
    "    std = np.std(X)\n",
    "    if std != 0:\n",
    "        return X/np.std(X)\n",
    "    else:\n",
    "        return None\n",
    "\n",
    "X = np.random.randint(5, size=(3, 3))\n",
    "print(X)\n",
    "print(scale(X))"
   ]
  },
  {
   "cell_type": "markdown",
   "metadata": {
    "colab_type": "text",
    "id": "2satwzq4rOdt"
   },
   "source": [
    "**4. (0.2 балла)** Реализуйте функцию, которая для заданной матрицы находит:\n",
    " - определитель\n",
    " - след\n",
    " - наименьший и наибольший элементы\n",
    " - норму Фробениуса\n",
    " - собственные числа\n",
    " - обратную матрицу\n",
    "\n",
    "Для тестирования сгенерируйте матрицу с элементами из нормального распределения $\\mathcal{N}$(10,1)"
   ]
  },
  {
   "cell_type": "code",
   "execution_count": 0,
   "metadata": {
    "colab": {
     "autoexec": {
      "startup": false,
      "wait_interval": 0
     }
    },
    "colab_type": "code",
    "id": "2DoCBrvSrOdv",
    "outputId": "5dfaf921-4b23-4265-bc3a-60f22c40ba4a"
   },
   "outputs": [
    {
     "name": "stdout",
     "output_type": "stream",
     "text": [
      "[[  9.20257601   8.74767304   7.59789149]\n",
      " [ 10.15758808   9.33816434   9.8288341 ]\n",
      " [ 10.58207757   9.41026999  11.40669324]]\n",
      "0.815032162407\n",
      "29.9474335896\n",
      "7.59789148821 11.4066932372\n",
      "28.9234719559\n",
      "[  2.87056359e+01   2.33014733e-02   1.21849624e+00]\n",
      "[[ 17.20863813 -34.70269522  18.43984619]\n",
      " [-14.54544611  30.14541706 -16.28689209]\n",
      " [ -3.96491495   7.32465557  -3.58279389]]\n"
     ]
    }
   ],
   "source": [
    "def get_stats(X):\n",
    "    print(np.linalg.det(X))\n",
    "    print(np.trace(X))\n",
    "    print(X.min(), X.max())\n",
    "    print(np.linalg.norm(X, 'fro'))\n",
    "    print(np.linalg.eigvals(X))\n",
    "    print(np.linalg.inv(X))\n",
    "    \n",
    "N = 1 * np.random.randn(3, 3) + 10\n",
    "print(N)\n",
    "get_stats(N)\n",
    "\n",
    "X = np.empty(100) # для следующего задания"
   ]
  },
  {
   "cell_type": "markdown",
   "metadata": {
    "colab_type": "text",
    "id": "0piZF9XjrOd1"
   },
   "source": [
    "**5. (0.2 балла)** Повторите 100 раз следующий эксперимент: сгенерируйте две матрицы размера 10×10 из стандартного нормального распределения, перемножьте их (как матрицы) и найдите максимальный элемент. Какое среднее значение по экспериментам у максимальных элементов? 95-процентная квантиль?"
   ]
  },
  {
   "cell_type": "code",
   "execution_count": 0,
   "metadata": {
    "colab": {
     "autoexec": {
      "startup": false,
      "wait_interval": 0
     }
    },
    "colab_type": "code",
    "id": "-hAi5EgNrOd3",
    "outputId": "9130d6f2-67db-40c1-9ca7-0e881cd6a0d3"
   },
   "outputs": [
    {
     "name": "stdout",
     "output_type": "stream",
     "text": [
      "8.40213171574\n",
      "11.8743005818\n"
     ]
    }
   ],
   "source": [
    "for exp_num in range(100):\n",
    "    A = np.random.randn(10, 10)\n",
    "    B = np.random.randn(10, 10)\n",
    "    X[exp_num - 1] = A.dot(B).max()\n",
    "print(np.mean(X))\n",
    "print(np.percentile(X, 95))"
   ]
  },
  {
   "cell_type": "markdown",
   "metadata": {
    "colab_type": "text",
    "id": "PTZko_BErOd8"
   },
   "source": [
    "### Pandas\n",
    "\n",
    "![](https://metrouk2.files.wordpress.com/2015/10/panda.jpg)\n",
    "\n",
    "#### Ответьте на вопросы о данных по авиарейсам в США за январь-апрель 2008 года.\n",
    "\n",
    "[Данные](https://www.dropbox.com/s/dvfitn93obn0rql/2008.csv?dl=0) и их [описание](http://stat-computing.org/dataexpo/2009/the-data.html)"
   ]
  },
  {
   "cell_type": "code",
   "execution_count": 0,
   "metadata": {
    "colab": {
     "autoexec": {
      "startup": false,
      "wait_interval": 0
     }
    },
    "colab_type": "code",
    "collapsed": true,
    "id": "YsLglBn2rOd-"
   },
   "outputs": [],
   "source": [
    "import pandas as pd\n",
    "%matplotlib inline"
   ]
  },
  {
   "cell_type": "markdown",
   "metadata": {
    "colab_type": "text",
    "id": "8sgEBCBJrOeC"
   },
   "source": [
    "**6. (0.3 балла)** Какая из причин отмены рейса (`CancellationCode`) была самой частой? (расшифровки кодов можно найти в описании данных)"
   ]
  },
  {
   "cell_type": "code",
   "execution_count": 0,
   "metadata": {
    "colab": {
     "autoexec": {
      "startup": false,
      "wait_interval": 0
     }
    },
    "colab_type": "code",
    "id": "FL-i6NN8rOeF",
    "outputId": "d33c50b2-7dcd-4c18-fda1-85db94fecb24"
   },
   "outputs": [
    {
     "name": "stdout",
     "output_type": "stream",
     "text": [
      "A\n"
     ]
    }
   ],
   "source": [
    "data = pd.read_csv('2008.csv')\n",
    "#data = data[(data.Month >= 1) & (data.Month <= 4)] - на случай, если данные нужно брать действительно только за 4 месяца\n",
    "print(data['CancellationCode'].value_counts().idxmax())"
   ]
  },
  {
   "cell_type": "markdown",
   "metadata": {
    "colab_type": "text",
    "id": "AhShxsdIrOeK"
   },
   "source": [
    "**7. (0.3 балла)** Найдите среднее, минимальное и максимальное расстояние, пройденное самолетом."
   ]
  },
  {
   "cell_type": "code",
   "execution_count": 0,
   "metadata": {
    "colab": {
     "autoexec": {
      "startup": false,
      "wait_interval": 0
     }
    },
    "colab_type": "code",
    "id": "Tiul67AwrOeM",
    "outputId": "baa2c54d-359b-4346-a8c6-fbd43761dc23"
   },
   "outputs": [
    {
     "name": "stdout",
     "output_type": "stream",
     "text": [
      "724.5082571428571 31 4962\n"
     ]
    }
   ],
   "source": [
    "print(data['Distance'].mean(), data['Distance'].min(), data['Distance'].max())"
   ]
  },
  {
   "cell_type": "markdown",
   "metadata": {
    "colab_type": "text",
    "id": "rD-rSANKrOeT"
   },
   "source": [
    "**8. (0.3 балла)** Не выглядит ли подозрительным минимальное пройденное расстояние? В какие дни и на каких рейсах оно было? Какое расстояние было пройдено этими же рейсами в другие дни?"
   ]
  },
  {
   "cell_type": "code",
   "execution_count": 0,
   "metadata": {
    "colab": {
     "autoexec": {
      "startup": false,
      "wait_interval": 0
     }
    },
    "colab_type": "code",
    "id": "Hs7yApmXrOeV",
    "outputId": "370b6a11-d66f-42ec-bc4a-f08bedc17655"
   },
   "outputs": [
    {
     "name": "stdout",
     "output_type": "stream",
     "text": [
      "       Month  DayofMonth  FlightNum Origin Dest\n",
      "1116      12          30         65    WRG  PSG\n",
      "6958      12          26         65    WRG  PSG\n",
      "17349      8          18         64    PSG  WRG\n",
      "27534      3          11         64    PSG  WRG\n",
      "46082      8           9         65    WRG  PSG\n",
      "48112      2          28         64    PSG  WRG\n",
      "FlightNum  Distance\n",
      "64         1747        6\n",
      "           82          5\n",
      "           1005        5\n",
      "           123         4\n",
      "           533         4\n",
      "           571         3\n",
      "           680         3\n",
      "           2381        2\n",
      "           359         1\n",
      "           372         1\n",
      "           414         1\n",
      "           883         1\n",
      "65         82          6\n",
      "           1747        6\n",
      "           581         4\n",
      "           1005        4\n",
      "           372         3\n",
      "           571         3\n",
      "           2454        3\n",
      "           123         2\n",
      "           680         2\n",
      "           281         1\n",
      "           386         1\n",
      "           682         1\n",
      "Name: Distance, dtype: int64\n"
     ]
    }
   ],
   "source": [
    "print(data[data.Distance == data.Distance.min()][['Month', 'DayofMonth', 'FlightNum', 'Origin', 'Dest']])\n",
    "weird_flight_numbers = data[data.Distance == data.Distance.min()]['FlightNum']\n",
    "weird_data = data[data.FlightNum.isin(weird_flight_numbers) == True & (data.Distance != data.Distance.min())]\n",
    "print(weird_data.groupby('FlightNum')['Distance'].value_counts())"
   ]
  },
  {
   "cell_type": "markdown",
   "metadata": {
    "colab_type": "text",
    "id": "f5XI5lKCrOeb"
   },
   "source": [
    "<img src = \"https://pp.vk.me/c638918/v638918390/4c16/UXP6yu3qEts.jpg\">"
   ]
  },
  {
   "cell_type": "markdown",
   "metadata": {
    "colab_type": "text",
    "id": "C0g53yRsrOec"
   },
   "source": [
    "**9. (0.3 балла)** Из какого аэропорта было произведено больше всего вылетов? В каком городе он находится?"
   ]
  },
  {
   "cell_type": "code",
   "execution_count": 0,
   "metadata": {
    "colab": {
     "autoexec": {
      "startup": false,
      "wait_interval": 0
     }
    },
    "colab_type": "code",
    "id": "kWN5jX8PrOee",
    "outputId": "26dbbc14-e846-4df8-dd31-c31252d64d8c"
   },
   "outputs": [
    {
     "name": "stdout",
     "output_type": "stream",
     "text": [
      "ATL\n",
      "['Atlanta']\n"
     ]
    }
   ],
   "source": [
    "airport_data = pd.read_csv('airports.csv')\n",
    "iata_code = data['Origin'].value_counts().idxmax()\n",
    "print(iata_code)\n",
    "print(airport_data[airport_data.iata == iata_code]['city'].values)"
   ]
  },
  {
   "cell_type": "markdown",
   "metadata": {
    "colab_type": "text",
    "id": "6RgWPITzrOej"
   },
   "source": [
    "**10. (0.3 балла)** Найдите для каждого аэропорта среднее время полета (`AirTime`) по всем вылетевшим из него рейсам. Какой аэропорт имеет наибольшее значение этого показателя?"
   ]
  },
  {
   "cell_type": "code",
   "execution_count": 0,
   "metadata": {
    "colab": {
     "autoexec": {
      "startup": false,
      "wait_interval": 0
     }
    },
    "colab_type": "code",
    "id": "ouSyFBzgrOek",
    "outputId": "aeabf339-6b6e-44d7-fe0d-16d4e944ed07"
   },
   "outputs": [
    {
     "name": "stdout",
     "output_type": "stream",
     "text": [
      "SJU\n"
     ]
    }
   ],
   "source": [
    "air_time = data.groupby('Origin')['AirTime'].mean()\n",
    "print(air_time.idxmax())"
   ]
  },
  {
   "cell_type": "markdown",
   "metadata": {
    "colab_type": "text",
    "id": "beLS86bxrOes"
   },
   "source": [
    "**11. (0.5 балла)** Найдите аэропорт, у которого наибольшая доля задержанных (`DepDelay > 0`) рейсов. Исключите при этом из рассмотрения аэропорты, из которых было отправлено меньше 1000 рейсов (используйте функцию `filter` после `groupby`)."
   ]
  },
  {
   "cell_type": "code",
   "execution_count": 0,
   "metadata": {
    "colab": {
     "autoexec": {
      "startup": false,
      "wait_interval": 0
     }
    },
    "colab_type": "code",
    "id": "8RA-Z1lfrOet",
    "outputId": "6b05a9ba-32b4-4c92-b83b-60c25b6a2aa7"
   },
   "outputs": [
    {
     "name": "stdout",
     "output_type": "stream",
     "text": [
      "EWR\n"
     ]
    }
   ],
   "source": [
    "new_data = data.groupby('Origin').filter(lambda x: x['Origin'].value_counts() >= 1000)\n",
    "print((new_data['Origin'][new_data.DepDelay > 0].value_counts()/new_data['Origin'].value_counts()).idxmax())"
   ]
  },
  {
   "cell_type": "markdown",
   "metadata": {
    "colab_type": "text",
    "id": "QORT-o4OrOe1"
   },
   "source": [
    "## Линейная регрессия\n",
    "\n",
    "В этой части мы разберемся с линейной регрессией, способами её обучения и измерением качества ее прогнозов. \n",
    "\n",
    "Будем рассматривать датасет из предыдущей части задания для предсказания времени задержки отправления рейса в минутах (DepDelay). Отметим, что под задержкой подразумевается не только опоздание рейса относительно планируемого времени вылета, но и отправление до планируемого времени.\n",
    "\n",
    "### Подготовка данных\n",
    "\n",
    "**12. (0.5 балла)** Считайте выборку из файла при помощи функции pd.read_csv и ответьте на следующие вопросы:\n",
    "   - Имеются ли в данных пропущенные значения?\n",
    "   - Сколько всего пропущенных элементов в таблице \"объект-признак\"?\n",
    "   - Сколько объектов имеют хотя бы один пропуск?\n",
    "   - Сколько признаков имеют хотя бы одно пропущенное значение?"
   ]
  },
  {
   "cell_type": "code",
   "execution_count": 0,
   "metadata": {
    "colab": {
     "autoexec": {
      "startup": false,
      "wait_interval": 0
     }
    },
    "colab_type": "code",
    "id": "16BAlyzXrOe3",
    "outputId": "731702f0-ff75-43fc-84c0-ca697b547a5a"
   },
   "outputs": [
    {
     "name": "stdout",
     "output_type": "stream",
     "text": [
      "- True\n",
      "- 355215\n",
      "- 70000\n",
      "- 16\n"
     ]
    }
   ],
   "source": [
    "data = pd.read_csv('2008.csv')\n",
    "print('-', data.isnull().any().any())\n",
    "print('-', data.isnull().sum().sum())\n",
    "print('-', data.isnull().any(1).sum())\n",
    "print('-', data.isnull().any().sum())"
   ]
  },
  {
   "cell_type": "markdown",
   "metadata": {
    "colab_type": "text",
    "id": "qynC0gXRrOfC"
   },
   "source": [
    "Как вы понимаете, также не имеет смысла рассматривать при решении поставленной задачи объекты с пропущенным значением целевой переменной. В связи с этим ответьте на следующие вопросы и выполните соответствующие действия:\n",
    "- Имеются ли пропущенные значения в целевой переменной?\n",
    "- Проанализируйте объекты с пропущенными значениями целевой переменной. Чем вызвано это явление? Что их объединяет? Можно ли в связи с этим, на ваш взгляд, исключить какие-то признаки из рассмотрения? Обоснуйте свою точку зрения.\n",
    "\n",
    "Исключите из выборки объекты **с пропущенным значением целевой переменной и со значением целевой переменной, равным 0**, а также при необходимости исключите признаки в соответствии с вашим ответом на последний вопрос из списка и выделите целевую переменную в отдельный вектор, исключив её из матрицы \"объект-признак\"."
   ]
  },
  {
   "cell_type": "code",
   "execution_count": 0,
   "metadata": {
    "colab": {
     "autoexec": {
      "startup": false,
      "wait_interval": 0
     }
    },
    "colab_type": "code",
    "id": "9zEDMY4erOfE",
    "outputId": "87df1aa6-03ff-4ff0-bcb1-1fa272039514"
   },
   "outputs": [
    {
     "name": "stdout",
     "output_type": "stream",
     "text": [
      "- True \n",
      "\n",
      "Missing features in our data without target variable: \n",
      "['DepTime' 'ArrTime' 'TailNum' 'ActualElapsedTime' 'CRSElapsedTime'\n",
      " 'AirTime' 'ArrDelay' 'DepDelay' 'TaxiIn' 'TaxiOut' 'CarrierDelay'\n",
      " 'WeatherDelay' 'NASDelay' 'SecurityDelay' 'LateAircraftDelay'] \n",
      "\n",
      "Patially missing features in our data without target variable: \n",
      "['TailNum' 'CRSElapsedTime']\n"
     ]
    },
    {
     "data": {
      "text/html": [
       "<div>\n",
       "<table border=\"1\" class=\"dataframe\">\n",
       "  <thead>\n",
       "    <tr style=\"text-align: right;\">\n",
       "      <th></th>\n",
       "      <th>DepTime</th>\n",
       "      <th>ArrTime</th>\n",
       "      <th>TailNum</th>\n",
       "      <th>ActualElapsedTime</th>\n",
       "      <th>CRSElapsedTime</th>\n",
       "      <th>AirTime</th>\n",
       "      <th>ArrDelay</th>\n",
       "      <th>DepDelay</th>\n",
       "      <th>TaxiIn</th>\n",
       "      <th>TaxiOut</th>\n",
       "      <th>CarrierDelay</th>\n",
       "      <th>WeatherDelay</th>\n",
       "      <th>NASDelay</th>\n",
       "      <th>SecurityDelay</th>\n",
       "      <th>LateAircraftDelay</th>\n",
       "    </tr>\n",
       "  </thead>\n",
       "  <tbody>\n",
       "    <tr>\n",
       "      <th>5976</th>\n",
       "      <td>1325.0</td>\n",
       "      <td>NaN</td>\n",
       "      <td>N636AS</td>\n",
       "      <td>NaN</td>\n",
       "      <td>53.0</td>\n",
       "      <td>NaN</td>\n",
       "      <td>NaN</td>\n",
       "      <td>24.0</td>\n",
       "      <td>NaN</td>\n",
       "      <td>NaN</td>\n",
       "      <td>NaN</td>\n",
       "      <td>NaN</td>\n",
       "      <td>NaN</td>\n",
       "      <td>NaN</td>\n",
       "      <td>NaN</td>\n",
       "    </tr>\n",
       "    <tr>\n",
       "      <th>15680</th>\n",
       "      <td>954.0</td>\n",
       "      <td>NaN</td>\n",
       "      <td>N21537</td>\n",
       "      <td>NaN</td>\n",
       "      <td>137.0</td>\n",
       "      <td>NaN</td>\n",
       "      <td>NaN</td>\n",
       "      <td>19.0</td>\n",
       "      <td>NaN</td>\n",
       "      <td>NaN</td>\n",
       "      <td>NaN</td>\n",
       "      <td>NaN</td>\n",
       "      <td>NaN</td>\n",
       "      <td>NaN</td>\n",
       "      <td>NaN</td>\n",
       "    </tr>\n",
       "    <tr>\n",
       "      <th>16382</th>\n",
       "      <td>1806.0</td>\n",
       "      <td>NaN</td>\n",
       "      <td>N288SW</td>\n",
       "      <td>NaN</td>\n",
       "      <td>59.0</td>\n",
       "      <td>NaN</td>\n",
       "      <td>NaN</td>\n",
       "      <td>38.0</td>\n",
       "      <td>NaN</td>\n",
       "      <td>11.0</td>\n",
       "      <td>NaN</td>\n",
       "      <td>NaN</td>\n",
       "      <td>NaN</td>\n",
       "      <td>NaN</td>\n",
       "      <td>NaN</td>\n",
       "    </tr>\n",
       "    <tr>\n",
       "      <th>20622</th>\n",
       "      <td>844.0</td>\n",
       "      <td>NaN</td>\n",
       "      <td>N505MJ</td>\n",
       "      <td>NaN</td>\n",
       "      <td>114.0</td>\n",
       "      <td>NaN</td>\n",
       "      <td>NaN</td>\n",
       "      <td>-1.0</td>\n",
       "      <td>NaN</td>\n",
       "      <td>NaN</td>\n",
       "      <td>NaN</td>\n",
       "      <td>NaN</td>\n",
       "      <td>NaN</td>\n",
       "      <td>NaN</td>\n",
       "      <td>NaN</td>\n",
       "    </tr>\n",
       "    <tr>\n",
       "      <th>22462</th>\n",
       "      <td>2132.0</td>\n",
       "      <td>NaN</td>\n",
       "      <td>N17231</td>\n",
       "      <td>NaN</td>\n",
       "      <td>58.0</td>\n",
       "      <td>NaN</td>\n",
       "      <td>NaN</td>\n",
       "      <td>-2.0</td>\n",
       "      <td>NaN</td>\n",
       "      <td>28.0</td>\n",
       "      <td>NaN</td>\n",
       "      <td>NaN</td>\n",
       "      <td>NaN</td>\n",
       "      <td>NaN</td>\n",
       "      <td>NaN</td>\n",
       "    </tr>\n",
       "    <tr>\n",
       "      <th>30057</th>\n",
       "      <td>1358.0</td>\n",
       "      <td>NaN</td>\n",
       "      <td>N506CA</td>\n",
       "      <td>NaN</td>\n",
       "      <td>150.0</td>\n",
       "      <td>NaN</td>\n",
       "      <td>NaN</td>\n",
       "      <td>28.0</td>\n",
       "      <td>NaN</td>\n",
       "      <td>NaN</td>\n",
       "      <td>NaN</td>\n",
       "      <td>NaN</td>\n",
       "      <td>NaN</td>\n",
       "      <td>NaN</td>\n",
       "      <td>NaN</td>\n",
       "    </tr>\n",
       "    <tr>\n",
       "      <th>33611</th>\n",
       "      <td>826.0</td>\n",
       "      <td>NaN</td>\n",
       "      <td>N437SW</td>\n",
       "      <td>NaN</td>\n",
       "      <td>165.0</td>\n",
       "      <td>NaN</td>\n",
       "      <td>NaN</td>\n",
       "      <td>-4.0</td>\n",
       "      <td>NaN</td>\n",
       "      <td>NaN</td>\n",
       "      <td>NaN</td>\n",
       "      <td>NaN</td>\n",
       "      <td>NaN</td>\n",
       "      <td>NaN</td>\n",
       "      <td>NaN</td>\n",
       "    </tr>\n",
       "    <tr>\n",
       "      <th>37581</th>\n",
       "      <td>2234.0</td>\n",
       "      <td>NaN</td>\n",
       "      <td>N560SW</td>\n",
       "      <td>NaN</td>\n",
       "      <td>43.0</td>\n",
       "      <td>NaN</td>\n",
       "      <td>NaN</td>\n",
       "      <td>-1.0</td>\n",
       "      <td>NaN</td>\n",
       "      <td>16.0</td>\n",
       "      <td>NaN</td>\n",
       "      <td>NaN</td>\n",
       "      <td>NaN</td>\n",
       "      <td>NaN</td>\n",
       "      <td>NaN</td>\n",
       "    </tr>\n",
       "    <tr>\n",
       "      <th>40343</th>\n",
       "      <td>1440.0</td>\n",
       "      <td>NaN</td>\n",
       "      <td>N921EV</td>\n",
       "      <td>NaN</td>\n",
       "      <td>106.0</td>\n",
       "      <td>NaN</td>\n",
       "      <td>NaN</td>\n",
       "      <td>-5.0</td>\n",
       "      <td>NaN</td>\n",
       "      <td>NaN</td>\n",
       "      <td>NaN</td>\n",
       "      <td>NaN</td>\n",
       "      <td>NaN</td>\n",
       "      <td>NaN</td>\n",
       "      <td>NaN</td>\n",
       "    </tr>\n",
       "    <tr>\n",
       "      <th>50401</th>\n",
       "      <td>2232.0</td>\n",
       "      <td>NaN</td>\n",
       "      <td>N750SK</td>\n",
       "      <td>NaN</td>\n",
       "      <td>97.0</td>\n",
       "      <td>NaN</td>\n",
       "      <td>NaN</td>\n",
       "      <td>-2.0</td>\n",
       "      <td>NaN</td>\n",
       "      <td>21.0</td>\n",
       "      <td>NaN</td>\n",
       "      <td>NaN</td>\n",
       "      <td>NaN</td>\n",
       "      <td>NaN</td>\n",
       "      <td>NaN</td>\n",
       "    </tr>\n",
       "    <tr>\n",
       "      <th>50810</th>\n",
       "      <td>1559.0</td>\n",
       "      <td>NaN</td>\n",
       "      <td>N581SW</td>\n",
       "      <td>NaN</td>\n",
       "      <td>45.0</td>\n",
       "      <td>NaN</td>\n",
       "      <td>NaN</td>\n",
       "      <td>-7.0</td>\n",
       "      <td>NaN</td>\n",
       "      <td>10.0</td>\n",
       "      <td>NaN</td>\n",
       "      <td>NaN</td>\n",
       "      <td>NaN</td>\n",
       "      <td>NaN</td>\n",
       "      <td>NaN</td>\n",
       "    </tr>\n",
       "    <tr>\n",
       "      <th>67078</th>\n",
       "      <td>1517.0</td>\n",
       "      <td>NaN</td>\n",
       "      <td>N19554</td>\n",
       "      <td>NaN</td>\n",
       "      <td>65.0</td>\n",
       "      <td>NaN</td>\n",
       "      <td>NaN</td>\n",
       "      <td>7.0</td>\n",
       "      <td>NaN</td>\n",
       "      <td>NaN</td>\n",
       "      <td>NaN</td>\n",
       "      <td>NaN</td>\n",
       "      <td>NaN</td>\n",
       "      <td>NaN</td>\n",
       "      <td>NaN</td>\n",
       "    </tr>\n",
       "  </tbody>\n",
       "</table>\n",
       "</div>"
      ],
      "text/plain": [
       "       DepTime  ArrTime TailNum  ActualElapsedTime  CRSElapsedTime  AirTime  \\\n",
       "5976    1325.0      NaN  N636AS                NaN            53.0      NaN   \n",
       "15680    954.0      NaN  N21537                NaN           137.0      NaN   \n",
       "16382   1806.0      NaN  N288SW                NaN            59.0      NaN   \n",
       "20622    844.0      NaN  N505MJ                NaN           114.0      NaN   \n",
       "22462   2132.0      NaN  N17231                NaN            58.0      NaN   \n",
       "30057   1358.0      NaN  N506CA                NaN           150.0      NaN   \n",
       "33611    826.0      NaN  N437SW                NaN           165.0      NaN   \n",
       "37581   2234.0      NaN  N560SW                NaN            43.0      NaN   \n",
       "40343   1440.0      NaN  N921EV                NaN           106.0      NaN   \n",
       "50401   2232.0      NaN  N750SK                NaN            97.0      NaN   \n",
       "50810   1559.0      NaN  N581SW                NaN            45.0      NaN   \n",
       "67078   1517.0      NaN  N19554                NaN            65.0      NaN   \n",
       "\n",
       "       ArrDelay  DepDelay  TaxiIn  TaxiOut  CarrierDelay  WeatherDelay  \\\n",
       "5976        NaN      24.0     NaN      NaN           NaN           NaN   \n",
       "15680       NaN      19.0     NaN      NaN           NaN           NaN   \n",
       "16382       NaN      38.0     NaN     11.0           NaN           NaN   \n",
       "20622       NaN      -1.0     NaN      NaN           NaN           NaN   \n",
       "22462       NaN      -2.0     NaN     28.0           NaN           NaN   \n",
       "30057       NaN      28.0     NaN      NaN           NaN           NaN   \n",
       "33611       NaN      -4.0     NaN      NaN           NaN           NaN   \n",
       "37581       NaN      -1.0     NaN     16.0           NaN           NaN   \n",
       "40343       NaN      -5.0     NaN      NaN           NaN           NaN   \n",
       "50401       NaN      -2.0     NaN     21.0           NaN           NaN   \n",
       "50810       NaN      -7.0     NaN     10.0           NaN           NaN   \n",
       "67078       NaN       7.0     NaN      NaN           NaN           NaN   \n",
       "\n",
       "       NASDelay  SecurityDelay  LateAircraftDelay  \n",
       "5976        NaN            NaN                NaN  \n",
       "15680       NaN            NaN                NaN  \n",
       "16382       NaN            NaN                NaN  \n",
       "20622       NaN            NaN                NaN  \n",
       "22462       NaN            NaN                NaN  \n",
       "30057       NaN            NaN                NaN  \n",
       "33611       NaN            NaN                NaN  \n",
       "37581       NaN            NaN                NaN  \n",
       "40343       NaN            NaN                NaN  \n",
       "50401       NaN            NaN                NaN  \n",
       "50810       NaN            NaN                NaN  \n",
       "67078       NaN            NaN                NaN  "
      ]
     },
     "execution_count": 5,
     "metadata": {
      "tags": []
     },
     "output_type": "execute_result"
    }
   ],
   "source": [
    "print('-', data['DepDelay'].isnull().any(), '\\n')\n",
    "data_without_target = data[data.DepDelay.isnull()]\n",
    "\n",
    "mis_feat = data_without_target.iloc[0, data_without_target.isnull().any().nonzero()].index.values\n",
    "part_mis_feat = data_without_target[mis_feat].iloc[0, data_without_target[mis_feat].notnull().any().nonzero()].index.values\n",
    "print('Missing features in our data without target variable: ')\n",
    "print(mis_feat, '\\n')\n",
    "print('Patially missing features in our data without target variable: ')\n",
    "print(part_mis_feat)\n",
    "\n",
    "data[data.Cancelled == 1 & data.DepDelay.notnull()][mis_feat]"
   ]
  },
  {
   "cell_type": "markdown",
   "metadata": {
    "colab_type": "text",
    "id": "wFvvkjFKrOfJ"
   },
   "source": [
    "Итак, мы видим, что все авиарейсы с отсутствющим значением 'DepDelay' были отменены (в связи с чем у них отсутствуют значения таких связанных с полетом признаков, как время вылета, время прибытия, действительное время полета и проч.). Тем не менее, существует 12 авиарейсов, которые были отменены ('Cancelled' value = 1), но целевая переменная присутствует. В отличие от объектов с отсутствующим значением целевой переменной, у них у всех присутствует время вылета (а так же бортовой номер и ожидаемое время полета - хотя эти два признака частично присутствуют при 'DepDelay' = NaN), но так же отсутствует время прибытия и действительное время полета. Таким образом, несмотря на присутствие значения целевого признака, принимая во внимание малую долю таких объектов и ошибочность данных (полеты были отменены, а не задержаны), можно исключить из рассмотрения признаки 'Cancelled' и 'CancellationCode', а так же эти 12 авиарейсов (считая значение 'DepDelay' для них некорректным - должно отсутствовать) - таким образом, значение 'Cancelled' у всех интересующих нас объектов будет равно 0."
   ]
  },
  {
   "cell_type": "code",
   "execution_count": 0,
   "metadata": {
    "colab": {
     "autoexec": {
      "startup": false,
      "wait_interval": 0
     }
    },
    "colab_type": "code",
    "collapsed": true,
    "id": "ur526BeTrOfK"
   },
   "outputs": [],
   "source": [
    "data = data[data.DepDelay.notnull() & (data.DepDelay != 0) & (data.Cancelled != 1)]\n",
    "data.drop(['Cancelled', 'CancellationCode'], axis = 1, inplace = True)\n",
    "\n",
    "depdelay = data['DepDelay']\n",
    "data.drop('DepDelay', axis = 1, inplace = True)"
   ]
  },
  {
   "cell_type": "markdown",
   "metadata": {
    "colab_type": "text",
    "id": "d4cpB5u7rOfN"
   },
   "source": [
    "**13. (0.5 балла)** Обратите внимание, что признаки DepTime, CRSDepTime, ArrTime, CRSArrTime приведены в формате hhmm, в связи с чем будет не вполне корректно рассматривать их как вещественные.\n",
    "\n",
    "Преобразуйте каждый признак FeatureName из указанных в пару новых признаков FeatureName\\_Hour, FeatureName\\_Minute, разделив каждое из значений на часы и минуты. Не забудьте при этом исключить исходный признак из выборки. В случае, если значение признака отсутствует, значения двух новых признаков, его заменяющих, также должны отсутствовать. \n",
    "\n",
    "Например, признак DepTime необходимо заменить на пару признаков DepTime_Hour, DepTime_Minute. При этом, например, значение 155 исходного признака будет преобразовано в значения 1 и 55 признаков DepTime_Hour, DepTime_Minute соответственно."
   ]
  },
  {
   "cell_type": "code",
   "execution_count": 0,
   "metadata": {
    "colab": {
     "autoexec": {
      "startup": false,
      "wait_interval": 0
     }
    },
    "colab_type": "code",
    "collapsed": true,
    "id": "Uj6kdPx8rOfO"
   },
   "outputs": [],
   "source": [
    "def get_hours(time):\n",
    "    return time//100\n",
    "def get_minutes(time):\n",
    "    return time%100\n",
    "\n",
    "hours = data[['DepTime', 'CRSDepTime', 'ArrTime', 'CRSArrTime']].apply(get_hours)\n",
    "minutes = data[['DepTime', 'CRSDepTime', 'ArrTime', 'CRSArrTime']].apply(get_minutes)\n",
    "data[['DepTime_Hour', 'CRSDepTime_Hour', 'ArrTime_Hour', 'CRSArrTime_Hour']] = hours\n",
    "data[['DepTime_Minute', 'CRSDepTime_Minute', 'ArrTime_Minute', 'CRSArrTime_Minute']] = minutes\n",
    "data.drop(['DepTime', 'CRSDepTime', 'ArrTime', 'CRSArrTime'], axis = 1, inplace = True)"
   ]
  },
  {
   "cell_type": "markdown",
   "metadata": {
    "colab_type": "text",
    "id": "J4oMzxParOfS"
   },
   "source": [
    "**14. (0.5 балла)** Некоторые из признаков, отличных от целевой переменной, могут оказывать чересчур значимое влияние на прогноз, поскольку по своему смыслу содержат большую долю информации о значении целевой переменной. Изучите описание датасета и исключите признаки, сильно коррелирующие с ответами. Ваш выбор признаков для исключения из выборки обоснуйте. Кроме того, исключите признаки TailNum и Year."
   ]
  },
  {
   "cell_type": "code",
   "execution_count": 0,
   "metadata": {
    "colab": {
     "autoexec": {
      "startup": false,
      "wait_interval": 0
     }
    },
    "colab_type": "code",
    "id": "-oQdmO6CrOfS",
    "outputId": "ff0a1b8e-4254-4b7c-ea90-c1e324d190aa"
   },
   "outputs": [
    {
     "name": "stdout",
     "output_type": "stream",
     "text": [
      "[True]\n",
      "[True]\n",
      "ArrDelay 0.933525938482\n",
      "[True]\n"
     ]
    }
   ],
   "source": [
    "def minutes(hours, minutes):\n",
    "    return 60*hours + minutes\n",
    "\n",
    "# явное вычисление задержки отправления ('DepDelay'), при проверке учтем случай 'перехода' через сутки\n",
    "diff_crs_dep = minutes(data.DepTime_Hour, data.DepTime_Minute) - minutes(data.CRSDepTime_Hour, data.CRSDepTime_Minute)\n",
    "\n",
    "# проверка зависимости на объектах выборки\n",
    "print(((diff_crs_dep == depdelay) | (abs(diff_crs_dep - depdelay) == 1440.0)).unique())\n",
    "\n",
    "# еще одно явное вычисление задержки отправления\n",
    "diff_crs_elaps = data.CRSElapsedTime - (data.ActualElapsedTime - data.ArrDelay)\n",
    "\n",
    "# проверка зависимости на объектах выборки\n",
    "print(((diff_crs_elaps == depdelay) | data.ActualElapsedTime.isnull()).unique())\n",
    "\n",
    "# поиск признаков, сильно коррелирующих с ответами \n",
    "# (будем считать значение коэффициента корреляции, большее 90%, достаточным основанием для удаления признака)\n",
    "for col in data.columns:\n",
    "    if data[col].dtype != 'object' and data[col].corr(depdelay) > 0.9:\n",
    "        print(col, data[col].corr(depdelay))\n",
    "\n",
    "# явное вычисление задержки прибытия, при проверке учтем случай 'перехода' через сутки\n",
    "diff = minutes(data.ArrTime_Hour, data.ArrTime_Minute) - minutes(data.CRSArrTime_Hour, data.CRSArrTime_Minute)\n",
    "\n",
    "# проверка зависимости на объектах выборки\n",
    "print(((diff == data.ArrDelay) | (abs(diff - data.ArrDelay) == 1440.0) | data.ArrDelay.isnull()).unique())"
   ]
  },
  {
   "cell_type": "markdown",
   "metadata": {
    "colab_type": "text",
    "id": "HjOqYvEerOfX"
   },
   "source": [
    "Заметим, что одновременное наличие таких признаков, как:\n",
    "* DepTime и CRSDepTime (их производных Hour и Minute)\n",
    "* ActualElapsedTime, CRSElapsedTime и ArrDelay\n",
    "\n",
    "приводит к явной зависимости от ответа (т. е. позволяет получать значение целевой переменной, что не допускает такой характеристики поставленной задачи как \"предсказание\")\n",
    "\n",
    "Также заметим, что найденный нами сильно коррелирующий с ответом признак ArrDelay явно выражается через значения признаков:\n",
    "* ArrTime и CRSArrTime (их производных Hour и Time)\n",
    "\n",
    "Несмотря на проделанную поиск по выявлению признаков, содержащих большую долю информации о значении целевой переменной, существует еще одна корреляция, основанная на данных датасета (все предыдущие зависимости очевидным образом следуют из свойств имеющихся признаков, что и позволяло проверить эту зависимость для всех объектов). Это сумма всех 'Cause of Delay' (http://www.transtats.bts.gov/Fields.asp?Table_ID=236) - коэффициент корреляции с ответом оказывается больше 90%:"
   ]
  },
  {
   "cell_type": "code",
   "execution_count": 0,
   "metadata": {
    "colab": {
     "autoexec": {
      "startup": false,
      "wait_interval": 0
     }
    },
    "colab_type": "code",
    "id": "JKbl6hILrOfY",
    "outputId": "4f58fe45-f4b4-474a-b002-6f47e9e8c032"
   },
   "outputs": [
    {
     "name": "stdout",
     "output_type": "stream",
     "text": [
      "0.932965824381\n"
     ]
    }
   ],
   "source": [
    "sum = (data['CarrierDelay'] + data['WeatherDelay'] + data['NASDelay'] + data['SecurityDelay'] + data['LateAircraftDelay'])\n",
    "print(sum.corr(depdelay))"
   ]
  },
  {
   "cell_type": "markdown",
   "metadata": {
    "colab_type": "text",
    "id": "5VZhOm2irOfh"
   },
   "source": [
    "Таким образом, у нас возникает большой выбор признаков, необходимых для удаления в связи со значимым влиянием на прогноз:\n",
    "* (DepTime_Hour и DepTime_Minute) или (CRSDepTime_Hour и CRSDepTime_Minute)\n",
    "* ActualElapsedTime, CRSElapsedTime или ArrDelay\n",
    "* ArrDelay\n",
    "* (ArrTime_Hour и ArrTime_Minute) или (CRSArrTime_Hour и CRSArrTime_Minute)\n",
    "\n",
    "Исключим признаки, связанные с запланированными данными, и уберем один из признаков 'Cause of Delay' - например, 'CarrierDelay' (проверим, что полученная сумма с ответом коррелирует уже не сильно):"
   ]
  },
  {
   "cell_type": "code",
   "execution_count": 0,
   "metadata": {
    "colab": {
     "autoexec": {
      "startup": false,
      "wait_interval": 0
     }
    },
    "colab_type": "code",
    "id": "GdciToHjrOfj",
    "outputId": "7a648de2-fff9-41f3-d403-0e96efa09416"
   },
   "outputs": [
    {
     "name": "stdout",
     "output_type": "stream",
     "text": [
      "0.635820351184\n"
     ]
    }
   ],
   "source": [
    "sum = (data['WeatherDelay'] + data['NASDelay'] + data['SecurityDelay'] + data['LateAircraftDelay'])\n",
    "print(sum.corr(depdelay))\n",
    "\n",
    "data.drop(['CRSDepTime_Hour', 'CRSDepTime_Minute', 'CRSElapsedTime'], axis = 1, inplace = True)\n",
    "data.drop(['ArrDelay', 'CRSArrTime_Hour', 'CRSArrTime_Minute'], axis = 1, inplace = True)\n",
    "data.drop(['CarrierDelay'], axis = 1, inplace = True)\n",
    "\n",
    "data.drop(['Year', 'TailNum'], axis = 1, inplace = True)"
   ]
  },
  {
   "cell_type": "markdown",
   "metadata": {
    "colab_type": "text",
    "id": "YruTtyiGrOfo"
   },
   "source": [
    "**15. (1 балл)** Приведем данные к виду, пригодному для обучения линейных моделей. Для этого вещественные признаки надо отмасштабировать, а категориальные — привести к числовому виду. Также надо устранить пропуски в данных."
   ]
  },
  {
   "cell_type": "markdown",
   "metadata": {
    "colab_type": "text",
    "id": "QhW7BmwNrOfp"
   },
   "source": [
    "В первую очередь поймем, зачем необходимо применять масштабирование. Следующие ячейки с кодом построят гистограммы для 3 вещественных признаков выборки."
   ]
  },
  {
   "cell_type": "code",
   "execution_count": 0,
   "metadata": {
    "colab": {
     "autoexec": {
      "startup": false,
      "wait_interval": 0
     }
    },
    "colab_type": "code",
    "id": "SM9izgr_rOfq",
    "outputId": "5d54d4ad-38f9-455f-b1ed-25b04501bbb4"
   },
   "outputs": [
    {
     "data": {
      "text/plain": [
       "<matplotlib.axes._subplots.AxesSubplot at 0xa7f1c84588>"
      ]
     },
     "execution_count": 11,
     "metadata": {
      "tags": []
     },
     "output_type": "execute_result"
    },
    {
     "data": {
      "image/png": "[encoded data removed]",
      "text/plain": [
       "<matplotlib.figure.Figure at 0xa7f1c84dd8>"
      ]
     },
     "metadata": {
      "tags": []
     },
     "output_type": "display_data"
    }
   ],
   "source": [
    "data['DepTime_Hour'].hist(bins=20)"
   ]
  },
  {
   "cell_type": "code",
   "execution_count": 0,
   "metadata": {
    "colab": {
     "autoexec": {
      "startup": false,
      "wait_interval": 0
     }
    },
    "colab_type": "code",
    "id": "LVDZOHYvrOfu",
    "outputId": "3dfadc47-9f20-4571-bad7-8fd1ad349547"
   },
   "outputs": [
    {
     "data": {
      "text/plain": [
       "<matplotlib.axes._subplots.AxesSubplot at 0xa7f1c699e8>"
      ]
     },
     "execution_count": 12,
     "metadata": {
      "tags": []
     },
     "output_type": "execute_result"
    },
    {
     "data": {
      "image/png": "[encoded data removed]",
      "text/plain": [
       "<matplotlib.figure.Figure at 0xa7f1c18240>"
      ]
     },
     "metadata": {
      "tags": []
     },
     "output_type": "display_data"
    }
   ],
   "source": [
    "data['TaxiIn'].hist(bins=20)"
   ]
  },
  {
   "cell_type": "code",
   "execution_count": 0,
   "metadata": {
    "colab": {
     "autoexec": {
      "startup": false,
      "wait_interval": 0
     }
    },
    "colab_type": "code",
    "id": "3Q1PkPx5rOfz",
    "outputId": "e37dd3d3-9ea7-44bf-f0d5-77d09db731c9"
   },
   "outputs": [
    {
     "data": {
      "text/plain": [
       "<matplotlib.axes._subplots.AxesSubplot at 0xa7f1c4e940>"
      ]
     },
     "execution_count": 13,
     "metadata": {
      "tags": []
     },
     "output_type": "execute_result"
    },
    {
     "data": {
      "image/png": "[encoded data removed]",
      "text/plain": [
       "<matplotlib.figure.Figure at 0xa7f1c2bc18>"
      ]
     },
     "metadata": {
      "tags": []
     },
     "output_type": "display_data"
    }
   ],
   "source": [
    "data['FlightNum'].hist(bins=20)"
   ]
  },
  {
   "cell_type": "markdown",
   "metadata": {
    "colab_type": "text",
    "id": "BiLu4TN6rOf2"
   },
   "source": [
    "Какую проблему вы наблюдаете на этих графиках? Как масштабирование поможет её исправить?"
   ]
  },
  {
   "cell_type": "markdown",
   "metadata": {
    "colab_type": "text",
    "id": "SelpVZu0rOf3"
   },
   "source": [
    "Признаки будут вносить неодинаковый вклад - например, номер полета при обучении линейной регрессии будет влиять на целевую переменную гораздо сильнее, чем значения признаков 'DepTime_Hour' и 'TimeIn', которые оказываются сильно меньше соответствующих значений признака 'FlightNum'. Масштабирование поможет принять во внимание все признаки. Более того, отсутствие нормализации усложняет метод градиентного спуска (скорость сходимости метода значительно уменьшается), делая его при неаккуратном выборе длины шага непродуктивным."
   ]
  },
  {
   "cell_type": "markdown",
   "metadata": {
    "colab_type": "text",
    "id": "Q0_FNa9KrOf4"
   },
   "source": [
    "Некоторые из признаков в нашем датасете являются категориальными. Типичным подходом к работе с ними является бинарное, или [one-hot-кодирование](https://en.wikipedia.org/wiki/One-hot).\n",
    "\n",
    "Реализуйте функцию transform_data, которая принимает на вход DataFrame с признаками и выполняет следующие шаги:\n",
    "1. Замена пропущенных значений на нули для вещественных признаков и на строки 'nan' для категориальных.\n",
    "2. Масштабирование вещественных признаков с помощью [StandardScaler](http://scikit-learn.org/stable/modules/generated/sklearn.preprocessing.StandardScaler.html).\n",
    "3. One-hot-кодирование категориальных признаков с помощью [DictVectorizer](http://scikit-learn.org/stable/modules/generated/sklearn.feature_extraction.DictVectorizer.html) или функции [pd.get_dummies](http://pandas.pydata.org/pandas-docs/stable/generated/pandas.get_dummies.html).\n",
    "\n",
    "Метод должен возвращать преобразованный DataFrame, который должна состоять из масштабированных вещественных признаков и закодированных категориальных (исходные признаки должны быть исключены из выборки)."
   ]
  },
  {
   "cell_type": "code",
   "execution_count": 1,
   "metadata": {
    "colab": {
     "autoexec": {
      "startup": false,
      "wait_interval": 0
     }
    },
    "colab_type": "code",
    "collapsed": true,
    "id": "iLvrPHd4rOf6"
   },
   "outputs": [],
   "source": [
    "def transform_data(data):\n",
    "    from sklearn.preprocessing import StandardScaler\n",
    "\n",
    "    categorical_features = (data.dtypes == \"object\").values\n",
    "\n",
    "    cat_data = data[data.columns[categorical_features]].fillna(value = 'nan')\n",
    "    noncat_data = data[data.columns[~categorical_features]].fillna(value = 0)\n",
    "\n",
    "    noncat_data_norm_np = StandardScaler().fit_transform(noncat_data)\n",
    "    noncat_data_norm = pd.DataFrame(data = noncat_data_norm_np, index = data.index, \n",
    "                                    columns = data.columns[~categorical_features])\n",
    "    cat_data_hot = pd.get_dummies(cat_data)\n",
    "    \n",
    "    return pd.concat([noncat_data_norm, cat_data_hot], axis = 1, ignore_index = True)"
   ]
  },
  {
   "cell_type": "markdown",
   "metadata": {
    "colab_type": "text",
    "id": "wIUR3kjtrOf9"
   },
   "source": [
    "Примените функцию transform_data к данным. Сколько признаков получилось после преобразования?"
   ]
  },
  {
   "cell_type": "code",
   "execution_count": 0,
   "metadata": {
    "colab": {
     "autoexec": {
      "startup": false,
      "wait_interval": 0
     }
    },
    "colab_type": "code",
    "id": "plLcw-aRrOf_",
    "outputId": "bf5377ed-f80d-4380-b8db-2cf6bd1d6277"
   },
   "outputs": [
    {
     "name": "stdout",
     "output_type": "stream",
     "text": [
      "Count of features: 632\n"
     ]
    }
   ],
   "source": [
    "data = transform_data(data)\n",
    "print(\"Count of features:\", data.columns.values.size)"
   ]
  },
  {
   "cell_type": "markdown",
   "metadata": {
    "colab_type": "text",
    "id": "p1gexwJkrOgC"
   },
   "source": [
    "**16. (0.5 балла)** Разбейте выборку и вектор целевой переменной на обучение и контроль в отношении 70/30 (для этого можно использовать, например, функцию [train_test_split](http://scikit-learn.org/stable/modules/generated/sklearn.cross_validation.train_test_split.html)). "
   ]
  },
  {
   "cell_type": "code",
   "execution_count": 0,
   "metadata": {
    "colab": {
     "autoexec": {
      "startup": false,
      "wait_interval": 0
     }
    },
    "colab_type": "code",
    "id": "aTSOz2eirOgE",
    "outputId": "1991e829-6aa0-4e70-9bc5-6c6c203361ca"
   },
   "outputs": [
    {
     "name": "stdout",
     "output_type": "stream",
     "text": [
      "train size: 44374\n",
      "test size: 19018\n"
     ]
    }
   ],
   "source": [
    "from sklearn.cross_validation import train_test_split\n",
    "\n",
    "data_train, data_test, depdelay_train, depdelay_test = train_test_split(data, depdelay, test_size = 0.3)\n",
    "print('train size:', data_train.index.values.size)\n",
    "print('test size:', data_test.index.values.size)"
   ]
  },
  {
   "cell_type": "markdown",
   "metadata": {
    "colab_type": "text",
    "id": "i0AZsG_SrOgH"
   },
   "source": [
    "### Scikit-learn\n",
    "\n",
    "<img src = \"https://pp.vk.me/c4534/u35727827/93547647/x_d31c4463.jpg\">\n",
    "Теперь, когда мы привели данные к пригодному виду, попробуем решить задачу при помощи метода наименьших квадратов. Напомним, что данный метод заключается в оптимизации функционала $MSE$:\n",
    "\n",
    "$$MSE(X, y) = \\frac{1}{l} \\sum_{i=1}^l (<w, x_i> - y_i)^2 \\to \\min_{w},$$\n",
    "\n",
    "где $\\{ (x_i, y_i ) \\}_{i=1}^l$ — обучающая выборка, состоящая из $l$ пар объект-ответ.\n",
    "\n",
    "Заметим, что решение данной задачи уже реализовано в модуле sklearn в виде класса [LinearRegression](http://scikit-learn.org/stable/modules/generated/sklearn.linear_model.LinearRegression.html#sklearn.linear_model.LinearRegression).\n",
    "\n",
    "**17. (0.5 балла)** Обучите линейную регрессию на 1000 объектах из обучающей выборки и выведите значения $MSE$ и $R^2$ на этой подвыборке и контрольной выборке (итого 4 различных числа). Проинтерпретируйте полученный результат — насколько качественные прогнозы строит полученная модель? Какие проблемы наблюдаются в модели?\n",
    "\n",
    "**Подсказка**: изучите значения полученных коэффициентов $w$, сохраненных в атрибуте coef_ объекта LinearRegression."
   ]
  },
  {
   "cell_type": "code",
   "execution_count": 0,
   "metadata": {
    "colab": {
     "autoexec": {
      "startup": false,
      "wait_interval": 0
     }
    },
    "colab_type": "code",
    "id": "AW6GS71krOgJ",
    "outputId": "1a6efe8a-8c88-45f7-efbd-aa134134c151"
   },
   "outputs": [
    {
     "name": "stdout",
     "output_type": "stream",
     "text": [
      "MSE on small part of train: 201.108352173\n",
      "R^2 on small part of train: 0.829739417728\n",
      "MSE on test: 1.12693157192e+25\n",
      "R^2 on test: -8.46348241654e+21\n",
      "\n",
      "\n",
      "         features       weights\n",
      "count  632.000000  6.320000e+02\n",
      "mean   315.500000 -1.548756e+12\n",
      "std    182.586966  5.110602e+12\n",
      "min      0.000000 -2.608872e+13\n",
      "25%    157.750000 -2.019772e+12\n",
      "50%    315.500000 -1.971285e+12\n",
      "75%    473.250000  0.000000e+00\n",
      "max    631.000000  7.322977e+13\n"
     ]
    }
   ],
   "source": [
    "from sklearn.linear_model import LinearRegression\n",
    "from sklearn.metrics import mean_squared_error\n",
    "\n",
    "part_coef = 1000\n",
    "\n",
    "part_train = data_train[:part_coef]\n",
    "part_y_train = depdelay_train[:part_coef]\n",
    "\n",
    "LR = LinearRegression().fit(part_train, part_y_train)\n",
    "print('MSE on small part of train:',\n",
    "      mean_squared_error(y_true = part_y_train, y_pred = LR.predict(part_train)))\n",
    "print('R^2 on small part of train:',\n",
    "      LR.score(part_train, part_y_train))\n",
    "\n",
    "print('MSE on test:', mean_squared_error(y_true = depdelay_test, y_pred = LR.predict(data_test)))\n",
    "print('R^2 on test:', LR.score(data_test, depdelay_test))\n",
    "print('\\n')\n",
    "\n",
    "pd.options.display.max_rows = 1000\n",
    "print(pd.DataFrame({'features': data.columns.values, 'weights': LR.coef_}).describe())"
   ]
  },
  {
   "cell_type": "markdown",
   "metadata": {
    "colab_type": "text",
    "id": "rIAn1GwjrOgN"
   },
   "source": [
    "Уже на 1000 объектах (из 44382) нашей обучающей выборки линейная регрессия переобучается, выдавая хороший результат на самих объектах, выбранных для обучения, но очень плохой на контрольной выборке."
   ]
  },
  {
   "cell_type": "markdown",
   "metadata": {
    "colab_type": "text",
    "id": "PMH9tg2SrOgO"
   },
   "source": [
    "Для решения описанных вами в предыдущем пункте проблем используем L1- или L2-регуляризацию, тем самым получив Lasso и Ridge регрессии соответственно и изменив оптимизационную задачу одним из следующих образов:\n",
    "$$MSE_{L1}(X, y) = \\frac{1}{l} \\sum_{i=1}^l (<w, x_i> - y_i)^2 + \\alpha ||w||_1 \\to \\min_{w},$$\n",
    "$$MSE_{L2}(X, y) = \\frac{1}{l} \\sum_{i=1}^l (<w, x_i> - y_i)^2 + \\alpha ||w||_2^2 \\to \\min_{w},$$\n",
    "\n",
    "где $\\alpha$ — коэффициент регуляризации. Один из способов его подбора заключается в переборе некоторого количества значений и оценке качества на кросс-валидации для каждого из них, после чего выбирается значение, для которого было получено наилучшее качество.\n",
    "\n",
    "**18. (0.5 балла)** Обучите линейные регрессии с L1- и L2-регуляризатором, подобрав лучшее значение параметра регуляризации из списка alpha_grid при помощи кросс-валидации c 5 фолдами на тех же 1000 объектах, что и в п.17. Выведите значения $MSE$ и $R^2$ на обучающей и контрольной выборках. Удалось ли решить указанные вами ранее проблемы?\n",
    "\n",
    "Для выполнения данного задания вам могут понадобиться реализованные в библиотеке объекты [LassoCV](http://scikit-learn.org/stable/modules/generated/sklearn.linear_model.LassoCV.html), [RidgeCV](http://scikit-learn.org/stable/modules/generated/sklearn.linear_model.RidgeCV.html) и [KFold](http://scikit-learn.org/stable/modules/generated/sklearn.cross_validation.KFold.html).\n"
   ]
  },
  {
   "cell_type": "code",
   "execution_count": 0,
   "metadata": {
    "colab": {
     "autoexec": {
      "startup": false,
      "wait_interval": 0
     }
    },
    "colab_type": "code",
    "id": "33kYUWuBrOgO",
    "outputId": "2d423180-a157-437f-d0ba-596f97c0d1fc"
   },
   "outputs": [
    {
     "name": "stdout",
     "output_type": "stream",
     "text": [
      "LR, trained on small part of train:\n",
      "MSE on test: 1.12693157192e+25\n",
      "R^2 on test: -8.46348241654e+21\n",
      "\n",
      "\n",
      "LR, trained on a data_train:\n",
      "MSE on test: 521.808544851\n",
      "R^2 on test: 0.608111303812\n",
      "\n",
      "\n",
      "Lasso, trained on small part of train:\n",
      "MSE on test: 505.556842368\n",
      "R^2 on test: 0.620316658745\n",
      "\n",
      "\n",
      "Lasso, trained on a data_train:\n",
      "MSE on test: 485.503523628\n",
      "R^2 on test: 0.635377103831\n",
      "\n",
      "\n",
      "Ridge, trained on small part of train:\n",
      "MSE on test: 507.070422869\n",
      "R^2 on test: 0.619179929392\n",
      "\n",
      "\n",
      "Ridge, trained on a data_train:\n",
      "MSE on test: 484.973773278\n",
      "R^2 on test: 0.635774956982\n"
     ]
    }
   ],
   "source": [
    "from sklearn.linear_model import LassoCV\n",
    "from sklearn.linear_model import RidgeCV\n",
    "from sklearn.cross_validation import KFold\n",
    "\n",
    "LR = LinearRegression().fit(part_train, part_y_train)\n",
    "print('LR, trained on small part of train:')\n",
    "print('MSE on test:', mean_squared_error(y_true = depdelay_test, y_pred = LR.predict(data_test)))\n",
    "print('R^2 on test:', LR.score(data_test, depdelay_test))\n",
    "print('\\n')\n",
    "\n",
    "LR = LinearRegression().fit(data_train, depdelay_train)\n",
    "print('LR, trained on a data_train:')\n",
    "print('MSE on test:', mean_squared_error(y_true = depdelay_test, y_pred = LR.predict(data_test)))\n",
    "print('R^2 on test:', LR.score(data_test, depdelay_test))\n",
    "print('\\n')\n",
    "\n",
    "lasso_cv = LassoCV(cv = 5).fit(part_train, part_y_train)\n",
    "print('Lasso, trained on small part of train:')\n",
    "print('MSE on test:', mean_squared_error(y_true = depdelay_test, y_pred = lasso_cv.predict(data_test)))\n",
    "print('R^2 on test:', lasso_cv.score(data_test, depdelay_test))\n",
    "print('\\n')\n",
    "\n",
    "lasso_cv = LassoCV(cv = 5).fit(data_train, depdelay_train)\n",
    "print('Lasso, trained on a data_train:')\n",
    "print('MSE on test:', mean_squared_error(y_true = depdelay_test, y_pred = lasso_cv.predict(data_test)))\n",
    "print('R^2 on test:', lasso_cv.score(data_test, depdelay_test))\n",
    "print('\\n')\n",
    "\n",
    "ridge_cv = RidgeCV(cv = 5).fit(part_train, part_y_train)\n",
    "print('Ridge, trained on small part of train:')\n",
    "print('MSE on test:', mean_squared_error(y_true = depdelay_test, y_pred = ridge_cv.predict(data_test)))\n",
    "print('R^2 on test:', ridge_cv.score(data_test, depdelay_test))\n",
    "print('\\n')\n",
    "\n",
    "ridge_cv = RidgeCV(cv = 5).fit(data_train, depdelay_train)\n",
    "print('Ridge, trained on a data_train:')\n",
    "print('MSE on test:', mean_squared_error(y_true = depdelay_test, y_pred = ridge_cv.predict(data_test)))\n",
    "print('R^2 on test:', ridge_cv.score(data_test, depdelay_test))"
   ]
  },
  {
   "cell_type": "code",
   "execution_count": 0,
   "metadata": {
    "colab": {
     "autoexec": {
      "startup": false,
      "wait_interval": 0
     }
    },
    "colab_type": "code",
    "id": "diNIkQ0UrOgS",
    "outputId": "b441661d-df3a-4515-ea74-9a44e7c460ab"
   },
   "outputs": [
    {
     "name": "stdout",
     "output_type": "stream",
     "text": [
      "10956\n",
      "19018\n"
     ]
    }
   ],
   "source": [
    "print(((depdelay_test > 0) == (ridge_cv.predict(data_test) > 0)).sum())\n",
    "print(depdelay_test.count())"
   ]
  },
  {
   "cell_type": "markdown",
   "metadata": {
    "colab_type": "text",
    "id": "jJBCE8F-rOgW"
   },
   "source": [
    "### Градиентный спуск\n",
    "\n",
    "В предыдущем разделе мы использовали существующие реализации методов обучения линейной регрессии с регуляризацией и без. Тем не менее, подобные реализации, как правило, имеются лишь для ограниченного набора стандартных методов. В частности, при выходе функционала качества за пределы стандартного множества необходимо самостоятельно реализовывать составляющие процесса решения оптимизационной задачи. Именно этому и посвящен данный раздел задания.\n",
    "\n",
    "Пусть необходимо минимизировать следующий функционал (Mean Square Percentage Error — модифицированный [RMSPE](https://www.kaggle.com/c/rossmann-store-sales/details/evaluation)):\n",
    "$$MSPE(\\{x_i, y_i\\}_{i=1}^l, \\, w) = \\frac{1}{l}\\sum_{i=1}^l \\left( \\frac{y_i - \\langle w, x_i \\rangle }{y_i} \\right)^2,$$\n",
    "\n",
    "где $\\{x_i, y_i\\}_{i=1}^l$ — обучающая выборка, $w$ — вектор весов линейной модели. Будем также рассматривать функционал $MSPE$ с L2-регуляризацией:\n",
    "\n",
    "$$MSPE(\\{x_i, y_i\\}_{i=1}^l, \\, w) = \\frac{1}{l}\\sum_{i=1}^l \\left( \\frac{y_i - \\langle w, x_i \\rangle }{y_i} \\right)^2 + ||w||_2^2.$$\n",
    "\n",
    "**19. (0 баллов)** Добавьте к объектам обеих выборок из п. 16 единичный признак."
   ]
  },
  {
   "cell_type": "code",
   "execution_count": 0,
   "metadata": {
    "colab": {
     "autoexec": {
      "startup": false,
      "wait_interval": 0
     }
    },
    "colab_type": "code",
    "id": "GOZMvcvmrOgY",
    "outputId": "68819022-da9f-40a6-ede8-c6715f327f88"
   },
   "outputs": [
    {
     "name": "stdout",
     "output_type": "stream",
     "text": [
      "     a    b    c\n",
      "0  1.0  0.0  0.0\n",
      "1  0.0  1.0  0.0\n",
      "2  0.0  0.0  1.0\n",
      "3  1.0  0.0  0.0\n",
      "     a    b    c\n",
      "0  1.0  NaN  NaN\n",
      "1  NaN  1.0  NaN\n",
      "2  NaN  NaN  1.0\n",
      "3  1.0  NaN  NaN\n"
     ]
    }
   ],
   "source": [
    "s = pd.Series(list('abca'))\n",
    "s = pd.get_dummies(s, sparse = True)\n",
    "print(s)\n",
    "print(s.to_sparse())"
   ]
  },
  {
   "cell_type": "markdown",
   "metadata": {
    "colab_type": "text",
    "id": "JbWUJT57rOgd"
   },
   "source": [
    "**20. (1 балл)** Реализуйте функции, которые вычисляют:\n",
    " * прогнозы линейной модели;\n",
    " * функционал $MSPE$ и его градиент;\n",
    " * регуляризованный $MSPE$ и его градиент."
   ]
  },
  {
   "cell_type": "code",
   "execution_count": 0,
   "metadata": {
    "colab": {
     "autoexec": {
      "startup": false,
      "wait_interval": 0
     }
    },
    "colab_type": "code",
    "collapsed": true,
    "id": "lQK5DA81rOge"
   },
   "outputs": [],
   "source": [
    "# возвращает вектор прогнозов линейной модели с вектором весов w для выборки X\n",
    "def make_pred(X, w):\n",
    "    pass"
   ]
  },
  {
   "cell_type": "code",
   "execution_count": 0,
   "metadata": {
    "colab": {
     "autoexec": {
      "startup": false,
      "wait_interval": 0
     }
    },
    "colab_type": "code",
    "collapsed": true,
    "id": "FJgLfpSwrOgh"
   },
   "outputs": [],
   "source": [
    "# возвращает значение функционала MSPE для выборки (X, y) и вектора весов w\n",
    "def get_func(w, X, y):\n",
    "    pass"
   ]
  },
  {
   "cell_type": "code",
   "execution_count": 0,
   "metadata": {
    "colab": {
     "autoexec": {
      "startup": false,
      "wait_interval": 0
     }
    },
    "colab_type": "code",
    "collapsed": true,
    "id": "75vZlRNurOgo"
   },
   "outputs": [],
   "source": [
    "# возвращает градиент функционала MSPE для выборки (X, y) и вектора весов w\n",
    "def get_grad(w, X, y):\n",
    "    pass"
   ]
  },
  {
   "cell_type": "code",
   "execution_count": 0,
   "metadata": {
    "colab": {
     "autoexec": {
      "startup": false,
      "wait_interval": 0
     }
    },
    "colab_type": "code",
    "collapsed": true,
    "id": "DK5lAZGMrOgr"
   },
   "outputs": [],
   "source": [
    "# возвращает значение регуляризованного функционала MSPE для выборки (X, y) и вектора весов w\n",
    "def get_reg_func(w, X, y):\n",
    "    pass"
   ]
  },
  {
   "cell_type": "code",
   "execution_count": 0,
   "metadata": {
    "colab": {
     "autoexec": {
      "startup": false,
      "wait_interval": 0
     }
    },
    "colab_type": "code",
    "collapsed": true,
    "id": "geGjtqZkrOgx"
   },
   "outputs": [],
   "source": [
    "# возвращает градиент регуляризованного функционала MSPE для выборки (X, y) и вектора весов w\n",
    "def get_reg_grad(w, X, y):\n",
    "    pass"
   ]
  },
  {
   "cell_type": "markdown",
   "metadata": {
    "colab_type": "text",
    "id": "wRrL0kfVrOgz"
   },
   "source": [
    "**21. (1 балл)** Реализуйте метод градиентного спуска для описанных функционалов ($MSPE$ и его регуляризованный вариант). Функция должна принимать следующие параметры:\n",
    " - X — матрица \"объект-признак\";\n",
    " - y — вектор целевой переменной;\n",
    " - w0 — начальное значение вектора весов;\n",
    " - step_size — значение темпа обучения;\n",
    " - max_iter — максимальное число итераций;\n",
    " - eps — значение, используемое в критерии останова;\n",
    " - is_reg — бинарный параметр, принимает значение True в случае наличия регуляризации функционала, False — в противном случае.\n",
    " \n",
    "Процесс должен быть остановлен, если выполнено хотя бы одно из следующих условий:\n",
    " - было выполнено заданное количество итераций max_iter;\n",
    " - евклидова норма разности векторов $w$ на соседних итерациях стала меньше, чем eps.\n",
    "\n",
    "Функция должна возвращать полученный в результате оптимизации вектор $w$ и список значений функционала на каждой итерации."
   ]
  },
  {
   "cell_type": "code",
   "execution_count": 0,
   "metadata": {
    "colab": {
     "autoexec": {
      "startup": false,
      "wait_interval": 0
     }
    },
    "colab_type": "code",
    "collapsed": true,
    "id": "wOQV_R1MrOgz"
   },
   "outputs": [],
   "source": [
    "def grad_descent(X, y, step_size, max_iter, eps, is_reg):\n",
    "    # Your code here"
   ]
  },
  {
   "cell_type": "markdown",
   "metadata": {
    "colab_type": "text",
    "id": "EMZcLg7CrOg3"
   },
   "source": [
    "Обучите линейную регрессию с функционалом $MSPE$ на обучающей выборке при помощи метода градиентного спуска и изобразите кривые зависимости значения функционала от номера итерации для различных:\n",
    " * значений размера шага из набора [0.001, 1, 10];\n",
    " * способов начальной инициализации вектора весов (нули, случайные веса).\n",
    "\n",
    "Проанализируйте полученные результаты — влияют ли данные параметры на скорость сходимости и итоговое качество? Если да, то как?"
   ]
  },
  {
   "cell_type": "code",
   "execution_count": 0,
   "metadata": {
    "colab": {
     "autoexec": {
      "startup": false,
      "wait_interval": 0
     }
    },
    "colab_type": "code",
    "collapsed": true,
    "id": "k5eTVkUGrOg4"
   },
   "outputs": [],
   "source": [
    "# Your code here"
   ]
  },
  {
   "cell_type": "markdown",
   "metadata": {
    "colab_type": "text",
    "id": "d4PKPRGmrOg-"
   },
   "source": [
    "**22. (0.5 балла)** Обучите линейную регрессию с функционалом MSPE и его регуляризованным вариантом на обучающей выборке при помощи метода градиентного спуска и изобразите кривые зависимости значения функционала от номера итерации. Исследуйте зависимость скорости сходимости от наличия регуляризации. Обоснуйте, почему так происходит."
   ]
  },
  {
   "cell_type": "code",
   "execution_count": 0,
   "metadata": {
    "colab": {
     "autoexec": {
      "startup": false,
      "wait_interval": 0
     }
    },
    "colab_type": "code",
    "collapsed": true,
    "id": "a3xFuCKgrOg_"
   },
   "outputs": [],
   "source": [
    "# Your code here"
   ]
  },
  {
   "cell_type": "markdown",
   "metadata": {
    "colab_type": "text",
    "id": "Xl1FWi4RrOhB"
   },
   "source": [
    "Метод градиентного спуска может быть весьма трудозатратен в случае большого размера обучающей выборки. Поэтому часто используют метод стохастического градиентного спуска, где на каждой итерации выбирается случайный объект из обучающей выборки и обновление весов происходит только по этому объекту. \n",
    "\n",
    "**23. (1 доп. балл)**  Реализуйте метод стохастического градиентного спуска (SGD) для описанных функционалов ($MSPE$ и его регуляризованный вариант). Функция должна иметь параметры и возвращаемое значение, аналогичные оным функции grad\\_descent из п.21. Кроме того, должен использоваться аналогичный критерий останова."
   ]
  },
  {
   "cell_type": "code",
   "execution_count": 0,
   "metadata": {
    "colab": {
     "autoexec": {
      "startup": false,
      "wait_interval": 0
     }
    },
    "colab_type": "code",
    "collapsed": true,
    "id": "nXQaZ5AXrOhC"
   },
   "outputs": [],
   "source": [
    "def sgd(X, y, step_size, max_iter, eps, is_reg):\n",
    "    # Your code here"
   ]
  },
  {
   "cell_type": "markdown",
   "metadata": {
    "colab_type": "text",
    "id": "h2sDZDuWrOhF"
   },
   "source": [
    "Обучите линейную регрессию с функционалом $MSPE$ и его регуляризованным вариантом на обучающей выборке при помощи метода стохастического градиентного спуска, подобрав при этом размер шага, при котором метод будет сходиться. Нарисуйте график сходимости. Выведите значения $MSPE, MSE, R^2$ на контрольной выборке."
   ]
  },
  {
   "cell_type": "code",
   "execution_count": 0,
   "metadata": {
    "colab": {
     "autoexec": {
      "startup": false,
      "wait_interval": 0
     }
    },
    "colab_type": "code",
    "collapsed": true,
    "id": "2KJRu1fTrOhF"
   },
   "outputs": [],
   "source": [
    "# Your code here"
   ]
  },
  {
   "cell_type": "markdown",
   "metadata": {
    "colab_type": "text",
    "id": "vsTCn4D0rOhI"
   },
   "source": [
    "**24. (0.5 доп. балла)** Аналогично п.22 исследуйте зависимость скорости сходимости метода SGD от наличия регуляризации. Обоснуйте, почему так происходит."
   ]
  },
  {
   "cell_type": "code",
   "execution_count": 0,
   "metadata": {
    "colab": {
     "autoexec": {
      "startup": false,
      "wait_interval": 0
     }
    },
    "colab_type": "code",
    "collapsed": true,
    "id": "KXuU52mkrOhJ"
   },
   "outputs": [],
   "source": [
    "# Your code here"
   ]
  },
  {
   "cell_type": "markdown",
   "metadata": {
    "colab_type": "text",
    "id": "56eF7OyurOhN"
   },
   "source": [
    "**25. (0.5 балла)** Обучите стандартную линейную регрессию с функционалом качества MSE на обучающей выборке и выведите значение MSPE полученного решения на контрольной выборке. Как оно соотносится с аналогичным результатом для решения, полученного в п.22? Почему?"
   ]
  },
  {
   "cell_type": "code",
   "execution_count": 0,
   "metadata": {
    "colab": {
     "autoexec": {
      "startup": false,
      "wait_interval": 0
     }
    },
    "colab_type": "code",
    "collapsed": true,
    "id": "A_RsHsftrOhO"
   },
   "outputs": [],
   "source": [
    "# Your code here"
   ]
  },
  {
   "cell_type": "markdown",
   "metadata": {
    "colab_type": "text",
    "id": "5IsbLN2ZrOhS"
   },
   "source": [
    "Здесь вы можете поделиться своими мыслями по поводу этого задания."
   ]
  },
  {
   "cell_type": "code",
   "execution_count": 0,
   "metadata": {
    "colab": {
     "autoexec": {
      "startup": false,
      "wait_interval": 0
     }
    },
    "colab_type": "code",
    "collapsed": true,
    "id": "dyF4cUVirOhU"
   },
   "outputs": [],
   "source": []
  },
  {
   "cell_type": "markdown",
   "metadata": {
    "colab_type": "text",
    "id": "9tDKJIzWrOhY"
   },
   "source": [
    "А здесь — вставить вашу любимую картинку."
   ]
  },
  {
   "cell_type": "code",
   "execution_count": 0,
   "metadata": {
    "colab": {
     "autoexec": {
      "startup": false,
      "wait_interval": 0
     }
    },
    "colab_type": "code",
    "collapsed": true,
    "id": "zjMKuHuCrOhY"
   },
   "outputs": [],
   "source": []
  }
 ],
 "metadata": {
  "colab": {
   "default_view": {},
   "name": "HW1-KasyanovIA.ipynb",
   "provenance": [],
   "version": "0.3.2",
   "views": {}
  },
  "kernelspec": {
   "display_name": "Python 3",
   "language": "python",
   "name": "python3"
  },
  "language_info": {
   "codemirror_mode": {
    "name": "ipython",
    "version": 3
   },
   "file_extension": ".py",
   "mimetype": "text/x-python",
   "name": "python",
   "nbconvert_exporter": "python",
   "pygments_lexer": "ipython3",
   "version": "3.7.3"
  }
 },
 "nbformat": 4,
 "nbformat_minor": 1
}
