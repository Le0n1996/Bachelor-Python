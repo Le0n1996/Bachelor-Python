{
 "cells": [
  {
   "cell_type": "markdown",
   "metadata": {},
   "source": [
    "### Different sorting algorithms"
   ]
  },
  {
   "cell_type": "markdown",
   "metadata": {},
   "source": [
    "Медленная сортировка"
   ]
  },
  {
   "cell_type": "code",
   "execution_count": 2,
   "metadata": {},
   "outputs": [],
   "source": [
    "inputnum = open(\"input.txt\", \"r\")\n",
    "output = open(\"output.txt\", \"w\")\n",
    "\n",
    "x = inputnum.read().split()\n",
    "for i in range(len(x)):\n",
    "    x[i] = int(x[i])\n",
    "\n",
    "\n",
    "def my_sort(x):\n",
    "    for i in range(len(x) - 1):\n",
    "        for j in range(len(x) - 1 - i):\n",
    "            if x[j + 1] >= x[j]:\n",
    "                pass\n",
    "            if x[j + 1] < x[j]:\n",
    "                x[j], x[j + 1] = x[j + 1], x[j]\n",
    "    return(x)\n",
    "\n",
    "\n",
    "for i in range(len(x)):\n",
    "    if i != len(x):\n",
    "        output.write(str(my_sort(x)[i]) + ' ')\n",
    "    else:\n",
    "        output.write(str(my_sort(x)[i]))\n",
    "\n",
    "inputnum.close()\n",
    "output.close()\n"
   ]
  },
  {
   "cell_type": "markdown",
   "metadata": {},
   "source": [
    "B - quicksort"
   ]
  },
  {
   "cell_type": "code",
   "execution_count": 16,
   "metadata": {},
   "outputs": [],
   "source": [
    "inputnum = open('input.txt', 'r')\n",
    "output = open('output.txt', 'w')\n",
    "\n",
    "x = inputnum.read().split()\n",
    "for i in range(len(x)):\n",
    "    x[i] = int(x[i])\n",
    "\n",
    "\n",
    "def my_sort(num, lower, upper):\n",
    "    mas, low, up = num, lower, upper\n",
    "    res = []\n",
    "    supp = mas[(up + low) // 2]\n",
    "    while low <= up:\n",
    "        while mas[low] < supp:\n",
    "            low += 1\n",
    "        while mas[up] > supp:\n",
    "            up -= 1\n",
    "        if low <= up:\n",
    "            mas[low], mas[up] = mas[up], mas[low] #swap case\n",
    "            low += 1\n",
    "            up -= 1\n",
    "    if lower < up:\n",
    "        res = my_sort(mas, lower, up)\n",
    "    if low < upper:\n",
    "        res = my_sort(mas, low, upper)\n",
    "    return(res)\n",
    "\n",
    "\n",
    "my_sort(x, 0, len(x) - 1)\n",
    "\n",
    "for i in range(len(x) - 1):\n",
    "    output.write(str(x[i]) + \" \")\n",
    "output.write(str(x[len(x) - 1]))\n",
    "\n",
    "inputnum.close()\n",
    "output.close()\n"
   ]
  },
  {
   "cell_type": "markdown",
   "metadata": {},
   "source": [
    "D"
   ]
  },
  {
   "cell_type": "code",
   "execution_count": 23,
   "metadata": {
    "collapsed": true
   },
   "outputs": [],
   "source": [
    "inputnum = open('input.txt', 'r')\n",
    "output = open('output.txt', 'w')\n",
    "\n",
    "x = inputnum.read().split()\n",
    "ints, chars = [], []\n",
    "\n",
    "for i in range(0, len(x), 2):\n",
    "    ints.append(int(x[i]))  # flies to the left, cutlets to the right\n",
    "    chars.append(x[i + 1])\n",
    "\n",
    "while True:\n",
    "    change = False\n",
    "    for i in range(len(ints) - 1):\n",
    "        if ints[i] > ints[i + 1]:\n",
    "            ints[i], ints[i + 1] = ints[i + 1], ints[i]\n",
    "            chars[i], chars[i + 1] = chars[i + 1], chars[i]\n",
    "            change = True\n",
    "        elif ints[i] == ints[i + 1] and chars[i] < chars[i + 1]:\n",
    "            ints[i], ints[i + 1] = ints[i + 1], ints[i]\n",
    "            chars[i], chars[i + 1] = chars[i + 1], chars[i]\n",
    "            change = True\n",
    "    if not change:\n",
    "        break\n",
    "\n",
    "for i in range(len(ints)):\n",
    "    output.write(str(ints[i]) + \" \" + chars[i] + \"\\n\")\n",
    "\n",
    "inputnum.close()\n",
    "output.close()\n"
   ]
  },
  {
   "cell_type": "code",
   "execution_count": null,
   "metadata": {
    "collapsed": true
   },
   "outputs": [],
   "source": []
  },
  {
   "cell_type": "code",
   "execution_count": 38,
   "metadata": {},
   "outputs": [],
   "source": [
    "inputnum = open('input.txt', 'r')\n",
    "output = open('output.txt', 'w')\n",
    "\n",
    "x = inputnum.read().split()\n",
    "for i in range(len(x)):\n",
    "    x[i] = int(x[i])\n",
    "minimum, maximum, x = x[0], x[1], x[2:len(x)]\n",
    "\n",
    "\n",
    "def my_sort(num, lower, upper):  # using task B\n",
    "    mas, low, up = num, lower, upper\n",
    "    res = []\n",
    "    supp = mas[(up + low) // 2]\n",
    "    while low <= up:\n",
    "        while mas[low] < supp:\n",
    "            low += 1\n",
    "        while mas[up] > supp:\n",
    "            up -= 1\n",
    "        if low <= up:\n",
    "            mas[low], mas[up] = mas[up], mas[low]  # swap case\n",
    "            low += 1\n",
    "            up -= 1\n",
    "    if lower < up:\n",
    "        res = my_sort(mas, lower, up)\n",
    "    if low < upper:\n",
    "        res = my_sort(mas, low, upper)\n",
    "    return(res)\n",
    "\n",
    "\n",
    "if maximum - minimum == 0:  # -> we don't need a lot of time in this case\n",
    "    pass\n",
    "else:\n",
    "    my_sort(x, 0, len(x) - 1)\n",
    "\n",
    "for i in range(len(x) - 1):\n",
    "    output.write(str(x[i]) + \" \")\n",
    "output.write(str(x[len(x) - 1]))\n",
    "\n",
    "inputnum.close()\n",
    "output.close()\n"
   ]
  },
  {
   "cell_type": "code",
   "execution_count": null,
   "metadata": {
    "collapsed": true
   },
   "outputs": [],
   "source": []
  }
 ],
 "metadata": {
  "kernelspec": {
   "display_name": "Python 3",
   "language": "python",
   "name": "python3"
  },
  "language_info": {
   "codemirror_mode": {
    "name": "ipython",
    "version": 3
   },
   "file_extension": ".py",
   "mimetype": "text/x-python",
   "name": "python",
   "nbconvert_exporter": "python",
   "pygments_lexer": "ipython3",
   "version": "3.7.3"
  }
 },
 "nbformat": 4,
 "nbformat_minor": 1
}
