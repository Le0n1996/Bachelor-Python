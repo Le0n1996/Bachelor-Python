{
 "cells": [
  {
   "cell_type": "markdown",
   "metadata": {},
   "source": [
    "### Second HA, more exercises"
   ]
  },
  {
   "cell_type": "code",
   "execution_count": 3,
   "metadata": {},
   "outputs": [
    {
     "name": "stdout",
     "output_type": "stream",
     "text": [
      "Say hello to CAPS Lock\n",
      "CAPS\n"
     ]
    }
   ],
   "source": [
    "#F\n",
    "\n",
    "a = input().split(\" \")\n",
    "if len(a) != 0:\n",
    "    ind = 0\n",
    "    curr = a[0].lower()\n",
    "    for i in range(len(a)-1): # catching upper-register letters\n",
    "        if curr > a[i+1].lower():\n",
    "            curr = a[i+1].lower()\n",
    "            ind = i+1\n",
    "    print(a[ind])"
   ]
  },
  {
   "cell_type": "code",
   "execution_count": 5,
   "metadata": {},
   "outputs": [
    {
     "name": "stdout",
     "output_type": "stream",
     "text": [
      "Text is coming until the end with capslock: END\n",
      "ttt END\n",
      "END\n",
      "t\n"
     ]
    }
   ],
   "source": [
    "#G\n",
    "\n",
    "first = \"\" \n",
    "while True: \n",
    "    line = input() \n",
    "    if line == \"END\":\n",
    "        break \n",
    "    num = 0 \n",
    "    for letter in line: \n",
    "        if letter == 't': \n",
    "            num += 1 \n",
    "    if num == 3: \n",
    "        first += line[0]\n",
    "print(first)"
   ]
  },
  {
   "cell_type": "code",
   "execution_count": 4,
   "metadata": {},
   "outputs": [
    {
     "name": "stdout",
     "output_type": "stream",
     "text": [
      "a:b c:d e:f\n",
      "add a:c\n",
      "remove a:b\n",
      "names\n",
      "a c d e f\n",
      "connected c\n",
      "a d\n",
      "END\n"
     ]
    }
   ],
   "source": [
    "#H\n",
    "\n",
    "class Friends(object):\n",
    "\n",
    "    def __init__(self, connections):\n",
    "        self.connections = []\n",
    "        for connection in connections:\n",
    "            if connection not in self.connections:\n",
    "                self.connections.append(connection) # вначале закидываем все имеющиеся не повторяющиеся пары внутрь\n",
    "\n",
    "    def add(self, new_connection):\n",
    "        if new_connection not in self.connections:\n",
    "            self.connections.append(new_connection) # выдаем True и добавляем элемент, если элемент новый, иначе False\n",
    "            return True\n",
    "        else:\n",
    "            return False\n",
    "\n",
    "    def remove(self, connection):\n",
    "        if connection in self.connections:\n",
    "            self.connections.remove(connection) # выдаем True и удаляем элемент, если элемент старый, иначе False\n",
    "            return True\n",
    "        else:\n",
    "            return False\n",
    "\n",
    "    def names(self):\n",
    "        if self.connections != []:\n",
    "            return set.union(*self.connections) # убираем дубликаты\n",
    "        else:\n",
    "            return {} # в случае, если у нас пустое множество, обратно ничего не выдаем\n",
    "\n",
    "    def connected(self, person):\n",
    "        if self.connections and person in set.union(*self.connections):\n",
    "            return set.union(*[connection - {person} for connection in self.connections if person in connection]) # возвращаем все пары,\n",
    "                                        # где этот человек был замечен, убирая оттуда при этом его самого\n",
    "        else:\n",
    "            return {}\n",
    "\n",
    "starting_connection = input()\n",
    "if starting_connection != 'END':\n",
    "    set_conn = Friends([set(connect.split(':')) for connect in starting_connection.split()])\n",
    "    \n",
    "    command = input()\n",
    "    while command != 'END':\n",
    "        \n",
    "        method = command.split()[0] # первая часть команды определяет применяемый метод\n",
    "        \n",
    "        if method == 'names':\n",
    "            print(' '.join(sorted(list(set_conn.names()))))\n",
    "            \n",
    "        else:\n",
    "            connection_or_person = command.split()[1] # вторая часть команды задает то, к чему метод применяется (у names нет этого аргумента)\n",
    "            \n",
    "            if method == 'add':\n",
    "                set_conn.add(set(connection_or_person.split(':'))) \n",
    "            \n",
    "            if method == 'remove':\n",
    "                set_conn.remove(set(connection_or_person.split(':'))) \n",
    "            \n",
    "            if method == 'connected':\n",
    "                print(' '.join(sorted(list(set_conn.connected(connection_or_person)))))  \n",
    "            \n",
    "        command = input()"
   ]
  },
  {
   "cell_type": "code",
   "execution_count": null,
   "metadata": {},
   "outputs": [],
   "source": [
    "print(pr)"
   ]
  },
  {
   "cell_type": "code",
   "execution_count": 7,
   "metadata": {},
   "outputs": [],
   "source": [
    "#a:b c:d e:f\n",
    "#add a:b\n",
    "#add c:d\n",
    "#add e:f\n",
    "#names\n",
    "#connected a\n",
    "#END"
   ]
  },
  {
   "cell_type": "code",
   "execution_count": null,
   "metadata": {},
   "outputs": [],
   "source": []
  }
 ],
 "metadata": {
  "kernelspec": {
   "display_name": "Python 3",
   "language": "python",
   "name": "python3"
  },
  "language_info": {
   "codemirror_mode": {
    "name": "ipython",
    "version": 3
   },
   "file_extension": ".py",
   "mimetype": "text/x-python",
   "name": "python",
   "nbconvert_exporter": "python",
   "pygments_lexer": "ipython3",
   "version": "3.7.3"
  }
 },
 "nbformat": 4,
 "nbformat_minor": 1
}
