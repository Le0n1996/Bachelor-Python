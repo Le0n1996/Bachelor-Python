{
 "cells": [
  {
   "cell_type": "markdown",
   "metadata": {},
   "source": [
    "### Basic techniques when using regular expressions: find, findall, sub"
   ]
  },
  {
   "cell_type": "code",
   "execution_count": 1,
   "metadata": {},
   "outputs": [],
   "source": [
    "import re"
   ]
  },
  {
   "cell_type": "code",
   "execution_count": 2,
   "metadata": {},
   "outputs": [],
   "source": [
    "rstr = r'[123]{0,1}[0-9]\\.[01]{0,1}[0-9]\\.[12][0-9]{3}'"
   ]
  },
  {
   "cell_type": "code",
   "execution_count": 3,
   "metadata": {},
   "outputs": [
    {
     "name": "stdout",
     "output_type": "stream",
     "text": [
      "[123]{0,1}[0-9]\\.[01]{0,1}[0-9]\\.[12][0-9]{3}\n"
     ]
    }
   ],
   "source": [
    "print(rstr)"
   ]
  },
  {
   "cell_type": "code",
   "execution_count": 4,
   "metadata": {},
   "outputs": [],
   "source": [
    "a = '11.11.1111 21.12.2016 12.21.2016 12.12.987 12.01.1987 32.01.1987 55.01.1987 5.01.2987 15.1.2007 21.01.0987'"
   ]
  },
  {
   "cell_type": "code",
   "execution_count": 5,
   "metadata": {},
   "outputs": [
    {
     "data": {
      "text/plain": [
       "['11.11.1111',\n",
       " '21.12.2016',\n",
       " '12.01.1987',\n",
       " '32.01.1987',\n",
       " '5.01.1987',\n",
       " '5.01.2987',\n",
       " '15.1.2007']"
      ]
     },
     "execution_count": 5,
     "metadata": {},
     "output_type": "execute_result"
    }
   ],
   "source": [
    "re.findall(r'[123]{0,1}[0-9]\\.[01]{0,1}[0-9]\\.[12][0-9]{3}', a)"
   ]
  },
  {
   "cell_type": "code",
   "execution_count": 6,
   "metadata": {},
   "outputs": [],
   "source": [
    "import re\n",
    "inputf = open(\"input.txt\", \"r\")\n",
    "output = open(\"output.txt\", \"w\")\n",
    "\n",
    "string = inputf.read()\n",
    "string = re.sub('\\+ +', '', string) # если + и потом нет цифры 7, то сразу выкинем это\n",
    "string = re.sub(r' +', '', string) # теперь смело выкидываем пробелы везде, теперь из + 7 +7 мы уже не получим\n",
    "cond = r'[+][7]\\d{10}|[+][7][(]\\d{3}[)]\\d{7}' # вначале проверяем более простое условие для небольшого ускорения работы\n",
    "res = re.findall(cond, string)\n",
    "\n",
    "for i in range(len(res)):\n",
    "    if len(res[i]) == 12: # если нет скобочек\n",
    "        res[i] = res[i][0:2] + ' ' + res[i][2:5] + ' ' + res[i][5:8] + ' ' + res[i][8:10] + ' ' + res[i][10:12]\n",
    "    if len(res[i]) == 14: # если есть скобочки, то их не выводим\n",
    "        res[i] = res[i][0:2] + ' ' + res[i][3:6] + ' ' + res[i][7:10] + ' ' + res[i][10:12] + ' ' + res[i][12:14]\n",
    "    if i != len(res)-1:\n",
    "        output.write(res[i] + '\\n')\n",
    "    if i == len(res)-1:\n",
    "        output.write(res[i])\n",
    "if len(res) == 0:\n",
    "    output.write('')\n",
    "inputf.close() # все закрываем\n",
    "output.close()"
   ]
  },
  {
   "cell_type": "code",
   "execution_count": 7,
   "metadata": {},
   "outputs": [
    {
     "ename": "ValueError",
     "evalue": "invalid literal for int() with base 10: ' '",
     "output_type": "error",
     "traceback": [
      "\u001b[1;31m---------------------------------------------------------------------------\u001b[0m",
      "\u001b[1;31mValueError\u001b[0m                                Traceback (most recent call last)",
      "\u001b[1;32m<ipython-input-7-5b30f48735b1>\u001b[0m in \u001b[0;36m<module>\u001b[1;34m\u001b[0m\n\u001b[0;32m     10\u001b[0m \u001b[0mres\u001b[0m \u001b[1;33m=\u001b[0m \u001b[1;36m0\u001b[0m\u001b[1;33m\u001b[0m\u001b[1;33m\u001b[0m\u001b[0m\n\u001b[0;32m     11\u001b[0m \u001b[1;32mfor\u001b[0m \u001b[0mcoin\u001b[0m \u001b[1;32min\u001b[0m \u001b[0mrange\u001b[0m \u001b[1;33m(\u001b[0m\u001b[1;36m0\u001b[0m\u001b[1;33m,\u001b[0m \u001b[0mlen\u001b[0m\u001b[1;33m(\u001b[0m\u001b[0mwallet\u001b[0m\u001b[1;33m)\u001b[0m\u001b[1;33m)\u001b[0m\u001b[1;33m:\u001b[0m \u001b[1;31m# суммируем все монеты\u001b[0m\u001b[1;33m\u001b[0m\u001b[1;33m\u001b[0m\u001b[0m\n\u001b[1;32m---> 12\u001b[1;33m     \u001b[0mres\u001b[0m \u001b[1;33m+=\u001b[0m \u001b[0mcoin_days\u001b[0m\u001b[1;33m[\u001b[0m\u001b[0mint\u001b[0m\u001b[1;33m(\u001b[0m\u001b[0mwallet\u001b[0m\u001b[1;33m[\u001b[0m\u001b[0mcoin\u001b[0m\u001b[1;33m]\u001b[0m\u001b[1;33m)\u001b[0m\u001b[1;33m]\u001b[0m\u001b[1;33m\u001b[0m\u001b[1;33m\u001b[0m\u001b[0m\n\u001b[0m\u001b[0;32m     13\u001b[0m \u001b[0moutput\u001b[0m\u001b[1;33m.\u001b[0m\u001b[0mwrite\u001b[0m\u001b[1;33m(\u001b[0m\u001b[0mstr\u001b[0m\u001b[1;33m(\u001b[0m\u001b[0mres\u001b[0m\u001b[1;33m)\u001b[0m\u001b[1;33m)\u001b[0m\u001b[1;33m\u001b[0m\u001b[1;33m\u001b[0m\u001b[0m\n\u001b[0;32m     14\u001b[0m \u001b[1;33m\u001b[0m\u001b[0m\n",
      "\u001b[1;31mValueError\u001b[0m: invalid literal for int() with base 10: ' '"
     ]
    }
   ],
   "source": [
    "inputf = open('input.txt', 'r')\n",
    "output = open('output.txt', 'w')\n",
    "\n",
    "wallet = inputf.read()\n",
    "coin_days = [1] # сколько дней можно прожить с одной монетой номинала 0\n",
    "\n",
    "for i in range (1, 10): # номинал от 1 до 9\n",
    "    coin_days.append(1 + i*coin_days[i - 1]) # создаем список, показывающий, сколько дней можно прожить на одну монету номинала i\n",
    "\n",
    "res = 0\n",
    "for coin in range (0, len(wallet)): # суммируем все монеты\n",
    "    res += coin_days[int(wallet[coin])]\n",
    "output.write(str(res))\n",
    "\n",
    "inputf.close()\n",
    "output.close()"
   ]
  },
  {
   "cell_type": "code",
   "execution_count": 44,
   "metadata": {},
   "outputs": [],
   "source": [
    "inputf = open('input.txt', 'r')\n",
    "output = open('output.txt', 'w')\n",
    "\n",
    "n_a_b = inputf.read().split()\n",
    "\n",
    "symbols = '0123456789abcdefghijklmnopqrstuvwxyz'\n",
    "\n",
    "def get_num(symb):\n",
    "    for i in range(0, 36):\n",
    "        if symb == symbols[i]:\n",
    "            return i\n",
    "def get_symb(num):\n",
    "    return symbols[num]\n",
    "\n",
    "def to_decimal(num_A, base_A): # будем решать задачу с помощью промежуточного перевода в десятичную систему счисления\n",
    "    order = len(num_A)\n",
    "    result = 0\n",
    "    for digit in range(0, order):\n",
    "        result += get_num(num_A[digit]) * (base_A ** (order - digit - 1))\n",
    "    return result\n",
    "\n",
    "def to_new_base(num_10, base_B): # переводит из десятичной системы счисления в нужную нам\n",
    "    Highest_power = 0\n",
    "    while num_10 >= base_B ** Highest_power:\n",
    "        Highest_power += 1\n",
    "    result = ''\n",
    "    for power in range(0, Highest_power):\n",
    "        N = 0\n",
    "        while num_10 >= (N+1)*base_B ** (Highest_power - power - 1):\n",
    "            N += 1\n",
    "        result += get_symb(N)\n",
    "        num_10 -= N*base_B ** (Highest_power - power - 1)\n",
    "    return result\n",
    "\n",
    "N_10 = to_decimal(n_a_b[0], int(n_a_b[1]))\n",
    "output.write(to_new_base(N_10, int(n_a_b[2])))\n",
    "\n",
    "inputf.close()\n",
    "output.close()"
   ]
  },
  {
   "cell_type": "code",
   "execution_count": 71,
   "metadata": {},
   "outputs": [],
   "source": [
    "inputf = open('input.txt', 'r')\n",
    "output = open('output.txt', 'w')\n",
    "\n",
    "a = inputf.readline().split()\n",
    "N, M = int(a[0]), int(a[1]) # если в первой строке потом шел какой-то мусор, то мы его потеряли\n",
    "\n",
    "A = []\n",
    "for i in range(0, M):\n",
    "    A.append(list(inputf.read(N)))\n",
    "    inputf.read(1) # избавляемся от переносов строки\n",
    "    \n",
    "changing = True \n",
    "A[0][0] = '@'  # стартуем из (0;0)\n",
    "\n",
    "while changing == True:\n",
    "    changing = False\n",
    "    for i in range(0, M):\n",
    "        for j in range(0, N):    # выходим из (0;0) и на каждом шагу заполняем соседние клетки, в итоге когда процесс прекратится,\n",
    "            if A[i][j] == '.':   # либо последняя клетка будет в нашей компоненте связности, либо нет.\n",
    "                if (i > 0 and A[i - 1][j] == '@') or (i < M - 1 and A[i + 1][j] == '@') or (j > 0 and A[i][j - 1] == '@') or (j < N - 1 and A[i][j + 1] == '@'):\n",
    "                    A[i][j] = '@'\n",
    "                    changing = True\n",
    "\n",
    "if A[M-1][N-1] == '@': # дошли\n",
    "    output.write('1')\n",
    "else:                  # не дошли\n",
    "    output.write('0')\n",
    "\n",
    "inputf.close()\n",
    "output.close()"
   ]
  },
  {
   "cell_type": "code",
   "execution_count": 57,
   "metadata": {},
   "outputs": [
    {
     "data": {
      "text/plain": [
       "True"
      ]
     },
     "execution_count": 57,
     "metadata": {},
     "output_type": "execute_result"
    }
   ],
   "source": []
  },
  {
   "cell_type": "code",
   "execution_count": null,
   "metadata": {
    "collapsed": true
   },
   "outputs": [],
   "source": []
  }
 ],
 "metadata": {
  "kernelspec": {
   "display_name": "Python 3",
   "language": "python",
   "name": "python3"
  },
  "language_info": {
   "codemirror_mode": {
    "name": "ipython",
    "version": 3
   },
   "file_extension": ".py",
   "mimetype": "text/x-python",
   "name": "python",
   "nbconvert_exporter": "python",
   "pygments_lexer": "ipython3",
   "version": "3.7.3"
  }
 },
 "nbformat": 4,
 "nbformat_minor": 1
}
