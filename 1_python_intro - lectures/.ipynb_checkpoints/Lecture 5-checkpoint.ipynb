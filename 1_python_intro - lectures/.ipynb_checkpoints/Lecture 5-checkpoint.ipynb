{
 "cells": [
  {
   "cell_type": "markdown",
   "metadata": {},
   "source": [
    "# Объектно Ориентированное Программирование ООП"
   ]
  },
  {
   "cell_type": "markdown",
   "metadata": {},
   "source": [
    "Рассмотрим пример объявления класса"
   ]
  },
  {
   "cell_type": "code",
   "execution_count": 1,
   "metadata": {},
   "outputs": [],
   "source": [
    "class Pet:\n",
    "    def __init__(self, name, animal, age):\n",
    "        self.name = name\n",
    "        self.animal = animal\n",
    "        self.age = age\n",
    "    def desc(self):\n",
    "        return \"У меня есть \" + self.animal + \" его зовут \" + self.name + \" ему \"+str(self.age)+ \" лет\"\n",
    "    def rename(self,newname):\n",
    "        self.name = newname"
   ]
  },
  {
   "cell_type": "markdown",
   "metadata": {},
   "source": [
    "Класс -- это новый тип, как строка, целое число или список. Объект -- это конкретные данные данного типа (например Pet). \n",
    "Создать объект можно так:"
   ]
  },
  {
   "cell_type": "code",
   "execution_count": 2,
   "metadata": {},
   "outputs": [
    {
     "data": {
      "text/plain": [
       "__main__.Pet"
      ]
     },
     "execution_count": 2,
     "metadata": {},
     "output_type": "execute_result"
    }
   ],
   "source": [
    "p = Pet('Мурка', \"кошка\", 10)\n",
    "type(p)"
   ]
  },
  {
   "cell_type": "markdown",
   "metadata": {},
   "source": [
    "Мы видим, что тип переменной p \\_\\_main\\_\\_.Pet, на \\_\\_main\\_\\_ можно не обращать пока внимание мы поговорим об этом когда будем говорить про модули.\n",
    "\n",
    "Если посмотреть на наш класс у него есть свойства name, animal, age, к которым можно получить доступ непосредственно:"
   ]
  },
  {
   "cell_type": "code",
   "execution_count": 3,
   "metadata": {},
   "outputs": [
    {
     "name": "stdout",
     "output_type": "stream",
     "text": [
      "кошка Мурка 10\n"
     ]
    }
   ],
   "source": [
    "print(p.animal, p.name, p.age)"
   ]
  },
  {
   "cell_type": "markdown",
   "metadata": {},
   "source": [
    "Но делать так (т.е. обращаться к свойствам непосредственно) считается плохим тоном, и противоричит принципам ООП. \n",
    "Все что нужно делать с объектом стараются делать с помощью методов.\n",
    "Например в нашем классе есть 2 метода: desc и rename.\n",
    "Обратите внимание, что у всех методов обязательно первый будет self (называние может быть другим, но по традиции имя первого аргумента всегда такое) в этом аргументе передается ссылка на объект из которого запускается этот метод. Например,"
   ]
  },
  {
   "cell_type": "code",
   "execution_count": 4,
   "metadata": {},
   "outputs": [
    {
     "name": "stdout",
     "output_type": "stream",
     "text": [
      "Мурка\n",
      "Барсик\n"
     ]
    }
   ],
   "source": [
    "print(p.name)\n",
    "p.rename('Барсик')\n",
    "print(p.name)"
   ]
  },
  {
   "cell_type": "markdown",
   "metadata": {},
   "source": [
    "Заметим, что у когда мы запускаем метод rename у него только один аргумент, в то время когда при объявлении этого метода в классе у него было 2 аргумента: self и newname. Но в качестве self передается сама переменная p. Т.е. когда мы пишим p.rename('Барсик'), мы как бы запускаем функцию rename(p, 'Барсик').\n",
    "\n",
    "Функция desc() выводит хорошее описание нашего животного, а print() выведет что-то неудобочитаемое:"
   ]
  },
  {
   "cell_type": "code",
   "execution_count": 5,
   "metadata": {},
   "outputs": [
    {
     "name": "stdout",
     "output_type": "stream",
     "text": [
      "<__main__.Pet object at 0x000001423C60D940>\n"
     ]
    },
    {
     "data": {
      "text/plain": [
       "'У меня есть кошка его зовут Барсик ему 10 лет'"
      ]
     },
     "execution_count": 5,
     "metadata": {},
     "output_type": "execute_result"
    }
   ],
   "source": [
    "print(p)\n",
    "p.desc()"
   ]
  },
  {
   "cell_type": "markdown",
   "metadata": {},
   "source": [
    "Чтобы сделать так, чтобы print выдавал то же что и desc() нужно знать как работает print().\n",
    "На самом деле, print пытается вызвать метод \\_\\_str\\_\\_(). И если вы явно не объявили такой метод, то print() выводит техническую информацию об объекте. Давайте свставим объявление такого метода в наш класс, причем нам не обязательно заново писать описание, достаточно вызвать метод desc:"
   ]
  },
  {
   "cell_type": "code",
   "execution_count": 6,
   "metadata": {},
   "outputs": [],
   "source": [
    "class Pet1:\n",
    "    def __init__(self, name, animal, age):\n",
    "        self.name = name\n",
    "        self.animal = animal\n",
    "        self.age = age\n",
    "    def desc(self):\n",
    "        return \"У меня есть \" + self.animal + \" его зовут \" + self.name + \" ему \"+str(self.age)+ \" лет\"\n",
    "    def rename(self,newname):\n",
    "        self.name = newname\n",
    "    def __str__(self):\n",
    "        return self.desc()"
   ]
  },
  {
   "cell_type": "markdown",
   "metadata": {},
   "source": [
    "Чтобы этот класс не путался с тем мы назвали его немного по другомы и нужно созадть новый объект этого нового класс:"
   ]
  },
  {
   "cell_type": "code",
   "execution_count": 7,
   "metadata": {},
   "outputs": [
    {
     "name": "stdout",
     "output_type": "stream",
     "text": [
      "У меня есть кот его зовут Пират ему 12 лет\n"
     ]
    }
   ],
   "source": [
    "p1 = Pet1('Пират','кот', 12)\n",
    "print(p1)"
   ]
  },
  {
   "cell_type": "markdown",
   "metadata": {
    "collapsed": true
   },
   "source": [
    "Вообще в питоне ну классов есть много таких специальных фукнций, которые используются другими операторами и функциями языка. Некоторые (но не все) из них можно увидеть, если выполнить"
   ]
  },
  {
   "cell_type": "code",
   "execution_count": 8,
   "metadata": {},
   "outputs": [
    {
     "data": {
      "text/plain": [
       "['__class__',\n",
       " '__delattr__',\n",
       " '__dict__',\n",
       " '__dir__',\n",
       " '__doc__',\n",
       " '__eq__',\n",
       " '__format__',\n",
       " '__ge__',\n",
       " '__getattribute__',\n",
       " '__gt__',\n",
       " '__hash__',\n",
       " '__init__',\n",
       " '__init_subclass__',\n",
       " '__le__',\n",
       " '__lt__',\n",
       " '__module__',\n",
       " '__ne__',\n",
       " '__new__',\n",
       " '__reduce__',\n",
       " '__reduce_ex__',\n",
       " '__repr__',\n",
       " '__setattr__',\n",
       " '__sizeof__',\n",
       " '__str__',\n",
       " '__subclasshook__',\n",
       " '__weakref__',\n",
       " 'age',\n",
       " 'animal',\n",
       " 'desc',\n",
       " 'name',\n",
       " 'rename']"
      ]
     },
     "execution_count": 8,
     "metadata": {},
     "output_type": "execute_result"
    }
   ],
   "source": [
    "dir(p)"
   ]
  },
  {
   "cell_type": "markdown",
   "metadata": {},
   "source": [
    "Как видите здесь много методов, которые у которых в имени двойные подчеркивания все они такие специальные методы."
   ]
  },
  {
   "cell_type": "markdown",
   "metadata": {},
   "source": [
    "# Инкапсуляция"
   ]
  },
  {
   "cell_type": "markdown",
   "metadata": {},
   "source": [
    "В нашем примере мы увидели, один из основных принципов ООП -- инкапсуляцию. \n",
    "Этот принцип заключается в том, что мы стараемся определить тип объектов, которые мы будем использовать в нашей программе и стараемся инкапсулировать все что относится к этому объекту внутрь класса. А именно мы выделяем свойства объекта, которые отражают внутренюю структуру объекта, и методы, которые позволяют взаимодействовать с объектом \"снаружи\". В более структурированных языках, таких как C++, Java и Pascal, можно сделать свойства невидимыми \"снаружи\", что отражает принцип инкапсуляции, у питона таких средств нет, но все равно непосредственное обращение к свойствам считается не очень хорошим."
   ]
  },
  {
   "cell_type": "markdown",
   "metadata": {},
   "source": [
    "# Наследование"
   ]
  },
  {
   "cell_type": "markdown",
   "metadata": {},
   "source": [
    "Одним из основных задач ООП является уменьшения количества кода, который нужно писать. Для этой цели служит __Наследование__.\n",
    "\n",
    "Наследование — свойство системы, позволяющее описать новый класс на основе уже существующего с частично или полностью заимствующейся функциональностью. Класс, от которого производится наследование, называется базовым, родительским или суперклассом. Новый класс — потомком, наследником, дочерним или производным классом."
   ]
  },
  {
   "cell_type": "code",
   "execution_count": 9,
   "metadata": {},
   "outputs": [],
   "source": [
    "class Cat(Pet1):\n",
    "    def __init__(self, name, age, favoritetoy):\n",
    "        #self.n = n\n",
    "        super().__init__(name,'кошка', age)\n",
    "        self.favoritetoy = favoritetoy"
   ]
  },
  {
   "cell_type": "code",
   "execution_count": 10,
   "metadata": {},
   "outputs": [
    {
     "name": "stdout",
     "output_type": "stream",
     "text": [
      "У меня есть кошка его зовут Мурка ему 10 лет\n",
      "У меня есть кошка его зовут Машка ему 10 лет\n"
     ]
    }
   ],
   "source": [
    "murka = Cat('Мурка', 10, 'мячик')\n",
    "print(murka)\n",
    "murka.rename(\"Машка\")\n",
    "print(murka.desc())"
   ]
  },
  {
   "cell_type": "markdown",
   "metadata": {},
   "source": [
    "Как видим все методы класса-родителя работают корректно и в дочернем классе. Но можно и добавить новые методы, они будут работать только в новом классе.\n",
    "\n",
    "Обратите внимание, что метод \\_\\_init\\_\\_() не обязательно переписывать заново, можно запустить метод-конструктор класса-родителя это можно сделать двумя способами: так как сделано сдесь или как написано ниже, явно обратившись к имени класса-родителя, но тогда обязательно указать переменную self в качестве первого аргумента."
   ]
  },
  {
   "cell_type": "code",
   "execution_count": 11,
   "metadata": {},
   "outputs": [],
   "source": [
    "class Cat1(Pet1):\n",
    "    def __init__(self, name, age, favoritetoy):\n",
    "        #self.n = n\n",
    "        Pet1.__init__(self,name,'кошка', age)\n",
    "        self.favoritetoy = favoritetoy\n",
    "    def changetoy(self, newtoy):\n",
    "        self.favoritetoy = newtoy"
   ]
  },
  {
   "cell_type": "code",
   "execution_count": 12,
   "metadata": {},
   "outputs": [
    {
     "name": "stdout",
     "output_type": "stream",
     "text": [
      "мячик\n",
      "мышка\n"
     ]
    }
   ],
   "source": [
    "mashka = Cat1('Машка', 9, 'мячик')\n",
    "print(mashka.favoritetoy)\n",
    "mashka.changetoy('мышка')\n",
    "print(mashka.favoritetoy)"
   ]
  },
  {
   "cell_type": "markdown",
   "metadata": {},
   "source": [
    "Дальше мы захотим поменять описание кошки, чтобы выводилась в каком-то виде игрушка. Для этого воспользуемся еще одним важным принципом ООП -- полиморфимом.\n",
    "\n",
    "# Полиморфизм\n",
    "\n",
    "Полиморфизм, это возможность переопределять методы с теми же именами у дочерних классов. При этом, если старые методы в своей работе используют этот метод в дочернем классе они будут использовать новую версию метода.\n",
    "На нашем примере:"
   ]
  },
  {
   "cell_type": "code",
   "execution_count": 13,
   "metadata": {},
   "outputs": [],
   "source": [
    "class Cat2(Pet1):\n",
    "    def __init__(self, name, age, favoritetoy):\n",
    "        #self.n = n\n",
    "        Pet1.__init__(self,name,'кошка', age)\n",
    "        self.favoritetoy = favoritetoy\n",
    "    def changetoy(self, newtoy):\n",
    "        self.favoritetoy = newtoy\n",
    "    def desc(self):\n",
    "        s = super().desc()+ 'И любит играть с '+self.favoritetoy\n",
    "        return s"
   ]
  },
  {
   "cell_type": "code",
   "execution_count": 14,
   "metadata": {},
   "outputs": [
    {
     "name": "stdout",
     "output_type": "stream",
     "text": [
      "У меня есть кошка его зовут Мурзик ему 5 летИ любит играть с крыска\n"
     ]
    },
    {
     "data": {
      "text/plain": [
       "'У меня есть кошка его зовут Мурзик ему 5 летИ любит играть с крыска'"
      ]
     },
     "execution_count": 14,
     "metadata": {},
     "output_type": "execute_result"
    }
   ],
   "source": [
    "murzik = Cat2(\"Мурзик\", 5, \"крыска\")\n",
    "print(murzik)\n",
    "murzik.desc()"
   ]
  },
  {
   "cell_type": "markdown",
   "metadata": {},
   "source": [
    "Как видите, хотя мы не переписывали метод \\_\\_str\\_\\_() (он запускается при вызове print), но он запускает новую версию desc.\n",
    "Заметим также, что в новой версии desc мы используем старый метод тоже."
   ]
  },
  {
   "cell_type": "code",
   "execution_count": null,
   "metadata": {
    "collapsed": true
   },
   "outputs": [],
   "source": []
  }
 ],
 "metadata": {
  "anaconda-cloud": {},
  "kernelspec": {
   "display_name": "Python 3",
   "language": "python",
   "name": "python3"
  },
  "language_info": {
   "codemirror_mode": {
    "name": "ipython",
    "version": 3
   },
   "file_extension": ".py",
   "mimetype": "text/x-python",
   "name": "python",
   "nbconvert_exporter": "python",
   "pygments_lexer": "ipython3",
   "version": "3.7.3"
  }
 },
 "nbformat": 4,
 "nbformat_minor": 1
}
