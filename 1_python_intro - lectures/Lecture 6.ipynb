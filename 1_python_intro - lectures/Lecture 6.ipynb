{
 "cells": [
  {
   "cell_type": "markdown",
   "metadata": {},
   "source": [
    "## Определим класс домашних животных"
   ]
  },
  {
   "cell_type": "code",
   "execution_count": 1,
   "metadata": {},
   "outputs": [],
   "source": [
    "class Pet:\n",
    "    '''\n",
    "    Класс домашнего животного. \n",
    "    '''\n",
    "    def __init__(self, name, animal, age):\n",
    "        '''\n",
    "        Конструктор класса, задающий имя, типживотного и возраст\n",
    "        '''\n",
    "        self.name = name\n",
    "        self.animal = animal\n",
    "        self.age = age\n",
    "    def desc(self):\n",
    "        '''Метод выводящий описание животного'''\n",
    "        return \"У меня есть \" + self.animal + \" его зовут \" + self.name + \" ему \"+str(self.age)+ \" лет\"\n",
    "    def rename(self,newname):\n",
    "        '''Переименовывает животное'''\n",
    "        self.name = newname\n",
    "    def __str__(self):\n",
    "        '''Служебный метод для корректной работы print()'''\n",
    "        s =''\n",
    "        for i in self.__dict__:\n",
    "            s+= str(i) + \" : \" + str(self.__dict__[i])+\";\"\n",
    "        return s"
   ]
  },
  {
   "cell_type": "markdown",
   "metadata": {},
   "source": [
    "## Следующим образом можно определить дочерний класс"
   ]
  },
  {
   "cell_type": "code",
   "execution_count": 2,
   "metadata": {},
   "outputs": [],
   "source": [
    "class Cat(Pet):\n",
    "    '''\n",
    "    Дочерний класс для кошек\n",
    "    '''\n",
    "    def __init__(self, name, age=2, favoritetoy='мяч'):\n",
    "        '''\n",
    "        Конструктор, задает имя, возраст и любимую игрушку. \n",
    "        Возраст и игрушка имеют значение по умолчанию 2 и \"мяч\", соответственно\n",
    "        '''\n",
    "        super().__init__(name,'кошка', age)\n",
    "        self.favoritetoy = favoritetoy\n",
    "    def changetoy(self, newtoy):\n",
    "        '''\n",
    "        Метод замены любимой игрушки\n",
    "        '''\n",
    "        self.favoritetoy = newtoy\n",
    "    def desc(self):\n",
    "        '''\n",
    "        Обновляем описание.\n",
    "        '''\n",
    "        s = super().desc()+ '. И он любит играть с '+self.favoritetoy\n",
    "        return s"
   ]
  },
  {
   "cell_type": "code",
   "execution_count": 3,
   "metadata": {},
   "outputs": [],
   "source": [
    "tom = Cat(\"Том\", 2, \"мячик\")"
   ]
  },
  {
   "cell_type": "code",
   "execution_count": 4,
   "metadata": {},
   "outputs": [
    {
     "name": "stdout",
     "output_type": "stream",
     "text": [
      "name : Том;animal : кошка;age : 2;favoritetoy : мячик;\n"
     ]
    }
   ],
   "source": [
    "print(tom)"
   ]
  },
  {
   "cell_type": "markdown",
   "metadata": {},
   "source": [
    "Следующее специальное свойство дает возможность получить все свойства класса в виде словаря."
   ]
  },
  {
   "cell_type": "code",
   "execution_count": 5,
   "metadata": {},
   "outputs": [
    {
     "data": {
      "text/plain": [
       "{'name': 'Том', 'animal': 'кошка', 'age': 2, 'favoritetoy': 'мячик'}"
      ]
     },
     "execution_count": 5,
     "metadata": {},
     "output_type": "execute_result"
    }
   ],
   "source": [
    "tom.__dict__"
   ]
  },
  {
   "cell_type": "markdown",
   "metadata": {},
   "source": [
    "Следующий пример илюстрирует как выводится помощь по классу."
   ]
  },
  {
   "cell_type": "code",
   "execution_count": 6,
   "metadata": {},
   "outputs": [
    {
     "name": "stdout",
     "output_type": "stream",
     "text": [
      "Help on Cat in module __main__ object:\n",
      "\n",
      "class Cat(Pet)\n",
      " |  Cat(name, age=2, favoritetoy='мяч')\n",
      " |  \n",
      " |  Дочерний класс для кошек\n",
      " |  \n",
      " |  Method resolution order:\n",
      " |      Cat\n",
      " |      Pet\n",
      " |      builtins.object\n",
      " |  \n",
      " |  Methods defined here:\n",
      " |  \n",
      " |  __init__(self, name, age=2, favoritetoy='мяч')\n",
      " |      Конструктор, задает имя, возраст и любимую игрушку. \n",
      " |      Возраст и игрушка имеют значение по умолчанию 2 и \"мяч\", соответственно\n",
      " |  \n",
      " |  changetoy(self, newtoy)\n",
      " |      Метод замены любимой игрушки\n",
      " |  \n",
      " |  desc(self)\n",
      " |      Обновляем описание.\n",
      " |  \n",
      " |  ----------------------------------------------------------------------\n",
      " |  Methods inherited from Pet:\n",
      " |  \n",
      " |  __str__(self)\n",
      " |      Служебный метод для корректной работы print()\n",
      " |  \n",
      " |  rename(self, newname)\n",
      " |      Переименовывает животное\n",
      " |  \n",
      " |  ----------------------------------------------------------------------\n",
      " |  Data descriptors inherited from Pet:\n",
      " |  \n",
      " |  __dict__\n",
      " |      dictionary for instance variables (if defined)\n",
      " |  \n",
      " |  __weakref__\n",
      " |      list of weak references to the object (if defined)\n",
      "\n"
     ]
    }
   ],
   "source": [
    "help(tom)"
   ]
  },
  {
   "cell_type": "markdown",
   "metadata": {},
   "source": [
    "Класс создает свое пространство имен. Доступ к свойствам и методам реализуется с помощью точки. \n",
    "Причем переменные могут быть определены в самом классе. В этом случае они будут доступны во всех экземплярах."
   ]
  },
  {
   "cell_type": "code",
   "execution_count": 7,
   "metadata": {},
   "outputs": [],
   "source": [
    "class vector:\n",
    "    n = 1"
   ]
  },
  {
   "cell_type": "code",
   "execution_count": 8,
   "metadata": {},
   "outputs": [],
   "source": [
    "v1 = vector()\n",
    "v2 = vector()\n"
   ]
  },
  {
   "cell_type": "code",
   "execution_count": 9,
   "metadata": {},
   "outputs": [
    {
     "data": {
      "text/plain": [
       "1"
      ]
     },
     "execution_count": 9,
     "metadata": {},
     "output_type": "execute_result"
    }
   ],
   "source": [
    "v1.n"
   ]
  },
  {
   "cell_type": "markdown",
   "metadata": {},
   "source": [
    "Чтобы изменить значение переменной, к ней нужно обратиться по имени класса, а не по имени экземпляров."
   ]
  },
  {
   "cell_type": "code",
   "execution_count": 10,
   "metadata": {},
   "outputs": [],
   "source": [
    "vector.n = 2"
   ]
  },
  {
   "cell_type": "code",
   "execution_count": 11,
   "metadata": {},
   "outputs": [
    {
     "data": {
      "text/plain": [
       "(2, 2)"
      ]
     },
     "execution_count": 11,
     "metadata": {},
     "output_type": "execute_result"
    }
   ],
   "source": [
    "v1.n, v2.n"
   ]
  },
  {
   "cell_type": "markdown",
   "metadata": {},
   "source": [
    "Следующая команда не изменит переменную n в классе, а создаст новую переменную в экземпляре класса с тем же именем."
   ]
  },
  {
   "cell_type": "code",
   "execution_count": 12,
   "metadata": {},
   "outputs": [],
   "source": [
    "v1.n = 3"
   ]
  },
  {
   "cell_type": "code",
   "execution_count": 13,
   "metadata": {},
   "outputs": [
    {
     "data": {
      "text/plain": [
       "(3, 2)"
      ]
     },
     "execution_count": 13,
     "metadata": {},
     "output_type": "execute_result"
    }
   ],
   "source": [
    "v1.n, v2.n"
   ]
  },
  {
   "cell_type": "markdown",
   "metadata": {},
   "source": [
    "# Перегрузка операторов"
   ]
  },
  {
   "cell_type": "raw",
   "metadata": {},
   "source": [
    "__new__(cls[, ...]) — управляет созданием экземпляра. В качестве обязательного аргумента принимает класс (не путать с экземпляром). Должен возвращать экземпляр класса для его последующей его передачи методу __init__.\n",
    "\n",
    "__init__(self[, ...]) - как уже было сказано выше, конструктор.\n",
    "\n",
    "__del__(self) - вызывается при удалении объекта сборщиком мусора.\n",
    "\n",
    "__repr__(self) - вызывается встроенной функцией repr; возвращает \"сырые\" данные, использующиеся для внутреннего представления в python.\n",
    "\n",
    "__str__(self) - вызывается функциями str, print и format. Возвращает строковое представление объекта.\n",
    "\n",
    "__bytes__(self) - вызывается функцией bytes при преобразовании к байтам.\n",
    "\n",
    "__format__(self, format_spec) - используется функцией format (а также методом format у строк).\n",
    "\n",
    "__lt__(self, other) - x < y вызывает x.__lt__(y).\n",
    "\n",
    "__le__(self, other) - x ≤ y вызывает x.__le__(y).\n",
    "\n",
    "__eq__(self, other) - x == y вызывает x.__eq__(y).\n",
    "\n",
    "__ne__(self, other) - x != y вызывает x.__ne__(y)\n",
    "\n",
    "__gt__(self, other) - x > y вызывает x.__gt__(y).\n",
    "\n",
    "__ge__(self, other) - x ≥ y вызывает x.__ge__(y).\n",
    "\n",
    "__hash__(self) - получение хэш-суммы объекта, например, для добавления в словарь.\n",
    "\n",
    "__bool__(self) - вызывается при проверке истинности. Если этот метод не определён, вызывается метод __len__ (объекты, имеющие ненулевую длину, считаются истинными).\n",
    "\n",
    "__getattr__(self, name) - вызывается, когда атрибут экземпляра класса не найден в обычных местах (например, у экземпляра нет метода с таким названием).\n",
    "\n",
    "__setattr__(self, name, value) - назначение атрибута.\n",
    "\n",
    "__delattr__(self, name) - удаление атрибута (del obj.name).\n",
    "\n",
    "__call__(self[, args...]) - вызов экземпляра класса как функции.\n",
    "\n",
    "__len__(self) - длина объекта.\n",
    "\n",
    "__getitem__(self, key) - доступ по индексу (или ключу).\n",
    "\n",
    "__setitem__(self, key, value) - назначение элемента по индексу.\n",
    "\n",
    "__delitem__(self, key) - удаление элемента по индексу.\n",
    "\n",
    "__iter__(self) - возвращает итератор для контейнера.\n",
    "\n",
    "__reversed__(self) - итератор из элементов, следующих в обратном порядке.\n",
    "\n",
    "__contains__(self, item) - проверка на принадлежность элемента контейнеру (item in self).\n",
    "\n",
    "Перегрузка арифметических операторов\n",
    "__add__(self, other) - сложение. x + y вызывает x.__add__(y).\n",
    "\n",
    "__sub__(self, other) - вычитание (x - y).\n",
    "\n",
    "__mul__(self, other) - умножение (x * y).\n",
    "\n",
    "__truediv__(self, other) - деление (x / y).\n",
    "\n",
    "__floordiv__(self, other) - целочисленное деление (x // y).\n",
    "\n",
    "__mod__(self, other) - остаток от деления (x % y).\n",
    "\n",
    "__divmod__(self, other) - частное и остаток (divmod(x, y)).\n",
    "\n",
    "__pow__(self, other[, modulo]) - возведение в степень (x ** y, pow(x, y[, modulo])).\n",
    "\n",
    "__lshift__(self, other) - битовый сдвиг влево (x << y).\n",
    "\n",
    "__rshift__(self, other) - битовый сдвиг вправо (x >> y).\n",
    "\n",
    "__and__(self, other) - битовое И (x & y).\n",
    "\n",
    "__xor__(self, other) - битовое ИСКЛЮЧАЮЩЕЕ ИЛИ (x ^ y).\n",
    "\n",
    "__or__(self, other) - битовое ИЛИ (x | y).\n",
    "\n",
    "Следующие функции делают то же самое, что и арифметические операторы, перечисленные выше, но для аргументов, находящихся справа, и только в случае, если для левого операнда не определён соответствующий метод.\n",
    "\n",
    "Например, операция x + y будет сначала пытаться вызвать x.__add__(y), и только в том случае, если это не получилось, будет пытаться вызвать y.__radd__(x). Аналогично для остальных методов.\n",
    "\n",
    "__radd__(self, other),\n",
    "\n",
    "__rsub__(self, other),\n",
    "\n",
    "__rmul__(self, other),\n",
    "\n",
    "__rtruediv__(self, other),\n",
    "\n",
    "__rfloordiv__(self, other),\n",
    "\n",
    "__rmod__(self, other),\n",
    "\n",
    "__rdivmod__(self, other),\n",
    "\n",
    "__rpow__(self, other),\n",
    "\n",
    "__rlshift__(self, other),\n",
    "\n",
    "__rrshift__(self, other),\n",
    "\n",
    "__rand__(self, other),\n",
    "\n",
    "__rxor__(self, other),\n",
    "\n",
    "__ror__(self, other)\n",
    "\n",
    "\n",
    "Дальше удут операторы, которые запускаются в первую очередь в выражения типа += или *=.\n",
    "\n",
    "__iadd__(self, other) - +=\n",
    "\n",
    "__isub__(self, other) - -=\n",
    "\n",
    "__imul__(self, other) - *=\n",
    "\n",
    "__itruediv__(self, other) - /=\n",
    "\n",
    "__ifloordiv__(self, other) - //=\n",
    "\n",
    "__imod__(self, other) - %=\n",
    "\n",
    "__ipow__(self, other[, modulo]) - **=\n",
    "\n",
    "__ilshift__(self, other) - <<=\n",
    "\n",
    "__irshift__(self, other) - >>=\n",
    "\n",
    "__iand__(self, other) - &=\n",
    "\n",
    "__ixor__(self, other) - ^=\n",
    "\n",
    "__ior__(self, other) - |=\n",
    "\n",
    "\n",
    "И несколько пару операторов\n",
    "\n",
    "__neg__(self) - унарный -.\n",
    "\n",
    "__pos__(self) - унарный +.\n",
    "\n",
    "\n",
    "\n",
    "__abs__(self) - модуль (abs()).\n",
    "\n",
    "__invert__(self) - инверсия (~).\n",
    "\n",
    "__complex__(self) - приведение к complex.\n",
    "\n",
    "__int__(self) - приведение к int.\n",
    "\n",
    "__float__(self) - приведение к float.\n",
    "\n",
    "__round__(self[, n]) - округление."
   ]
  },
  {
   "cell_type": "markdown",
   "metadata": {},
   "source": [
    "Рассмотрим некоторые из этих методов на примере двухмерного вектора, для которого переопределим некоторые методы."
   ]
  },
  {
   "cell_type": "code",
   "execution_count": 14,
   "metadata": {},
   "outputs": [],
   "source": [
    "class Vector2D:\n",
    "    def __init__(self, x, y):\n",
    "        self.x = x\n",
    "        self.y = y\n",
    "\n",
    "    def __repr__(self):\n",
    "        return 'Vector2D({}, {})'.format(self.x, self.y)\n",
    "\n",
    "    def __str__(self):\n",
    "        return '({}, {})'.format(self.x, self.y)\n",
    "\n",
    "    def __add__(self, other):\n",
    "        return Vector2D(self.x + other.x, self.y + other.y)\n",
    "\n",
    "    def __iadd__(self, other):\n",
    "        self.x += other.x\n",
    "        self.y += other.y\n",
    "        return self\n",
    "\n",
    "    def __sub__(self, other):\n",
    "        return Vector2D(self.x - other.x, self.y - other.y)\n",
    "\n",
    "    def __isub__(self, other):\n",
    "        self.x -= other.x\n",
    "        self.y -= other.y\n",
    "        return self\n",
    "\n",
    "    def __abs__(self):\n",
    "        return math.hypot(self.x, self.y)\n",
    "\n",
    "    def __bool__(self):\n",
    "        return self.x != 0 or self.y != 0\n",
    "\n",
    "    def __neg__(self):\n",
    "        return Vector2D(-self.x, -self.y)\n"
   ]
  },
  {
   "cell_type": "code",
   "execution_count": 15,
   "metadata": {},
   "outputs": [],
   "source": [
    "x = Vector2D(2,1)"
   ]
  },
  {
   "cell_type": "code",
   "execution_count": 16,
   "metadata": {},
   "outputs": [
    {
     "data": {
      "text/plain": [
       "Vector2D(2, 1)"
      ]
     },
     "execution_count": 16,
     "metadata": {},
     "output_type": "execute_result"
    }
   ],
   "source": [
    "x"
   ]
  },
  {
   "cell_type": "code",
   "execution_count": 17,
   "metadata": {},
   "outputs": [
    {
     "name": "stdout",
     "output_type": "stream",
     "text": [
      "(2, 1)\n"
     ]
    }
   ],
   "source": [
    "print(x)"
   ]
  },
  {
   "cell_type": "code",
   "execution_count": 18,
   "metadata": {},
   "outputs": [
    {
     "name": "stdout",
     "output_type": "stream",
     "text": [
      "(-2, -1)\n"
     ]
    }
   ],
   "source": [
    "print(-x)"
   ]
  },
  {
   "cell_type": "code",
   "execution_count": 19,
   "metadata": {},
   "outputs": [
    {
     "data": {
      "text/plain": [
       "Vector2D(1, 5)"
      ]
     },
     "execution_count": 19,
     "metadata": {},
     "output_type": "execute_result"
    }
   ],
   "source": [
    "y = Vector2D(-1, 4)\n",
    "x + y"
   ]
  },
  {
   "cell_type": "code",
   "execution_count": 20,
   "metadata": {},
   "outputs": [
    {
     "data": {
      "text/plain": [
       "Vector2D(3, -3)"
      ]
     },
     "execution_count": 20,
     "metadata": {},
     "output_type": "execute_result"
    }
   ],
   "source": [
    "x - y"
   ]
  },
  {
   "cell_type": "code",
   "execution_count": 21,
   "metadata": {},
   "outputs": [
    {
     "data": {
      "text/plain": [
       "Vector2D(3.4, 5.3)"
      ]
     },
     "execution_count": 21,
     "metadata": {},
     "output_type": "execute_result"
    }
   ],
   "source": [
    "z = Vector2D(1.4, 4.3)\n",
    "x+z"
   ]
  },
  {
   "cell_type": "code",
   "execution_count": 22,
   "metadata": {},
   "outputs": [
    {
     "name": "stdout",
     "output_type": "stream",
     "text": [
      "(3.4, 5.3)\n"
     ]
    }
   ],
   "source": [
    "xx = x\n",
    "x +=z\n",
    "print(x)"
   ]
  },
  {
   "cell_type": "code",
   "execution_count": 23,
   "metadata": {},
   "outputs": [
    {
     "data": {
      "text/plain": [
       "True"
      ]
     },
     "execution_count": 23,
     "metadata": {},
     "output_type": "execute_result"
    }
   ],
   "source": [
    "xx is x"
   ]
  },
  {
   "cell_type": "markdown",
   "metadata": {
    "collapsed": true
   },
   "source": [
    "Нужно добавить умножение на число. Сделайте это.\n",
    "Еще можно подумать о том, как обобщить этот класс на случай векторов произвольной размерности."
   ]
  },
  {
   "cell_type": "markdown",
   "metadata": {
    "collapsed": true
   },
   "source": [
    "# Итераторы и генераторы"
   ]
  },
  {
   "cell_type": "markdown",
   "metadata": {
    "collapsed": true
   },
   "source": [
    "Общий синтаксис"
   ]
  },
  {
   "cell_type": "code",
   "execution_count": 24,
   "metadata": {},
   "outputs": [
    {
     "name": "stdout",
     "output_type": "stream",
     "text": [
      "[0, 2, 4, 6, 8]\n"
     ]
    }
   ],
   "source": [
    "a = [x for x in range(10) if x % 2 == 0]\n",
    "print(a)"
   ]
  },
  {
   "cell_type": "markdown",
   "metadata": {
    "collapsed": true
   },
   "source": [
    "Генератор"
   ]
  },
  {
   "cell_type": "code",
   "execution_count": 25,
   "metadata": {},
   "outputs": [
    {
     "name": "stdout",
     "output_type": "stream",
     "text": [
      "range(0, 10)\n"
     ]
    }
   ],
   "source": [
    "r = range(10)\n",
    "print(r)"
   ]
  },
  {
   "cell_type": "code",
   "execution_count": 26,
   "metadata": {},
   "outputs": [
    {
     "ename": "TypeError",
     "evalue": "'range' object is not an iterator",
     "output_type": "error",
     "traceback": [
      "\u001b[1;31m---------------------------------------------------------------------------\u001b[0m",
      "\u001b[1;31mTypeError\u001b[0m                                 Traceback (most recent call last)",
      "\u001b[1;32m<ipython-input-26-8ebe59a56b1d>\u001b[0m in \u001b[0;36m<module>\u001b[1;34m\u001b[0m\n\u001b[1;32m----> 1\u001b[1;33m \u001b[0mnext\u001b[0m\u001b[1;33m(\u001b[0m\u001b[0mr\u001b[0m\u001b[1;33m)\u001b[0m\u001b[1;33m\u001b[0m\u001b[1;33m\u001b[0m\u001b[0m\n\u001b[0m",
      "\u001b[1;31mTypeError\u001b[0m: 'range' object is not an iterator"
     ]
    }
   ],
   "source": [
    "next(r)"
   ]
  },
  {
   "cell_type": "code",
   "execution_count": 27,
   "metadata": {},
   "outputs": [],
   "source": [
    "I = iter(r) "
   ]
  },
  {
   "cell_type": "code",
   "execution_count": 28,
   "metadata": {},
   "outputs": [
    {
     "data": {
      "text/plain": [
       "0"
      ]
     },
     "execution_count": 28,
     "metadata": {},
     "output_type": "execute_result"
    }
   ],
   "source": [
    "next(I)"
   ]
  },
  {
   "cell_type": "code",
   "execution_count": 29,
   "metadata": {},
   "outputs": [
    {
     "data": {
      "text/plain": [
       "1"
      ]
     },
     "execution_count": 29,
     "metadata": {},
     "output_type": "execute_result"
    }
   ],
   "source": [
    "next(I)"
   ]
  },
  {
   "cell_type": "code",
   "execution_count": 30,
   "metadata": {},
   "outputs": [
    {
     "data": {
      "text/plain": [
       "2"
      ]
     },
     "execution_count": 30,
     "metadata": {},
     "output_type": "execute_result"
    }
   ],
   "source": [
    "I.__next__()"
   ]
  },
  {
   "cell_type": "markdown",
   "metadata": {
    "collapsed": true
   },
   "source": [
    "iter() вызывает метод __iter__()\n",
    "\n",
    "next() вызывает метод __next__() у итератора"
   ]
  },
  {
   "cell_type": "code",
   "execution_count": 31,
   "metadata": {},
   "outputs": [
    {
     "name": "stdout",
     "output_type": "stream",
     "text": [
      "0 1 2 3 4 5 6 7 8 9 "
     ]
    }
   ],
   "source": [
    "for x in r: print(x, end=' ')"
   ]
  },
  {
   "cell_type": "code",
   "execution_count": 32,
   "metadata": {},
   "outputs": [
    {
     "name": "stdout",
     "output_type": "stream",
     "text": [
      "0 1 2 3 4 5 6 7 8 9 "
     ]
    }
   ],
   "source": [
    "I = iter(range(10))\n",
    "for x in I: print(x, end=' ')"
   ]
  },
  {
   "cell_type": "markdown",
   "metadata": {
    "collapsed": true
   },
   "source": [
    "Сделаем сами итератор"
   ]
  },
  {
   "cell_type": "code",
   "execution_count": 33,
   "metadata": {},
   "outputs": [],
   "source": [
    "class myIter():\n",
    "    def __init__(self):\n",
    "        self.n = 0\n",
    "    def __next__(self):\n",
    "        self.n += 1\n",
    "        return self.n"
   ]
  },
  {
   "cell_type": "code",
   "execution_count": 34,
   "metadata": {},
   "outputs": [],
   "source": [
    "mi = myIter()"
   ]
  },
  {
   "cell_type": "code",
   "execution_count": 35,
   "metadata": {},
   "outputs": [
    {
     "ename": "TypeError",
     "evalue": "'myIter' object is not iterable",
     "output_type": "error",
     "traceback": [
      "\u001b[1;31m---------------------------------------------------------------------------\u001b[0m",
      "\u001b[1;31mTypeError\u001b[0m                                 Traceback (most recent call last)",
      "\u001b[1;32m<ipython-input-35-a2189be7a17e>\u001b[0m in \u001b[0;36m<module>\u001b[1;34m\u001b[0m\n\u001b[1;32m----> 1\u001b[1;33m \u001b[1;32mfor\u001b[0m \u001b[0mx\u001b[0m \u001b[1;32min\u001b[0m \u001b[0mmi\u001b[0m\u001b[1;33m:\u001b[0m\u001b[1;33m\u001b[0m\u001b[1;33m\u001b[0m\u001b[0m\n\u001b[0m\u001b[0;32m      2\u001b[0m     \u001b[0mprint\u001b[0m\u001b[1;33m(\u001b[0m\u001b[0mx\u001b[0m\u001b[1;33m,\u001b[0m \u001b[0mend\u001b[0m\u001b[1;33m=\u001b[0m\u001b[1;34m' '\u001b[0m\u001b[1;33m)\u001b[0m\u001b[1;33m\u001b[0m\u001b[1;33m\u001b[0m\u001b[0m\n\u001b[0;32m      3\u001b[0m     \u001b[1;32mif\u001b[0m \u001b[0mx\u001b[0m \u001b[1;33m>\u001b[0m \u001b[1;36m30\u001b[0m\u001b[1;33m:\u001b[0m\u001b[1;33m\u001b[0m\u001b[1;33m\u001b[0m\u001b[0m\n\u001b[0;32m      4\u001b[0m         \u001b[1;32mbreak\u001b[0m\u001b[1;33m\u001b[0m\u001b[1;33m\u001b[0m\u001b[0m\n",
      "\u001b[1;31mTypeError\u001b[0m: 'myIter' object is not iterable"
     ]
    }
   ],
   "source": [
    "for x in mi:\n",
    "    print(x, end=' ')\n",
    "    if x > 30:\n",
    "        break"
   ]
  },
  {
   "cell_type": "code",
   "execution_count": null,
   "metadata": {
    "collapsed": true
   },
   "outputs": [],
   "source": [
    "class myIter2():\n",
    "    def __init__(self):\n",
    "        self.n = 0\n",
    "    def __iter__(self):\n",
    "        return self\n",
    "    def __next__(self):\n",
    "        self.n += 1\n",
    "        return self.n"
   ]
  },
  {
   "cell_type": "code",
   "execution_count": null,
   "metadata": {},
   "outputs": [],
   "source": [
    "mi = myIter2()\n",
    "for x in mi:\n",
    "    print(x, end=' ')\n",
    "    if x > 30:\n",
    "        break"
   ]
  },
  {
   "cell_type": "markdown",
   "metadata": {},
   "source": [
    "Есть другой встроенный и удобный способ создавать итераторы:\n",
    "### Оператор yield"
   ]
  },
  {
   "cell_type": "code",
   "execution_count": null,
   "metadata": {
    "collapsed": true
   },
   "outputs": [],
   "source": [
    "def fib(a):\n",
    "    n1 = 0\n",
    "    n2 = 1\n",
    "    while True:\n",
    "        if n2> a:\n",
    "            break\n",
    "        n1, n2 = n2, n1 + n2\n",
    "        yield n1"
   ]
  },
  {
   "cell_type": "code",
   "execution_count": null,
   "metadata": {},
   "outputs": [],
   "source": [
    "ii = fib(a)\n",
    "print(ii)\n",
    "dir(ii)"
   ]
  },
  {
   "cell_type": "code",
   "execution_count": null,
   "metadata": {},
   "outputs": [],
   "source": [
    "for i in fib(1000):\n",
    "    print(i, end=' ')"
   ]
  },
  {
   "cell_type": "markdown",
   "metadata": {
    "collapsed": true
   },
   "source": [
    "Такая конструкция тоже позволяет сделать бесконечные итераторы"
   ]
  },
  {
   "cell_type": "code",
   "execution_count": null,
   "metadata": {
    "collapsed": true
   },
   "outputs": [],
   "source": [
    "def fibinf():\n",
    "    n1 = 0\n",
    "    n2 = 1\n",
    "    while True:\n",
    "        n1, n2 = n2, n1+n2\n",
    "        yield n1"
   ]
  },
  {
   "cell_type": "markdown",
   "metadata": {
    "collapsed": true
   },
   "source": [
    "Нужно быть осторожным в использовании таких итераторов и убедится, что цикл не будет вечным:"
   ]
  },
  {
   "cell_type": "code",
   "execution_count": null,
   "metadata": {},
   "outputs": [],
   "source": [
    "for n in fibinf():\n",
    "    print(n, end=' ')\n",
    "    if n>1000:\n",
    "        break"
   ]
  },
  {
   "cell_type": "code",
   "execution_count": null,
   "metadata": {
    "collapsed": true
   },
   "outputs": [],
   "source": []
  },
  {
   "cell_type": "markdown",
   "metadata": {},
   "source": [
    "# Модули\n",
    "\n",
    "Модули в питоне это просто файлы, содержащие команды написанные на питоне с расширением .py\n",
    "Чтобы следующая инструкция выполнилась без ошибки нужно, чтобы в папке откуда вы запустили этот ноутбук (это скорее всего \"Мои документы\") должен находится файл modul1.py, который можно скачать на сайте в разделе лекций.\n",
    "\n",
    "Ко всем переменным и функциям определенным в этом модуле можно получить доступ аналогично тому, как это было в случае с классом."
   ]
  },
  {
   "cell_type": "markdown",
   "metadata": {},
   "source": [
    "Та же история со встроенными модулями."
   ]
  },
  {
   "cell_type": "code",
   "execution_count": 37,
   "metadata": {},
   "outputs": [],
   "source": [
    "import math"
   ]
  },
  {
   "cell_type": "code",
   "execution_count": 38,
   "metadata": {},
   "outputs": [
    {
     "data": {
      "text/plain": [
       "3.141592653589793"
      ]
     },
     "execution_count": 38,
     "metadata": {},
     "output_type": "execute_result"
    }
   ],
   "source": [
    "math.pi"
   ]
  },
  {
   "cell_type": "code",
   "execution_count": 39,
   "metadata": {},
   "outputs": [],
   "source": [
    "math.pi = 3"
   ]
  },
  {
   "cell_type": "code",
   "execution_count": 40,
   "metadata": {},
   "outputs": [
    {
     "data": {
      "text/plain": [
       "3"
      ]
     },
     "execution_count": 40,
     "metadata": {},
     "output_type": "execute_result"
    }
   ],
   "source": [
    "math.pi"
   ]
  },
  {
   "cell_type": "code",
   "execution_count": 41,
   "metadata": {},
   "outputs": [],
   "source": [
    "import math"
   ]
  },
  {
   "cell_type": "code",
   "execution_count": 42,
   "metadata": {},
   "outputs": [
    {
     "data": {
      "text/plain": [
       "3"
      ]
     },
     "execution_count": 42,
     "metadata": {},
     "output_type": "execute_result"
    }
   ],
   "source": [
    "math.pi"
   ]
  },
  {
   "cell_type": "markdown",
   "metadata": {},
   "source": [
    "Есть способ упростить себе жизнь определив для модуля короткий \"псевдоним\""
   ]
  },
  {
   "cell_type": "code",
   "execution_count": 44,
   "metadata": {},
   "outputs": [],
   "source": [
    "import math as mt"
   ]
  },
  {
   "cell_type": "code",
   "execution_count": 46,
   "metadata": {},
   "outputs": [
    {
     "data": {
      "text/plain": [
       "2.718281828459045"
      ]
     },
     "execution_count": 46,
     "metadata": {},
     "output_type": "execute_result"
    }
   ],
   "source": [
    "mt.e"
   ]
  },
  {
   "cell_type": "code",
   "execution_count": null,
   "metadata": {
    "collapsed": true
   },
   "outputs": [],
   "source": []
  }
 ],
 "metadata": {
  "anaconda-cloud": {},
  "kernelspec": {
   "display_name": "Python 3",
   "language": "python",
   "name": "python3"
  },
  "language_info": {
   "codemirror_mode": {
    "name": "ipython",
    "version": 3
   },
   "file_extension": ".py",
   "mimetype": "text/x-python",
   "name": "python",
   "nbconvert_exporter": "python",
   "pygments_lexer": "ipython3",
   "version": "3.7.3"
  }
 },
 "nbformat": 4,
 "nbformat_minor": 1
}
