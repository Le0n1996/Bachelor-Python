{
 "cells": [
  {
   "cell_type": "markdown",
   "metadata": {},
   "source": [
    "### Exercise:\n",
    "\n",
    "Write a program that receives a Boolean formula as an input in some form, for example & instead of conjunction, V instead of disjunction, -> instead of implication, ! instead of negation, + instead of modulo 2 addition.\n",
    "\n",
    "In result it should print DNF, CNF. (For an additional point, the minimum DNF and the minimum CNF could be printed)."
   ]
  },
  {
   "cell_type": "code",
   "execution_count": 1,
   "metadata": {},
   "outputs": [
    {
     "name": "stdout",
     "output_type": "stream",
     "text": [
      "((a V b) + (b V c) & a V c -> d & d) + c -> ((e -> c)&g + f)\n",
      "Всего в введённой формуле 7 переменных.\n"
     ]
    }
   ],
   "source": [
    "import re\n",
    "\n",
    "expression = input()\n",
    "var = []\n",
    "for symb in expression: # подсчет числа переменных, потом пригодится для составления k-дизъюнктивной нормальной формы.\n",
    "    if 'a' <= symb <= 'z':\n",
    "        var += symb\n",
    "n_var = len(list(set(var)))\n",
    "print('Всего в введённой формуле ' + str(n_var) + ' переменных.')"
   ]
  },
  {
   "cell_type": "code",
   "execution_count": 2,
   "metadata": {},
   "outputs": [
    {
     "name": "stdout",
     "output_type": "stream",
     "text": [
      "Формула после удаления пробелов: ((aVb)+(bVc)&aVc->d&d)+c->((e->c)&g+f)\n"
     ]
    }
   ],
   "source": [
    "#expression = '((a V b) + (b V c) & a V c -> d & d) + c -> ((e -> c)&g + f)'\n",
    "#expression = '(a + b V c & (d + (b -> c) )-> a + c -> d & d) + c -> ((e -> c)&g + f) -> d'\n",
    "#expression = 'a->!b->c&d->e+b->f'\n",
    "#expression = 'a+b+c+ !d'\n",
    "#expression = 'a+b+(a->b->c)+ !d&a V c -> d'\n",
    "formula = re.sub(r' +', '', expression) # предобработка для удаления пробелов\n",
    "print('Формула после удаления пробелов: ' + formula)"
   ]
  },
  {
   "cell_type": "code",
   "execution_count": 3,
   "metadata": {},
   "outputs": [
    {
     "name": "stdout",
     "output_type": "stream",
     "text": [
      "Формула после выражения всех импликаций и сложений через дизъюнкции и конъюнкции имеет следующий вид: \n",
      "\n",
      "!(!((!(!((aVb))&((bVc)&aVc)V((aVb))&!((bVc)&aVc))V(d&d)))&(c)V((!(!((aVb))&((bVc)&aVc)V((aVb))&!((bVc)&aVc))V(d&d)))&!(c))V((!((!(e)V(c))&g)&(f)V((!(e)V(c))&g)&!(f)))\n"
     ]
    },
    {
     "data": {
      "text/plain": [
       "True"
      ]
     },
     "execution_count": 3,
     "metadata": {},
     "output_type": "execute_result"
    }
   ],
   "source": [
    "operations = ['[-][>]', '[+]'] # первый шаг - избавиться от импликации и сложения по модулю 2.\n",
    "impl = re.compile(operations[0])\n",
    "summ = re.compile(operations[1])\n",
    "\n",
    "def impl_red(x): # меняет все вхождения типа a->b на !(a)V(b)\n",
    "    match = re.search(impl, x) # находим первое появление '->'\n",
    "    while match:\n",
    "        start = match.span()[0]\n",
    "        end = match.span()[1]\n",
    "        counter = 0\n",
    "        for i in range(start+1): # находим тот кусок слева от импликации, который является ее посылкой. Смотрим на скобки:\n",
    "            if x[start-i] == ')':\n",
    "                counter += 1\n",
    "            if x[start-i] == '(':\n",
    "                counter -= 1\n",
    "            if counter < 0: # мы оказались зажатыми слева открывающей скобкой, надо тут остановиться\n",
    "                a = x[start-i+1: start] # это найдено a, посылка\n",
    "                new = x[0: start-i+1] + '!(' + a + ')' # переписываем ту часть формулы, которая была левее этой импликации\n",
    "                break\n",
    "            if i == start: # скобок не нашли, но зато дошли до начала формулы, а значит посылку все равно выделили\n",
    "                a = x[0: start]\n",
    "                new = '!(' + a + ')'\n",
    "        counter = 0\n",
    "        for i in range(len(x)-end): # аналогично ищем ту часть, которая является следствием этой импликации\n",
    "            if x[end+i] == ')':\n",
    "                counter -= 1\n",
    "            if x[end+i] == '(':\n",
    "                counter += 1\n",
    "            if counter < 0: # мы оказались зажатыми справа закрывающей скобкой, останавливаемся\n",
    "                b = x[end: end+i] \n",
    "                x = new + 'V(' + b + ')' + x[end+i: len(x)] # нашли следствие, переписали правую часть и убрали импликацию\n",
    "                break\n",
    "            if counter == 0 and (x[end+i] == '-' or x[end+i] == '+'): # мы еще внутри нашей группы скобок, но операции с\n",
    "                b = x[end: end+i]                                     # одинаковым приоритетом надо делать по порядку\n",
    "                x = new + 'V(' + b + ')' + x[end+i: len(x)] # нашли следствие, переписали правую часть и убрали импликацию\n",
    "                break\n",
    "            if i == len(x)-end-1: # дошли до конца формулы\n",
    "                b = x[end: len(x)]\n",
    "                x = new + 'V(' + b + ')' # убрали импликацию\n",
    "        match = re.search(impl, x) # делаем новый мэтч и далее по циклу, в конце импликаций не останется\n",
    "    return(x)\n",
    "\n",
    "def summ_red(x): # меняет все вхождения типа a+b на !(a)&(b)V(a)&!(b)\n",
    "    match = re.search(summ, x)\n",
    "    while match:\n",
    "        start = match.span()[0]\n",
    "        end = match.span()[1]\n",
    "        counter = 0\n",
    "        for i in range(start+1): # аналогично, как и в предыдущей функции, выделяем a\n",
    "            if x[start-i] == ')':\n",
    "                counter += 1\n",
    "            if x[start-i] == '(':\n",
    "                counter -= 1\n",
    "            if counter < 0: # мы оказались зажатыми слева открывающей скобкой, надо тут остановиться\n",
    "                a = x[start-i+1: start] # нашли a\n",
    "                new = x[0: start-i+1] # эта часть формулы нам сейчас не нужна \n",
    "                break\n",
    "            if i == start: # скобок не нашли, но зато дошли до начала формулы\n",
    "                a = x[0: start] # нашли a\n",
    "                new = ''\n",
    "        counter = 0\n",
    "        for i in range(len(x)-end): # ищем b\n",
    "            if x[end+i] == ')':\n",
    "                counter -= 1\n",
    "            if x[end+i] == '(':\n",
    "                counter += 1\n",
    "            if counter < 0: # мы оказались зажатыми справа закрывающей скобкой, останавливаемся\n",
    "                b = x[end: end+i]\n",
    "                x = new + '!(' + a + ')&(' + b + ')' + 'V(' + a + ')&!(' + b + ')' + x[end+i: len(x)] # нашли b и склеили строки\n",
    "                break\n",
    "            if counter == 0 and x[end+i] == '+': # мы еще внутри нашей группы скобок, но \n",
    "                b = x[end: end+i]                # тут начинается следующее сложение, останавливаемся\n",
    "                x = new + '!(' + a + ')&(' + b + ')' + 'V(' + a + ')&!(' + b + ')' + x[end+i: len(x)] # нашли b и склеили строки\n",
    "                break\n",
    "            if i == len(x)-end-1: # дошли до конца формулы\n",
    "                b = x[end: len(x)]\n",
    "                x = new + '!(' + a + ')&(' + b + ')' + 'V(' + a + ')&!(' + b + ')' # нашли b и склеили все строки\n",
    "        match = re.search(summ, x)\n",
    "    return(x)\n",
    "\n",
    "def morgan(x): # меняет все вхождения типа !(aVb) на !(a)&!(b), !(a&b) на !(a)V!(b), !(a) на !a\n",
    "    match = re.search('[!][(]', x)\n",
    "    pred = ''\n",
    "    while match and (pred != x):\n",
    "        pred = x\n",
    "        start, end = match.span()[0], match.span()[1]\n",
    "        ind_disj, ind_conj = [end-1], [end-1]\n",
    "        found_disj, found_conj = False, False # здесь мы вначале ищем подстроку '!(', а потом внутри нее ищем дизъюнкцию/конъюнкцию\n",
    "        counter = 0\n",
    "        for i in range(len(x)-end):\n",
    "            if x[end+i] == ')':\n",
    "                counter -= 1\n",
    "            if x[end+i] == '(':\n",
    "                counter += 1\n",
    "            if counter == 0 and x[end+i] == 'V': # мы нашли дизъюнкцию внутри нашей группы скобок на нужном уровне\n",
    "                ind_disj.append(int(end+i))      # запомним это место (может быть еще много дизъюнкций на этом уровне, ищем все)\n",
    "                found_disj = True\n",
    "            if counter == 0 and x[end+i] == '&': # мы нашли конъюнкцию внутри нашей группы скобок на нужном уровне\n",
    "                ind_conj.append(int(end+i))      # запомним это место (может быть еще много конъюнкций на этом уровне, ищем все)\n",
    "                found_conj = True\n",
    "            if counter < 0:    # мы оказались зажатыми справа закрывающей скобкой, останавливаемся и смотрим что в итоге есть внутри\n",
    "                if found_disj: # если есть дизъюнкции, то применяем закон Моргана на выражение !(aVbVс...)\n",
    "                    new = x[0: start]\n",
    "                    for j in range(len(ind_disj)):\n",
    "                        if j != len(ind_disj)-1:\n",
    "                            new += '!(' + x[ind_disj[j]+1: ind_disj[j+1]] + ')&'            #переписали формулу\n",
    "                        if j == len(ind_disj)-1:\n",
    "                            x = new + '!(' + x[ind_disj[j]+1: end+i+1] + x[end+i+1: len(x)] #переписали формулу если это конец скобки\n",
    "                if found_disj == False and found_conj == True: # если нет дизъюнкций, но есть конъюнкции, то\n",
    "                    new = x[0: start]                          # применяем закон Моргана на выражение !(a&b&с...)\n",
    "                    for j in range(len(ind_conj)):\n",
    "                        if j != len(ind_conj)-1:\n",
    "                            new += '!(' + x[ind_conj[j]+1: ind_conj[j+1]] + ')V'            #переписали формулу\n",
    "                        if j == len(ind_conj)-1:\n",
    "                            x = new + '!(' + x[ind_conj[j]+1: end+i+1] + x[end+i+1: len(x)] #переписали формулу если это конец скобки\n",
    "                if found_disj == False and found_conj == False: # если совсем ничего не нашлось, то это конструкция вида !((a))\n",
    "                    x = x[0: end-1] + x[end: end+i] + x[end+i+1: len(x)]\n",
    "                break\n",
    "        match = re.search('[!][(]', x) # продолжаем пока подстрок '!(' не останется\n",
    "    return(x)\n",
    "\n",
    "def parenthesischecker(x): # проверяет валидность формулы (баланс скобок) \n",
    "    counter = 0            # (считаем, что формулы типа a&Vb не вводят, т.к. это не формулы)\n",
    "    for symb in range(len(x)):\n",
    "        if x[symb] == ')':\n",
    "            counter -= 1\n",
    "        if x[symb] == '(':\n",
    "            counter += 1\n",
    "        if counter < 0: # лишняя закрытая скобка\n",
    "            return(False)\n",
    "    if counter > 0:     # открытых скобок больше, чем закрытых\n",
    "        return(False)\n",
    "    else:               # все хорошо\n",
    "        return(True)\n",
    "\n",
    "result = summ_red(impl_red(formula))\n",
    "print('Формула после выражения всех импликаций и сложений через дизъюнкции и конъюнкции имеет следующий вид: \\n\\n' + result)\n",
    "\n",
    "parenthesischecker(result) # проверяем, что со скобками все в порядке"
   ]
  },
  {
   "cell_type": "code",
   "execution_count": 4,
   "metadata": {},
   "outputs": [
    {
     "name": "stdout",
     "output_type": "stream",
     "text": [
      "!(!((!(!((aVb))&((bVc)&aVc)V((aVb))&!((bVc)&aVc))V(d&d)))&(c)V((!(!((aVb))&((bVc)&aVc)V((aVb))&!((bVc)&aVc))V(d&d)))&!(c))V((!((!(e)V(c))&g)&(f)V((!(e)V(c))&g)&!(f)))\n",
      "\n",
      "a&!bV!b&!cV!a&!c&!a&!bVb&!cV!a&!c&!dV!dV!c&!a&!bV!b&!cV!a&!c&!a&!bVb&!cV!a&!c&!dV!dVcV((e&!cV!g&(f)V((!eV(c))&g)&!f))\n"
     ]
    },
    {
     "data": {
      "text/plain": [
       "True"
      ]
     },
     "execution_count": 4,
     "metadata": {},
     "output_type": "execute_result"
    }
   ],
   "source": [
    "print(result + '\\n')\n",
    "\n",
    "result = re.sub(r'[!][!]', '', morgan(result)) # убираем двойные отрицания везде, где только можно\n",
    "print(result)\n",
    "\n",
    "parenthesischecker(result) # еще раз проверяем, что все хорошо со скобками"
   ]
  },
  {
   "cell_type": "code",
   "execution_count": 5,
   "metadata": {},
   "outputs": [
    {
     "name": "stdout",
     "output_type": "stream",
     "text": [
      "a&!bV!b&!cV!a&!c&!a&!bVb&!cV!a&!c&!dV!dV!c&!a&!bV!b&!cV!a&!c&!a&!bVb&!cV!a&!c&!dV!dVcV((e&!cV!g&(f)V((!eV(c))&g)&!f))\n",
      "\n",
      "a&!b V !b&!c V !a&!c&!a&!b V b&!c V !a&!c&!d V !d V !c&!a&!b V !b&!c V !a&!c&!a&!b V b&!c V !a&!c&!d V !d V c V ((e&!c V !g&f V ((!e V c)&g)&!f))\n",
      "\n"
     ]
    }
   ],
   "source": [
    "print(result + '\\n')\n",
    "\n",
    "def repl1(m): # срезает скобки вокруг выражений типа (a)\n",
    "    return m.group(2)\n",
    "\n",
    "def repl2(m): # делает вместо aVb a V b, добавляя два пробела, что делает все более понятным\n",
    "    return m.group(1) + ' ' + m.group(2) + ' ' + m.group(3)\n",
    "\n",
    "result = re.sub(r'([(])([a-z])([)])', repl1, result)\n",
    "result = re.sub(r'([^V]*)([V])([^V]*)', repl2, result)\n",
    "print(result + '\\n')"
   ]
  },
  {
   "cell_type": "markdown",
   "metadata": {},
   "source": [
    "1) Далее до конца раскрываются все скобки с помощью дистрибутивности.\n",
    "\n",
    "2) Затем в силу идемпотентности убираются повторы (то есть, например, !d&!e V !d&!e)\n",
    "\n",
    "3) После этого можно сделать замены для выражений вида a&(a V b) (по формуле поглощения это будет a) и a&b V a&!b -- это тоже a.\n",
    "\n",
    "Это уже будет ДНФ.\n",
    "\n",
    "4) И наконец, в литералах, не содержащих какой-то из k имеющихся переменных добавляются (с помощью конъюнкции) куски (p V !p) (т.е. a V b превращается в (a V b)&(c V !c)&(d V !d) при k = 4), после чего после раскрытия скобок получаем СДНФ."
   ]
  },
  {
   "cell_type": "code",
   "execution_count": 6,
   "metadata": {},
   "outputs": [
    {
     "data": {
      "text/plain": [
       "'a&!b V !b&!c V !a&!c&!a&!b V b&!c V !a&!c&!d V !d V !c&!a&!b V !b&!c V !a&!c&!a&!b V b&!c V !a&!c&!d V !d V c V ((e&!c V !g&f V ((!e V c)&g)&!f))'"
      ]
     },
     "execution_count": 6,
     "metadata": {},
     "output_type": "execute_result"
    }
   ],
   "source": [
    "# ЭТОТ КУСОК НЕ ДОДЕЛАН\n",
    "\n",
    "def par_red(x):\n",
    "    match = re.search('[(]', x)\n",
    "    pred = ''\n",
    "    while match and (pred != x):\n",
    "        pred = x\n",
    "        start, end = match.span()[0], match.span()[1]\n",
    "        counter = 0\n",
    "        for i in range(len(x)-end):\n",
    "            if x[end+i] == ')':\n",
    "                counter -= 1\n",
    "            if x[end+i] == '(':\n",
    "                counter += 1\n",
    "            if counter < 0:    # мы нашли выражение в скобках\n",
    "                if end+i == len(x)-1:\n",
    "                    if x[start-1] == '&' or x[start-1] == 'V':\n",
    "                        if x[start-2] != ')': # то есть слева стоит переменная, и вначале к скобке применяется то действие, что слева\n",
    "                            new = x[0: start-2]\n",
    "                            partc = x[end: end+i].split('V')\n",
    "                            for literal in partc:\n",
    "                                new += x[start-2] + x[start-1] + literal + 'V'\n",
    "                                print(new)\n",
    "                            x = new[:-1] + x[end+i+1: len(x)]\n",
    "                        if x[start-2] == ')': # то есть слева стоит скобка, и нужно выделить выражение, стоящее слева\n",
    "                            counter = 0\n",
    "                            print('Hello')\n",
    "                            for j in range(start-2):\n",
    "                                if x[start-1-j] == ')':\n",
    "                                    counter += 1\n",
    "                                if x[start-1-j] == '(':\n",
    "                                    counter -= 1\n",
    "                                if counter < 0:\n",
    "                                    print('Hello')\n",
    "                                    new = x[0: start-1-j]\n",
    "                                    part1 = x[start-j: start-2].split('V')\n",
    "                                    partc = x[end: end+i].split('V')\n",
    "                                    for literal1 in part1:\n",
    "                                        for literalc in partc:\n",
    "                                            new += literal1 + x[start-1] + literalc + 'V'\n",
    "                                            print(new)\n",
    "                                    x = new[:-1] + x[end+i+1: len(x)]\n",
    "                if end+i != len(x)-1:\n",
    "                    if x[start-1] == '&' or (x[start-1] == 'V' and x[end+i+1] == 'V'):\n",
    "                        if x[start-2] != ')': # то есть слева стоит переменная, и вначале к скобке применяется то действие, что слева\n",
    "                            new = x[0: start-2]\n",
    "                            part = x[end: end+i].split('V')\n",
    "                            for literal in part:\n",
    "                                new += x[start-2] + x[start-1] + literal + 'V'\n",
    "                            x = new[:-1] + x[end+i+1: len(x)]\n",
    "                    if x[start-1] == 'V' and x[end+i+1] == '&': # это выражение вида V(aVb&C...)&, вначале к скобке применяется конъюнкция\n",
    "                        if x[end+2] == '(':\n",
    "                            new = x[0: start]\n",
    "                            match = re.search('[)]', x)\n",
    "                        for j in range(len(ind_disj)):\n",
    "                            if j != len(ind_disj)-1:\n",
    "                                new += '!(' + x[ind_disj[j]+1: ind_disj[j+1]] + ')&'\n",
    "                            if j == len(ind_disj)-1:\n",
    "                                x = new + '!(' + x[ind_disj[j]+1: end+i+1] + x[end+i+1: len(x)]\n",
    "                break\n",
    "        match = re.search('[(]', x)\n",
    "    return(x)\n",
    "\n",
    "par_red(result)"
   ]
  },
  {
   "cell_type": "code",
   "execution_count": null,
   "metadata": {
    "collapsed": true
   },
   "outputs": [],
   "source": []
  }
 ],
 "metadata": {
  "kernelspec": {
   "display_name": "Python 3",
   "language": "python",
   "name": "python3"
  },
  "language_info": {
   "codemirror_mode": {
    "name": "ipython",
    "version": 3
   },
   "file_extension": ".py",
   "mimetype": "text/x-python",
   "name": "python",
   "nbconvert_exporter": "python",
   "pygments_lexer": "ipython3",
   "version": "3.7.3"
  }
 },
 "nbformat": 4,
 "nbformat_minor": 1
}
