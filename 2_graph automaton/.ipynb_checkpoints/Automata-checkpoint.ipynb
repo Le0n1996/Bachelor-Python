{
 "cells": [
  {
   "cell_type": "markdown",
   "metadata": {},
   "source": [
    "### Graph algorithms"
   ]
  },
  {
   "cell_type": "code",
   "execution_count": 1,
   "metadata": {},
   "outputs": [],
   "source": [
    "class Node:\n",
    "    def __init__(self, finish = False, key = ''):\n",
    "        self.finish = finish\n",
    "        self.arrows = {}\n",
    "        self.key = key\n",
    "    def add_arrow(self, edge, node): #Добавляем одну стрелку с символом edge\n",
    "        if edge in self.arrows.keys():\n",
    "            self.arrows[edge].append(node)\n",
    "        else:\n",
    "            self.arrows[edge] = [node]\n",
    "    def __repr__(self):\n",
    "        return str(self.key)"
   ]
  },
  {
   "cell_type": "code",
   "execution_count": 3,
   "metadata": {},
   "outputs": [],
   "source": [
    "class Automata:\n",
    "    def __init__(self, eglist = [], finishlist = []):\n",
    "        vlist = []\n",
    "        for i in range(len(eglist)):\n",
    "            vlist.append(Node(key = str(i)))\n",
    "        for i in range(len(eglist)):\n",
    "            d = eglist[i]\n",
    "            for key in d.keys():\n",
    "                for v in d[key]:\n",
    "                    vlist[i].add_arrow(key, vlist[v])\n",
    "        for i in finishlist:\n",
    "            vlist[i].finish = True\n",
    "        if len(vlist)>0:\n",
    "            self.start = vlist[0]\n",
    "        else:\n",
    "            self.start = Node()\n",
    "    def check(self, s):\n",
    "        '''\n",
    "        Проверяет распознается ли данным автоматом строка s\n",
    "        '''\n",
    "        old = [self.start]  # Тут хранятся все вершины, до которых можно добраться на предыдущем шаге\\\n",
    "                            # В начале это только стартовая вершина \n",
    "        new = [] # Здесь будут хранится вершины, в которые можно попасть на следующем шаге идя по вершинам \n",
    "                 # соответствующим очередному символу\n",
    "        for c in s: # перебираем по одному символу из строки\n",
    "            for v in old: # пытаемся продолжить путь из всех вершин из old\n",
    "                if c in v.arrows.keys():\n",
    "                    for x in v.arrows[c]:\n",
    "                        new.append(x)\n",
    "            if len(new) == 0: # если продолжить не удалось выводим False\n",
    "                return False\n",
    "            old = new\n",
    "            new = []\n",
    "        for x in old: # Проверяем есть ли среди тех вершин в которые мы пришли терминалные вершины\n",
    "            if x.finish:\n",
    "                return True\n",
    "        return False"
   ]
  },
  {
   "cell_type": "code",
   "execution_count": 4,
   "metadata": {},
   "outputs": [],
   "source": [
    "at = [{'a':[1], 'b':[2]},\n",
    "      {'b':[2]},\n",
    "      {'a':[1]}]"
   ]
  },
  {
   "cell_type": "code",
   "execution_count": 5,
   "metadata": {},
   "outputs": [],
   "source": [
    "AA = Automata(at, [1,2])"
   ]
  },
  {
   "cell_type": "code",
   "execution_count": 6,
   "metadata": {},
   "outputs": [
    {
     "data": {
      "text/plain": [
       "dict_keys(['a', 'b'])"
      ]
     },
     "execution_count": 6,
     "metadata": {},
     "output_type": "execute_result"
    }
   ],
   "source": [
    "at[0].keys()"
   ]
  },
  {
   "cell_type": "code",
   "execution_count": 7,
   "metadata": {},
   "outputs": [
    {
     "data": {
      "text/plain": [
       "{'a': [1], 'b': [2]}"
      ]
     },
     "execution_count": 7,
     "metadata": {},
     "output_type": "execute_result"
    }
   ],
   "source": [
    "AA.start.arrows"
   ]
  },
  {
   "cell_type": "code",
   "execution_count": 8,
   "metadata": {},
   "outputs": [
    {
     "data": {
      "text/plain": [
       "{'b': [2]}"
      ]
     },
     "execution_count": 8,
     "metadata": {},
     "output_type": "execute_result"
    }
   ],
   "source": [
    "AA.start.arrows['a'][0].arrows"
   ]
  },
  {
   "cell_type": "code",
   "execution_count": 9,
   "metadata": {},
   "outputs": [
    {
     "data": {
      "text/plain": [
       "True"
      ]
     },
     "execution_count": 9,
     "metadata": {},
     "output_type": "execute_result"
    }
   ],
   "source": [
    "AA.check('aba')"
   ]
  },
  {
   "cell_type": "code",
   "execution_count": 10,
   "metadata": {},
   "outputs": [
    {
     "data": {
      "text/plain": [
       "False"
      ]
     },
     "execution_count": 10,
     "metadata": {},
     "output_type": "execute_result"
    }
   ],
   "source": [
    "AA.check('abb')"
   ]
  },
  {
   "cell_type": "code",
   "execution_count": 11,
   "metadata": {},
   "outputs": [
    {
     "data": {
      "text/plain": [
       "True"
      ]
     },
     "execution_count": 11,
     "metadata": {},
     "output_type": "execute_result"
    }
   ],
   "source": [
    "AA.check('a')"
   ]
  },
  {
   "cell_type": "code",
   "execution_count": 12,
   "metadata": {},
   "outputs": [
    {
     "data": {
      "text/plain": [
       "True"
      ]
     },
     "execution_count": 12,
     "metadata": {},
     "output_type": "execute_result"
    }
   ],
   "source": [
    "AA.check('ababababa')"
   ]
  },
  {
   "cell_type": "code",
   "execution_count": 13,
   "metadata": {},
   "outputs": [
    {
     "data": {
      "text/plain": [
       "False"
      ]
     },
     "execution_count": 13,
     "metadata": {},
     "output_type": "execute_result"
    }
   ],
   "source": [
    "AA.check('abababababb')"
   ]
  },
  {
   "cell_type": "code",
   "execution_count": null,
   "metadata": {
    "collapsed": true
   },
   "outputs": [],
   "source": []
  }
 ],
 "metadata": {
  "kernelspec": {
   "display_name": "Python 3",
   "language": "python",
   "name": "python3"
  },
  "language_info": {
   "codemirror_mode": {
    "name": "ipython",
    "version": 3
   },
   "file_extension": ".py",
   "mimetype": "text/x-python",
   "name": "python",
   "nbconvert_exporter": "python",
   "pygments_lexer": "ipython3",
   "version": "3.7.3"
  }
 },
 "nbformat": 4,
 "nbformat_minor": 1
}
