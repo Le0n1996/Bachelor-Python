{
 "cells": [
  {
   "cell_type": "markdown",
   "metadata": {},
   "source": [
    "# Деревья. Бинарные деревья поиска.\n",
    "\n",
    "Каждый узел имеет содержательное поле key и два потомка \"вниз\" (left и right) причем определен естественный порядок на полях key. \n",
    "При всех операциях должны выполняться свойства \n",
    "\n",
    "```self.left.key < self.key``` \n",
    "\n",
    "```self.right.key > self.key```\n",
    "\n",
    "Методы:\n",
    "- добавление\n",
    "- (!) поиск по полю key\n",
    "- удаление\n",
    "- красиво напечатать\n",
    "- Поиск min, max\n",
    "- следующий элемент (по порядку)\n",
    "- предыдущий элемент\n",
    "- Обход дерева по порядку\n",
    "\n",
    "\n",
    "### Какое время работы и используемая пямять для каждого метода?"
   ]
  },
  {
   "cell_type": "markdown",
   "metadata": {
    "collapsed": true
   },
   "source": [
    "\n",
    "Опять у нас будет один класс для узла дерева и другой класс для собственно дерева.\n",
    "В последнем мы будем хранить корень дерева и разместим все методы. В узле будем держать только key и ссылки на дочернии узлы.\n",
    "Кроме того многие методы полезно уметь запускать на произвольном узле в качестве корня, поэтому мы воспользуемся значением по умолчанию.\n",
    "\n",
    "\n"
   ]
  },
  {
   "cell_type": "code",
   "execution_count": 54,
   "metadata": {
    "collapsed": true
   },
   "outputs": [],
   "source": [
    "class Node:\n",
    "    def __init__(self, key):\n",
    "        self.left = None\n",
    "        self.right = None\n",
    "        self.key = key\n",
    "\n",
    "class Tree:\n",
    "    def __init__(self):\n",
    "        self.root = None\n",
    "\n",
    "    def getRoot(self):\n",
    "        return self.root\n",
    "\n",
    "    def find_r(self, key, node):\n",
    "        '''\n",
    "        Ищет узел с данным key начиная с node\n",
    "        '''\n",
    "        # TODO \n",
    "        \n",
    "    def find (self, key):\n",
    "        '''\n",
    "        Ищет узел с данным key начиная с корня\n",
    "        '''\n",
    "        return self.find_r(key, self.root)\n",
    "    \n",
    "    def orderedWalk_r(self, node = None):\n",
    "        '''\n",
    "        Обход дерева начиная с node\n",
    "        '''\n",
    "        if(node != None):\n",
    "            self.orderedWalk_r(node.left)\n",
    "            print (str(node.key) + ' ')\n",
    "            self.orderedWalk_r(node.right)\n",
    "\n",
    "    def orderedWalk(self):\n",
    "        '''\n",
    "        Обход дерева начиная с корня\n",
    "        '''\n",
    "        self.orderedWalkR(self.root)\n",
    "        \n",
    "    def add_r(self, key, node):\n",
    "        if node == None:\n",
    "                self.root = Node(key)\n",
    "                return None\n",
    "        if(key < node.key):\n",
    "            if(node.left != None):\n",
    "                self.add_r(key, node.left)\n",
    "            else:\n",
    "                node.left = Node(key)\n",
    "        else:\n",
    "            if(node.right != None):\n",
    "                self.add_r(key, node.right)\n",
    "            else:\n",
    "                node.right = Node(key)\n",
    "    def add (self, key):\n",
    "        self.add_r(key, self.root)\n",
    "        \n",
    "    def printTree(self, node, tab=''):\n",
    "        '''\n",
    "        Красиво печатаем дерево\n",
    "        '''\n",
    "        oneleveltab = '  '\n",
    "        if node != None:\n",
    "            self.printTree(node.left, tab+oneleveltab)\n",
    "            print(tab+str(node.key))\n",
    "            self.printTree(node.right, tab+oneleveltab)\n",
    "    def delete(self, node):\n",
    "        pass # TODO\n",
    "    def maxNode(self):\n",
    "        pass # TODO\n",
    "    def minNode(self):\n",
    "        pass # TODO"
   ]
  },
  {
   "cell_type": "code",
   "execution_count": 55,
   "metadata": {
    "collapsed": false
   },
   "outputs": [
    {
     "name": "stdout",
     "output_type": "stream",
     "text": [
      "    0\n",
      "  3\n",
      "    5\n",
      "10\n",
      "  12\n",
      "    14\n"
     ]
    }
   ],
   "source": [
    "tr = Tree()\n",
    "tr.add(10)\n",
    "tr.add(12)\n",
    "tr.add(3)\n",
    "tr.add(14)\n",
    "tr.add(5)\n",
    "tr.add(0)\n",
    "tr.printTree(tr.getRoot())\n"
   ]
  },
  {
   "cell_type": "code",
   "execution_count": 56,
   "metadata": {
    "collapsed": false
   },
   "outputs": [
    {
     "name": "stdout",
     "output_type": "stream",
     "text": [
      "3\n",
      "None\n"
     ]
    },
    {
     "ename": "AttributeError",
     "evalue": "'Tree' object has no attribute 'orderedWalkR'",
     "output_type": "error",
     "traceback": [
      "\u001b[0;31m---------------------------------------------------------------------------\u001b[0m",
      "\u001b[0;31mAttributeError\u001b[0m                            Traceback (most recent call last)",
      "\u001b[0;32m<ipython-input-56-af36389e392a>\u001b[0m in \u001b[0;36m<module>\u001b[0;34m()\u001b[0m\n\u001b[1;32m      1\u001b[0m \u001b[0mprint\u001b[0m\u001b[1;33m(\u001b[0m\u001b[0mtr\u001b[0m\u001b[1;33m.\u001b[0m\u001b[0mfind\u001b[0m\u001b[1;33m(\u001b[0m\u001b[1;36m3\u001b[0m\u001b[1;33m)\u001b[0m\u001b[1;33m.\u001b[0m\u001b[0mkey\u001b[0m\u001b[1;33m)\u001b[0m\u001b[1;33m\u001b[0m\u001b[0m\n\u001b[1;32m      2\u001b[0m \u001b[0mprint\u001b[0m\u001b[1;33m(\u001b[0m\u001b[0mtr\u001b[0m\u001b[1;33m.\u001b[0m\u001b[0mfind\u001b[0m\u001b[1;33m(\u001b[0m\u001b[1;36m2\u001b[0m\u001b[1;33m)\u001b[0m\u001b[1;33m)\u001b[0m\u001b[1;33m\u001b[0m\u001b[0m\n\u001b[0;32m----> 3\u001b[0;31m \u001b[0mtr\u001b[0m\u001b[1;33m.\u001b[0m\u001b[0morderedWalk\u001b[0m\u001b[1;33m(\u001b[0m\u001b[1;33m)\u001b[0m\u001b[1;33m\u001b[0m\u001b[0m\n\u001b[0m",
      "\u001b[0;32m<ipython-input-54-ef2b5ed17eeb>\u001b[0m in \u001b[0;36morderedWalk\u001b[0;34m(self)\u001b[0m\n\u001b[1;32m     29\u001b[0m             \u001b[0mself\u001b[0m\u001b[1;33m.\u001b[0m\u001b[0morderedWalk_r\u001b[0m\u001b[1;33m(\u001b[0m\u001b[0mnode\u001b[0m\u001b[1;33m.\u001b[0m\u001b[0mright\u001b[0m\u001b[1;33m)\u001b[0m\u001b[1;33m\u001b[0m\u001b[0m\n\u001b[1;32m     30\u001b[0m     \u001b[1;32mdef\u001b[0m \u001b[0morderedWalk\u001b[0m\u001b[1;33m(\u001b[0m\u001b[0mself\u001b[0m\u001b[1;33m)\u001b[0m\u001b[1;33m:\u001b[0m\u001b[1;33m\u001b[0m\u001b[0m\n\u001b[0;32m---> 31\u001b[0;31m         \u001b[0mself\u001b[0m\u001b[1;33m.\u001b[0m\u001b[0morderedWalkR\u001b[0m\u001b[1;33m(\u001b[0m\u001b[0mself\u001b[0m\u001b[1;33m.\u001b[0m\u001b[0mroot\u001b[0m\u001b[1;33m)\u001b[0m\u001b[1;33m\u001b[0m\u001b[0m\n\u001b[0m\u001b[1;32m     32\u001b[0m \u001b[1;33m\u001b[0m\u001b[0m\n\u001b[1;32m     33\u001b[0m     \u001b[1;32mdef\u001b[0m \u001b[0madd_r\u001b[0m\u001b[1;33m(\u001b[0m\u001b[0mself\u001b[0m\u001b[1;33m,\u001b[0m \u001b[0mkey\u001b[0m\u001b[1;33m,\u001b[0m \u001b[0mnode\u001b[0m\u001b[1;33m)\u001b[0m\u001b[1;33m:\u001b[0m\u001b[1;33m\u001b[0m\u001b[0m\n",
      "\u001b[0;31mAttributeError\u001b[0m: 'Tree' object has no attribute 'orderedWalkR'"
     ]
    }
   ],
   "source": [
    "print(tr.find(3).key)\n",
    "print(tr.find(2))\n",
    "tr.orderedWalk()"
   ]
  },
  {
   "cell_type": "markdown",
   "metadata": {},
   "source": [
    "# Реализуем удаление\n",
    "\n",
    "Прежде чем реализовывать удаление удобно ввести поле p (от parent - родитель), которое будет указывать на родительский узел. При этом у корня p == None.\n",
    "\n",
    "Заметьте, что поиск предыдущего и следующего по порядку элемента можно реализовать не обращаясь к корню, если есть ссылка на родительский узел. Подумайте как это сделать и реализуйте.\n",
    "\n",
    "См. учебник Кормена (3 издание) стр. 328 (параграф 12.3)"
   ]
  },
  {
   "cell_type": "markdown",
   "metadata": {},
   "source": [
    "## Деревья с повторяющимися узлами\n",
    "\n",
    "Проблема с повторяющимися узлами (это когда поля key совпадают), но в нашей структуре данных может содержаться информация не только в поле key, поэтому пожет потребоваться хранить в дереве несколько узлов с одним и тем же key.\n",
    "\n",
    "Тогда возникает проблема, т.к. если мы их будем добавлять все время слева, а таких узлов много, то возникнет несбалансированность и, как следствие, увеличится время работы всех методов. Существует несколько способов решения этой проблемы:\n",
    "1. Завести специальный счетчик четности и на четных значениях добавлять влево, а на нечетных вправо. Недостатки: несколько усложнится поиск конкретного узла среди узлов с одинаковым key, нужно место для хранения счетчика.\n",
    "2. Отправлять то влево, то вправо случайным образом. Недостатки те же, кроме Достоинство: не надо хранить счетчик. \n",
    "3. Завести специальных связный список для хранения данных с одинаковым key. Достоинство: выигрыш в памяти Недостаток: несколько сложнее реализовать."
   ]
  },
  {
   "cell_type": "markdown",
   "metadata": {},
   "source": [
    "# Сбалансированные деревья. \n",
    "\n",
    "Методы:\n",
    "- добавление\n",
    "- (!) поиск по полю key\n",
    "- удаление\n",
    "- красиво напечатать\n",
    "- Поиск min, max\n",
    "- следующий элемент (по порядку)\n",
    "- предыдущий элемент\n",
    "- Обход дерева по порядку\n",
    "\n",
    "### Какое время работы и используемая пямять для каждого метода?"
   ]
  },
  {
   "cell_type": "code",
   "execution_count": null,
   "metadata": {
    "collapsed": true
   },
   "outputs": [],
   "source": []
  }
 ],
 "metadata": {
  "anaconda-cloud": {},
  "kernelspec": {
   "display_name": "Python 3",
   "language": "python",
   "name": "python3"
  },
  "language_info": {
   "codemirror_mode": {
    "name": "ipython",
    "version": 3
   },
   "file_extension": ".py",
   "mimetype": "text/x-python",
   "name": "python",
   "nbconvert_exporter": "python",
   "pygments_lexer": "ipython3",
   "version": "3.5.3"
  }
 },
 "nbformat": 4,
 "nbformat_minor": 1
}
