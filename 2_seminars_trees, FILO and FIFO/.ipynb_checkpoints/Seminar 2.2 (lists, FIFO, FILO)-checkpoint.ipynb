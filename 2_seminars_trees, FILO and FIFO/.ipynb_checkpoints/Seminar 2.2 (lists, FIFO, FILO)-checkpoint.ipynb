{
 "cells": [
  {
   "cell_type": "markdown",
   "metadata": {},
   "source": [
    "# Базовые структуры данных"
   ]
  },
  {
   "cell_type": "markdown",
   "metadata": {},
   "source": [
    "# Стек\n",
    "\n",
    "Стек по английски называется FIFO (first in first out).\n",
    "Стек можно реализовать с помощью массива (list). \n",
    "У стека должны быть следующие операции:\n",
    "\n",
    "Push(element) -> None если все хорошо, и Error если переполнение\n",
    "\n",
    "Pop() -> еlement из вершины стека (этот элемент удаляется), Error если стек пустой\n",
    "\n",
    "isEmpty() -> True - False\n",
    "\n",
    "\n",
    "Будем реализовывать с помощью класса. "
   ]
  },
  {
   "cell_type": "code",
   "execution_count": 33,
   "metadata": {
    "collapsed": true
   },
   "outputs": [],
   "source": [
    "class Stack():\n",
    "    def __init__(this):\n",
    "       # Инициализируем стек\n",
    "    def isEmpty(this):\n",
    "        # Проверяем на пустоту\n",
    "        return\n",
    "    def Push(this, elem):\n",
    "        # Добавляем элемент\n",
    "    def Pop(this):\n",
    "        # Удаляем элемент сверху и выводим его\n",
    "        return"
   ]
  },
  {
   "cell_type": "code",
   "execution_count": 34,
   "metadata": {},
   "outputs": [
    {
     "name": "stdout",
     "output_type": "stream",
     "text": [
      "2\n",
      "1\n"
     ]
    },
    {
     "ename": "Exception",
     "evalue": "Stack is empty",
     "output_type": "error",
     "traceback": [
      "\u001b[0;31m---------------------------------------------------------------------------\u001b[0m",
      "\u001b[0;31mException\u001b[0m                                 Traceback (most recent call last)",
      "\u001b[0;32m<ipython-input-34-38f2142aff87>\u001b[0m in \u001b[0;36m<module>\u001b[0;34m()\u001b[0m\n\u001b[1;32m      4\u001b[0m \u001b[0mprint\u001b[0m\u001b[1;33m(\u001b[0m\u001b[0ms\u001b[0m\u001b[1;33m.\u001b[0m\u001b[0mPop\u001b[0m\u001b[1;33m(\u001b[0m\u001b[1;33m)\u001b[0m\u001b[1;33m)\u001b[0m\u001b[1;33m\u001b[0m\u001b[0m\n\u001b[1;32m      5\u001b[0m \u001b[0mprint\u001b[0m\u001b[1;33m(\u001b[0m\u001b[0ms\u001b[0m\u001b[1;33m.\u001b[0m\u001b[0mPop\u001b[0m\u001b[1;33m(\u001b[0m\u001b[1;33m)\u001b[0m\u001b[1;33m)\u001b[0m\u001b[1;33m\u001b[0m\u001b[0m\n\u001b[0;32m----> 6\u001b[0;31m \u001b[0mprint\u001b[0m\u001b[1;33m(\u001b[0m\u001b[0ms\u001b[0m\u001b[1;33m.\u001b[0m\u001b[0mPop\u001b[0m\u001b[1;33m(\u001b[0m\u001b[1;33m)\u001b[0m\u001b[1;33m)\u001b[0m\u001b[1;33m\u001b[0m\u001b[0m\n\u001b[0m",
      "\u001b[0;32m<ipython-input-33-6ec67d3f9957>\u001b[0m in \u001b[0;36mPop\u001b[0;34m(this)\u001b[0m\n\u001b[1;32m     10\u001b[0m     \u001b[1;32mdef\u001b[0m \u001b[0mPop\u001b[0m\u001b[1;33m(\u001b[0m\u001b[0mthis\u001b[0m\u001b[1;33m)\u001b[0m\u001b[1;33m:\u001b[0m\u001b[1;33m\u001b[0m\u001b[0m\n\u001b[1;32m     11\u001b[0m         \u001b[1;32mif\u001b[0m \u001b[0mthis\u001b[0m\u001b[1;33m.\u001b[0m\u001b[0mtop\u001b[0m \u001b[1;33m<=\u001b[0m\u001b[1;36m0\u001b[0m\u001b[1;33m:\u001b[0m\u001b[1;33m\u001b[0m\u001b[0m\n\u001b[0;32m---> 12\u001b[0;31m             \u001b[1;32mraise\u001b[0m \u001b[0mException\u001b[0m\u001b[1;33m(\u001b[0m\u001b[1;34m'Stack is empty'\u001b[0m\u001b[1;33m)\u001b[0m\u001b[1;33m\u001b[0m\u001b[0m\n\u001b[0m\u001b[1;32m     13\u001b[0m         \u001b[0mthis\u001b[0m\u001b[1;33m.\u001b[0m\u001b[0mtop\u001b[0m \u001b[1;33m-=\u001b[0m\u001b[1;36m1\u001b[0m\u001b[1;33m\u001b[0m\u001b[0m\n\u001b[1;32m     14\u001b[0m         \u001b[1;32mreturn\u001b[0m \u001b[0mthis\u001b[0m\u001b[1;33m.\u001b[0m\u001b[0mst\u001b[0m\u001b[1;33m[\u001b[0m\u001b[0mthis\u001b[0m\u001b[1;33m.\u001b[0m\u001b[0mtop\u001b[0m\u001b[1;33m]\u001b[0m\u001b[1;33m\u001b[0m\u001b[0m\n",
      "\u001b[0;31mException\u001b[0m: Stack is empty"
     ]
    }
   ],
   "source": [
    "# Проверим, что все работает\n",
    "s = Stack(3)\n",
    "s.Push(1)\n",
    "s.Push(2)\n",
    "print(s.Pop())\n",
    "print(s.Pop())\n",
    "print(s.Pop())\n",
    "print(s)"
   ]
  },
  {
   "cell_type": "code",
   "execution_count": 35,
   "metadata": {},
   "outputs": [
    {
     "ename": "IndexError",
     "evalue": "list assignment index out of range",
     "output_type": "error",
     "traceback": [
      "\u001b[0;31m---------------------------------------------------------------------------\u001b[0m",
      "\u001b[0;31mIndexError\u001b[0m                                Traceback (most recent call last)",
      "\u001b[0;32m<ipython-input-35-af68190270a1>\u001b[0m in \u001b[0;36m<module>\u001b[0;34m()\u001b[0m\n\u001b[1;32m      3\u001b[0m \u001b[0ms\u001b[0m\u001b[1;33m.\u001b[0m\u001b[0mPush\u001b[0m\u001b[1;33m(\u001b[0m\u001b[1;36m2\u001b[0m\u001b[1;33m)\u001b[0m\u001b[1;33m\u001b[0m\u001b[0m\n\u001b[1;32m      4\u001b[0m \u001b[0ms\u001b[0m\u001b[1;33m.\u001b[0m\u001b[0mPush\u001b[0m\u001b[1;33m(\u001b[0m\u001b[1;36m3\u001b[0m\u001b[1;33m)\u001b[0m\u001b[1;33m\u001b[0m\u001b[0m\n\u001b[0;32m----> 5\u001b[0;31m \u001b[0ms\u001b[0m\u001b[1;33m.\u001b[0m\u001b[0mPush\u001b[0m\u001b[1;33m(\u001b[0m\u001b[1;36m4\u001b[0m\u001b[1;33m)\u001b[0m\u001b[1;33m\u001b[0m\u001b[0m\n\u001b[0m",
      "\u001b[0;32m<ipython-input-33-6ec67d3f9957>\u001b[0m in \u001b[0;36mPush\u001b[0;34m(this, elem)\u001b[0m\n\u001b[1;32m      6\u001b[0m         \u001b[1;32mreturn\u001b[0m \u001b[0mthis\u001b[0m\u001b[1;33m.\u001b[0m\u001b[0mtop\u001b[0m \u001b[1;33m==\u001b[0m \u001b[1;36m0\u001b[0m\u001b[1;33m\u001b[0m\u001b[0m\n\u001b[1;32m      7\u001b[0m     \u001b[1;32mdef\u001b[0m \u001b[0mPush\u001b[0m\u001b[1;33m(\u001b[0m\u001b[0mthis\u001b[0m\u001b[1;33m,\u001b[0m \u001b[0melem\u001b[0m\u001b[1;33m)\u001b[0m\u001b[1;33m:\u001b[0m\u001b[1;33m\u001b[0m\u001b[0m\n\u001b[0;32m----> 8\u001b[0;31m         \u001b[0mthis\u001b[0m\u001b[1;33m.\u001b[0m\u001b[0mst\u001b[0m\u001b[1;33m[\u001b[0m\u001b[0mthis\u001b[0m\u001b[1;33m.\u001b[0m\u001b[0mtop\u001b[0m\u001b[1;33m]\u001b[0m \u001b[1;33m=\u001b[0m \u001b[0melem\u001b[0m\u001b[1;33m\u001b[0m\u001b[0m\n\u001b[0m\u001b[1;32m      9\u001b[0m         \u001b[0mthis\u001b[0m\u001b[1;33m.\u001b[0m\u001b[0mtop\u001b[0m \u001b[1;33m+=\u001b[0m\u001b[1;36m1\u001b[0m\u001b[1;33m\u001b[0m\u001b[0m\n\u001b[1;32m     10\u001b[0m     \u001b[1;32mdef\u001b[0m \u001b[0mPop\u001b[0m\u001b[1;33m(\u001b[0m\u001b[0mthis\u001b[0m\u001b[1;33m)\u001b[0m\u001b[1;33m:\u001b[0m\u001b[1;33m\u001b[0m\u001b[0m\n",
      "\u001b[0;31mIndexError\u001b[0m: list assignment index out of range"
     ]
    }
   ],
   "source": [
    "s = Stack(3)\n",
    "s.Push(1)\n",
    "s.Push(2)\n",
    "s.Push(3)\n",
    "s.Push(4)\n",
    "print(s)"
   ]
  },
  {
   "cell_type": "markdown",
   "metadata": {},
   "source": [
    "Какое время работы методов этого класса?\n",
    "\n",
    "Как можно улучшить этот класс?\n",
    "\n",
    "1. Добавить метод ReadTop(this) который возвращает верхний элемент без удаления.\n",
    "2. Определить ```__str__(this)```, который печает весь стек.\n",
    "3. Проверка переполнения.\n",
    "4. Убрать ограничение на размер (см. упражнения для семинара)"
   ]
  },
  {
   "cell_type": "code",
   "execution_count": null,
   "metadata": {
    "collapsed": true
   },
   "outputs": [],
   "source": []
  },
  {
   "cell_type": "markdown",
   "metadata": {},
   "source": [
    "# Очередь"
   ]
  },
  {
   "cell_type": "markdown",
   "metadata": {},
   "source": [
    "Очередь по английски называют FILO (first in last out)\n",
    "\n",
    "Как и стек очередь должна иметь методы добавления и изъятия элемента, а также проверку на пустоту. Отличие состоит в том, что первым достается элемент, который первым был помещен в очередь.\n",
    "\n",
    "Можно реализовать с помощью массива следующим образом:"
   ]
  },
  {
   "cell_type": "code",
   "execution_count": 29,
   "metadata": {
    "collapsed": true
   },
   "outputs": [],
   "source": [
    "class Queue():\n",
    "    def __init__(this, n):\n",
    "        this.qu = [0]*n\n",
    "        this.head = 0\n",
    "        this.tail = 0\n",
    "    def isEmpty(this):\n",
    "        return this.head == this.tail\n",
    "    def Push(this, elem):\n",
    "        if (this.head + 1 == this.tail) or (this.head == len(this.qu)-1 and this.tail == 0):\n",
    "            raise Exception('Queue is full')\n",
    "        this.qu[this.head] = elem\n",
    "        this.head +=1\n",
    "        if this.head == len(this.qu):\n",
    "            this.head = 0\n",
    "    def Pop(this):\n",
    "        if this.isEmpty():\n",
    "            raise Exception('Stack is empty')\n",
    "        r = this.qu[this.tail]\n",
    "        this.tail +=1\n",
    "        if (this.tail == len(this.qu)):\n",
    "            this.tail = 0\n",
    "        return r"
   ]
  },
  {
   "cell_type": "code",
   "execution_count": 36,
   "metadata": {},
   "outputs": [
    {
     "ename": "Exception",
     "evalue": "Queue is full",
     "output_type": "error",
     "traceback": [
      "\u001b[0;31m---------------------------------------------------------------------------\u001b[0m",
      "\u001b[0;31mException\u001b[0m                                 Traceback (most recent call last)",
      "\u001b[0;32m<ipython-input-36-170ad205e228>\u001b[0m in \u001b[0;36m<module>\u001b[0;34m()\u001b[0m\n\u001b[1;32m      2\u001b[0m \u001b[0mQ\u001b[0m\u001b[1;33m.\u001b[0m\u001b[0mPush\u001b[0m\u001b[1;33m(\u001b[0m\u001b[1;36m1\u001b[0m\u001b[1;33m)\u001b[0m\u001b[1;33m\u001b[0m\u001b[0m\n\u001b[1;32m      3\u001b[0m \u001b[0mQ\u001b[0m\u001b[1;33m.\u001b[0m\u001b[0mPush\u001b[0m\u001b[1;33m(\u001b[0m\u001b[1;36m2\u001b[0m\u001b[1;33m)\u001b[0m\u001b[1;33m\u001b[0m\u001b[0m\n\u001b[0;32m----> 4\u001b[0;31m \u001b[0mQ\u001b[0m\u001b[1;33m.\u001b[0m\u001b[0mPush\u001b[0m\u001b[1;33m(\u001b[0m\u001b[1;36m3\u001b[0m\u001b[1;33m)\u001b[0m\u001b[1;33m\u001b[0m\u001b[0m\n\u001b[0m",
      "\u001b[0;32m<ipython-input-29-7043e0cf917d>\u001b[0m in \u001b[0;36mPush\u001b[0;34m(this, elem)\u001b[0m\n\u001b[1;32m      8\u001b[0m     \u001b[1;32mdef\u001b[0m \u001b[0mPush\u001b[0m\u001b[1;33m(\u001b[0m\u001b[0mthis\u001b[0m\u001b[1;33m,\u001b[0m \u001b[0melem\u001b[0m\u001b[1;33m)\u001b[0m\u001b[1;33m:\u001b[0m\u001b[1;33m\u001b[0m\u001b[0m\n\u001b[1;32m      9\u001b[0m         \u001b[1;32mif\u001b[0m \u001b[1;33m(\u001b[0m\u001b[0mthis\u001b[0m\u001b[1;33m.\u001b[0m\u001b[0mhead\u001b[0m \u001b[1;33m+\u001b[0m \u001b[1;36m1\u001b[0m \u001b[1;33m==\u001b[0m \u001b[0mthis\u001b[0m\u001b[1;33m.\u001b[0m\u001b[0mtail\u001b[0m\u001b[1;33m)\u001b[0m \u001b[1;32mor\u001b[0m \u001b[1;33m(\u001b[0m\u001b[0mthis\u001b[0m\u001b[1;33m.\u001b[0m\u001b[0mhead\u001b[0m \u001b[1;33m==\u001b[0m \u001b[0mlen\u001b[0m\u001b[1;33m(\u001b[0m\u001b[0mthis\u001b[0m\u001b[1;33m.\u001b[0m\u001b[0mqu\u001b[0m\u001b[1;33m)\u001b[0m\u001b[1;33m-\u001b[0m\u001b[1;36m1\u001b[0m \u001b[1;32mand\u001b[0m \u001b[0mthis\u001b[0m\u001b[1;33m.\u001b[0m\u001b[0mtail\u001b[0m \u001b[1;33m==\u001b[0m \u001b[1;36m0\u001b[0m\u001b[1;33m)\u001b[0m\u001b[1;33m:\u001b[0m\u001b[1;33m\u001b[0m\u001b[0m\n\u001b[0;32m---> 10\u001b[0;31m             \u001b[1;32mraise\u001b[0m \u001b[0mException\u001b[0m\u001b[1;33m(\u001b[0m\u001b[1;34m'Queue is full'\u001b[0m\u001b[1;33m)\u001b[0m\u001b[1;33m\u001b[0m\u001b[0m\n\u001b[0m\u001b[1;32m     11\u001b[0m         \u001b[0mthis\u001b[0m\u001b[1;33m.\u001b[0m\u001b[0mqu\u001b[0m\u001b[1;33m[\u001b[0m\u001b[0mthis\u001b[0m\u001b[1;33m.\u001b[0m\u001b[0mhead\u001b[0m\u001b[1;33m]\u001b[0m \u001b[1;33m=\u001b[0m \u001b[0melem\u001b[0m\u001b[1;33m\u001b[0m\u001b[0m\n\u001b[1;32m     12\u001b[0m         \u001b[0mthis\u001b[0m\u001b[1;33m.\u001b[0m\u001b[0mhead\u001b[0m \u001b[1;33m+=\u001b[0m\u001b[1;36m1\u001b[0m\u001b[1;33m\u001b[0m\u001b[0m\n",
      "\u001b[0;31mException\u001b[0m: Queue is full"
     ]
    }
   ],
   "source": [
    "Q = Queue(3)\n",
    "Q.Push(1)\n",
    "Q.Push(2)\n",
    "Q.Push(3)"
   ]
  },
  {
   "cell_type": "code",
   "execution_count": 37,
   "metadata": {},
   "outputs": [
    {
     "name": "stdout",
     "output_type": "stream",
     "text": [
      "1\n",
      "2\n",
      "3\n",
      "4\n"
     ]
    },
    {
     "ename": "Exception",
     "evalue": "Stack is empty",
     "output_type": "error",
     "traceback": [
      "\u001b[0;31m---------------------------------------------------------------------------\u001b[0m",
      "\u001b[0;31mException\u001b[0m                                 Traceback (most recent call last)",
      "\u001b[0;32m<ipython-input-37-2257bcc7e42c>\u001b[0m in \u001b[0;36m<module>\u001b[0;34m()\u001b[0m\n\u001b[1;32m      8\u001b[0m \u001b[0mprint\u001b[0m\u001b[1;33m(\u001b[0m\u001b[0mQ\u001b[0m\u001b[1;33m.\u001b[0m\u001b[0mPop\u001b[0m\u001b[1;33m(\u001b[0m\u001b[1;33m)\u001b[0m\u001b[1;33m)\u001b[0m\u001b[1;33m\u001b[0m\u001b[0m\n\u001b[1;32m      9\u001b[0m \u001b[0mprint\u001b[0m\u001b[1;33m(\u001b[0m\u001b[0mQ\u001b[0m\u001b[1;33m.\u001b[0m\u001b[0mPop\u001b[0m\u001b[1;33m(\u001b[0m\u001b[1;33m)\u001b[0m\u001b[1;33m)\u001b[0m\u001b[1;33m\u001b[0m\u001b[0m\n\u001b[0;32m---> 10\u001b[0;31m \u001b[0mprint\u001b[0m\u001b[1;33m(\u001b[0m\u001b[0mQ\u001b[0m\u001b[1;33m.\u001b[0m\u001b[0mPop\u001b[0m\u001b[1;33m(\u001b[0m\u001b[1;33m)\u001b[0m\u001b[1;33m)\u001b[0m\u001b[1;33m\u001b[0m\u001b[0m\n\u001b[0m",
      "\u001b[0;32m<ipython-input-29-7043e0cf917d>\u001b[0m in \u001b[0;36mPop\u001b[0;34m(this)\u001b[0m\n\u001b[1;32m     15\u001b[0m     \u001b[1;32mdef\u001b[0m \u001b[0mPop\u001b[0m\u001b[1;33m(\u001b[0m\u001b[0mthis\u001b[0m\u001b[1;33m)\u001b[0m\u001b[1;33m:\u001b[0m\u001b[1;33m\u001b[0m\u001b[0m\n\u001b[1;32m     16\u001b[0m         \u001b[1;32mif\u001b[0m \u001b[0mthis\u001b[0m\u001b[1;33m.\u001b[0m\u001b[0misEmpty\u001b[0m\u001b[1;33m(\u001b[0m\u001b[1;33m)\u001b[0m\u001b[1;33m:\u001b[0m\u001b[1;33m\u001b[0m\u001b[0m\n\u001b[0;32m---> 17\u001b[0;31m             \u001b[1;32mraise\u001b[0m \u001b[0mException\u001b[0m\u001b[1;33m(\u001b[0m\u001b[1;34m'Stack is empty'\u001b[0m\u001b[1;33m)\u001b[0m\u001b[1;33m\u001b[0m\u001b[0m\n\u001b[0m\u001b[1;32m     18\u001b[0m         \u001b[0mr\u001b[0m \u001b[1;33m=\u001b[0m \u001b[0mthis\u001b[0m\u001b[1;33m.\u001b[0m\u001b[0mqu\u001b[0m\u001b[1;33m[\u001b[0m\u001b[0mthis\u001b[0m\u001b[1;33m.\u001b[0m\u001b[0mtail\u001b[0m\u001b[1;33m]\u001b[0m\u001b[1;33m\u001b[0m\u001b[0m\n\u001b[1;32m     19\u001b[0m         \u001b[0mthis\u001b[0m\u001b[1;33m.\u001b[0m\u001b[0mtail\u001b[0m \u001b[1;33m+=\u001b[0m\u001b[1;36m1\u001b[0m\u001b[1;33m\u001b[0m\u001b[0m\n",
      "\u001b[0;31mException\u001b[0m: Stack is empty"
     ]
    }
   ],
   "source": [
    "Q = Queue(3)\n",
    "Q.Push(1)\n",
    "Q.Push(2)\n",
    "print(Q.Pop())\n",
    "Q.Push(3)\n",
    "print(Q.Pop())\n",
    "Q.Push(4)\n",
    "print(Q.Pop())\n",
    "print(Q.Pop())\n",
    "print(Q.Pop())"
   ]
  },
  {
   "cell_type": "markdown",
   "metadata": {},
   "source": [
    "Каково время работы методов класса?\n",
    "\n",
    "Варианты улучшения в целом совпадают с улучшениями стека."
   ]
  },
  {
   "cell_type": "markdown",
   "metadata": {},
   "source": [
    "# Связные списки"
   ]
  },
  {
   "cell_type": "markdown",
   "metadata": {},
   "source": [
    "Из-за того, что в python массивы (или векторы) тоже называются списками (list) может возникнуть путаница. Нужно отличать списки (list), которые по сути векторы, и связные списки, которые мы здесь изучаем.\n",
    "\n",
    "Списки бывают однонаправленные и двунаправленные. В простейшем случае однонаправленные списки представляют собой линейно организованные элементы, каждый из которых имеет содержательную информацию (key) и ссылку на следующий элемент в списке (next, т.к. в python слово next зарезервировано, то мы будем использовать nxt). У последнего элемента next равен None.\n",
    "\n",
    "Для работы со списками нужны методы реализующие\n",
    "\n",
    "1. Добавление элемента\n",
    "1. Удаление элемента (чтобы не разорвать весь список придется делать удаление следующего элемента)\n",
    "1. Полезно иметь возможность распечатать все элементы списка, начиная с данного"
   ]
  },
  {
   "cell_type": "code",
   "execution_count": 47,
   "metadata": {
    "collapsed": true
   },
   "outputs": [],
   "source": [
    "class ListElement: # Один узел списка\n",
    "    '''Один узел связного списка, содержит ключ key и ссылку на следующий узел nxt'''\n",
    "    def __init__(self, key): # \n",
    "        self.key = key\n",
    "        self.nxt = None\n",
    "    def AddAfter (self, x): \n",
    "        # TODO\n",
    "    def DelNext(self):\n",
    "        self.nxt = self.nxt.nxt\n",
    "    def PrintKeys(self):\n",
    "        # TODO напечатать текущий ключ и все последующие\n",
    "    def __str__(this):\n",
    "        return str(this.key)"
   ]
  },
  {
   "cell_type": "code",
   "execution_count": 48,
   "metadata": {},
   "outputs": [
    {
     "name": "stdout",
     "output_type": "stream",
     "text": [
      "1, 4, 3, 2\n",
      "1, 3, 2\n",
      "2\n"
     ]
    }
   ],
   "source": [
    "first = (ListElement(1))\n",
    "first.AddAfter(ListElement(2))\n",
    "first.AddAfter(ListElement(3))\n",
    "first.AddAfter(ListElement(4))\n",
    "print(first.PrintKeys())\n",
    "first.DelNext()\n",
    "print(first.PrintKeys())\n",
    "print(first.nxt.nxt)"
   ]
  },
  {
   "cell_type": "markdown",
   "metadata": {},
   "source": [
    "Работать со связным списком только через элементы не очень удобно, поэтому полезно создать класс типа \"связный список\", который будет хранить первый элемент, в котором будет возможность удалить первый элемент, добавить в начало, добавить в конец, найти элемент по значению поля key, распечатать весь список."
   ]
  },
  {
   "cell_type": "code",
   "execution_count": 55,
   "metadata": {
    "collapsed": true
   },
   "outputs": [],
   "source": [
    "class ConList:\n",
    "    '''\n",
    "    Связный список. Хранит только первый элемент (голову) списка и несколько удобных методов\n",
    "    '''\n",
    "    def __init__(self, first):\n",
    "        self.first = first\n",
    "    def AddtoHead(self, x):\n",
    "        # TODO\n",
    "    def AddtoTail(self, x):\n",
    "        # TODO\n",
    "    def __str__(self):\n",
    "        return self.first.PrintKeys()\n",
    "    def Find(self, key):\n",
    "        # TODO"
   ]
  },
  {
   "cell_type": "code",
   "execution_count": 61,
   "metadata": {},
   "outputs": [
    {
     "name": "stdout",
     "output_type": "stream",
     "text": [
      "2, 1, 3, 4\n",
      "None\n",
      "3\n"
     ]
    }
   ],
   "source": [
    "lst = ConList(ListElement(1))\n",
    "lst.AddtoHead(ListElement(2))\n",
    "lst.AddtoTail(ListElement(3))\n",
    "lst.AddtoTail(ListElement(4))\n",
    "print(lst)\n",
    "x = lst.Find(5)\n",
    "print(x)\n",
    "print(lst.Find(1).nxt)"
   ]
  },
  {
   "cell_type": "markdown",
   "metadata": {},
   "source": [
    "### Двунаправленные связные (двусвязные) списки\n",
    "\n",
    "В двунаправленных списках в каждом элементе есть ссылка и на следующий и на предыдущий элемент (prv).\n",
    "\n",
    "У первого элемента ```prv = None```"
   ]
  },
  {
   "cell_type": "code",
   "execution_count": 68,
   "metadata": {
    "collapsed": true
   },
   "outputs": [],
   "source": [
    "class ListElement2(ListElement):\n",
    "    def __init__(self, key):\n",
    "        \n",
    "    def AddAfter(self, x): \n",
    "        ListElement.AddAfter(self, x)\n",
    "        \n",
    "    def AddBefore(self, x): \n",
    "        # TODO\n",
    "    def DelNext(self): # Удаляет следующий элемент\n",
    "        ListElement.DelNext(self)\n",
    "        # TODO\n",
    "    def Del(self): # Удаляет текущий элемент\n",
    "        x = self.prv\n",
    "        y = self.nxt\n",
    "        if x != None:\n",
    "            x.nxt = y\n",
    "        if y != None:\n",
    "            y.prv = x\n",
    "        self.nxt = None\n",
    "        self.prv = None\n",
    "    def PrintKeys(self): # Надо переопределять?         \n",
    "    def __str__(self): # Надо переопределять?"
   ]
  },
  {
   "cell_type": "code",
   "execution_count": 69,
   "metadata": {},
   "outputs": [
    {
     "name": "stdout",
     "output_type": "stream",
     "text": [
      "2, 1, 4, 3\n",
      "2, 4, 3\n"
     ]
    }
   ],
   "source": [
    "a = ListElement2(1)\n",
    "a.AddBefore(ListElement2(2))\n",
    "a.AddAfter(ListElement2(3))\n",
    "a.AddAfter(ListElement2(4))\n",
    "print(a.prv.PrintKeys())\n",
    "b = a.prv\n",
    "a.Del()\n",
    "print(b.PrintKeys())"
   ]
  },
  {
   "cell_type": "markdown",
   "metadata": {},
   "source": [
    "Аналогично однонаправленному списку стоит создать класс для двунаправленного списка, в котором хранится первый элемент, может быть последний, поиск, печать всего списка. Попробуйте сделать такой класс самостоятельно."
   ]
  },
  {
   "cell_type": "markdown",
   "metadata": {},
   "source": [
    "Различные варианты списков: циклические, нециклические, отсортированные.\n",
    "\n",
    "Сколько времини нужно в худшем и в среднем для работы методов этого класса.\n",
    "\n",
    "Дополнительные конструкции: ограничители -- нециклический список замыкается в циклический со специальным фиктивным элементом -- ограничистелем. (экономия в строчках кода и проще понимать код)"
   ]
  },
  {
   "cell_type": "markdown",
   "metadata": {},
   "source": [
    "# Здачи самостоятельного решения"
   ]
  },
  {
   "cell_type": "markdown",
   "metadata": {},
   "source": [
    "1. Реализуйте связный список.\n",
    "1. Переделайте стек и очередь, реализованные на массиве так, чтобы при достижении переполнения ошибка не выдавалась, а выделялось больше памяти для массива. Чтобы это происходило не слишком часто, размер можно каждый раз удваивать.\n",
    "1. Реализуйте стек и очередь с помощью связного списка.\n",
    "1. Как изменится время работы методов списка, если мы будем поддерживать список упорядоченным?\n",
    "1. Напишите программу поиска по дереву в глубину (рекурсивно и не рекурсивно).\n",
    "1. Напишите программу поиска по дереву в ширину (рекурсивно и не рекурсивно).\n",
    "1. Добавьте к связному списку метод возращающий итератор, который можно использовать, например в цикле for.\n",
    "1. Графы можно представлять по-разному. Например как список ребер, матрица смежности, или устроить структуру с указателями по типу связных списков и деревьев. Напишите функции переводящие все эти методы друг в друга."
   ]
  },
  {
   "cell_type": "code",
   "execution_count": null,
   "metadata": {
    "collapsed": true
   },
   "outputs": [],
   "source": []
  }
 ],
 "metadata": {
  "anaconda-cloud": {},
  "kernelspec": {
   "display_name": "Python 3",
   "language": "python",
   "name": "python3"
  },
  "language_info": {
   "codemirror_mode": {
    "name": "ipython",
    "version": 3
   },
   "file_extension": ".py",
   "mimetype": "text/x-python",
   "name": "python",
   "nbconvert_exporter": "python",
   "pygments_lexer": "ipython3",
   "version": "3.7.3"
  }
 },
 "nbformat": 4,
 "nbformat_minor": 1
}
