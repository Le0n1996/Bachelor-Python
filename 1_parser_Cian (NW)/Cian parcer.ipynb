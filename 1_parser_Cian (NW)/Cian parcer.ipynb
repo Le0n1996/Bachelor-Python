{
 "cells": [
  {
   "cell_type": "markdown",
   "metadata": {},
   "source": [
    "### NOT WORKING NOW, SITE CHANGED"
   ]
  },
  {
   "cell_type": "code",
   "execution_count": 2,
   "metadata": {},
   "outputs": [],
   "source": [
    "import requests\n",
    "import re\n",
    "from bs4 import BeautifulSoup\n",
    "import numpy as np\n",
    "import pandas as pd\n",
    "import time\n",
    "#import geopy\n",
    "#from geopy.distance import vincenty"
   ]
  },
  {
   "cell_type": "markdown",
   "metadata": {},
   "source": [
    "Магический стриппер! (ﾉ◕ヮ◕)ﾉ*:･ﾟ✧"
   ]
  },
  {
   "cell_type": "code",
   "execution_count": 3,
   "metadata": {},
   "outputs": [],
   "source": [
    "def html_stripper(text):\n",
    "    return re.sub('<[^<]+?>', '', str(text))"
   ]
  },
  {
   "cell_type": "markdown",
   "metadata": {},
   "source": [
    "Еще одна магическая штука, которую я нашел на просторах гугла - она как-то работает! Это пригодится нам потом, когда мы будем сортировать массив строк в числовом порядке."
   ]
  },
  {
   "cell_type": "code",
   "execution_count": 4,
   "metadata": {},
   "outputs": [],
   "source": [
    "numbers = re.compile(r'(\\d+)')\n",
    "def numericalSort(value):\n",
    "    parts = numbers.split(value)\n",
    "    parts[1::2] = map(int, parts[1::2])\n",
    "    return parts"
   ]
  },
  {
   "cell_type": "markdown",
   "metadata": {},
   "source": [
    "Поиграв немного с ВАО, я понял, что можно сделать оптимальное разбиение по цене (например, 6.5М рублей), и тогда в каждом запросе будет не более 840 квартир."
   ]
  },
  {
   "cell_type": "code",
   "execution_count": 5,
   "metadata": {},
   "outputs": [
    {
     "name": "stdout",
     "output_type": "stream",
     "text": [
      "http://www.cian.ru/cat.php?deal_type=sale&district%5B0%5D=2&engine_version=2&minprice=6500001&offer_type=flat&p=1&room1=1&room2=1&room3=1&room4=1&room5=1&room6=1\n"
     ]
    }
   ],
   "source": [
    "urls = ['http://www.cian.ru/cat.php?deal_type=sale&district%5B0%5D={}&engine_version=2&maxprice=6500000&offer_type=flat&p={}&room1=1&room2=1&room3=1&room4=1&room5=1&room6=1',\n",
    "            'http://www.cian.ru/cat.php?deal_type=sale&district%5B0%5D={}&engine_version=2&minprice=6500001&offer_type=flat&p={}&room1=1&room2=1&room3=1&room4=1&room5=1&room6=1']\n",
    "dist = 2\n",
    "page = 1\n",
    "print(urls[1].format(dist, page))"
   ]
  },
  {
   "cell_type": "code",
   "execution_count": 6,
   "metadata": {},
   "outputs": [
    {
     "name": "stdout",
     "output_type": "stream",
     "text": [
      "DISTRICT 56\n",
      "Number of flat urls on the page 1:  0\n",
      "Total pages:  1\n",
      "Total urls:  0\n",
      "Unique urls:  0\n",
      "Number of flat urls on the page 1:  0\n",
      "Total pages:  1\n",
      "Total urls:  0\n",
      "Unique urls:  0\n",
      "Total unique flat urls for district 56:  0\n",
      "Time spent on district 56: 0.17894813617070515 minutes\n",
      "DISTRICT 57\n",
      "Number of flat urls on the page 1:  0\n",
      "Total pages:  1\n",
      "Total urls:  0\n",
      "Unique urls:  0\n",
      "Number of flat urls on the page 1:  0\n",
      "Total pages:  1\n",
      "Total urls:  0\n",
      "Unique urls:  0\n",
      "Total unique flat urls for district 57:  0\n",
      "Time spent on district 57: 0.1728175441424052 minutes\n",
      "DISTRICT 58\n",
      "Number of flat urls on the page 1:  0\n",
      "Total pages:  1\n",
      "Total urls:  0\n",
      "Unique urls:  0\n",
      "Number of flat urls on the page 1:  0\n",
      "Total pages:  1\n",
      "Total urls:  0\n",
      "Unique urls:  0\n",
      "Total unique flat urls for district 58:  0\n",
      "Time spent on district 58: 0.18163824876149495 minutes\n",
      "DISTRICT 59\n",
      "Number of flat urls on the page 1:  0\n",
      "Total pages:  1\n",
      "Total urls:  0\n",
      "Unique urls:  0\n",
      "Number of flat urls on the page 1:  0\n",
      "Total pages:  1\n",
      "Total urls:  0\n",
      "Unique urls:  0\n",
      "Total unique flat urls for district 59:  0\n",
      "Time spent on district 59: 0.14780063629150392 minutes\n",
      "DISTRICT 60\n",
      "Number of flat urls on the page 1:  0\n",
      "Total pages:  1\n",
      "Total urls:  0\n",
      "Unique urls:  0\n",
      "Number of flat urls on the page 1:  0\n",
      "Total pages:  1\n",
      "Total urls:  0\n",
      "Unique urls:  0\n",
      "Total unique flat urls for district 60:  0\n",
      "Time spent on district 60: 0.16918761332829793 minutes\n",
      "DISTRICT 61\n",
      "Number of flat urls on the page 1:  0\n",
      "Total pages:  1\n",
      "Total urls:  0\n",
      "Unique urls:  0\n",
      "Number of flat urls on the page 1:  0\n",
      "Total pages:  1\n",
      "Total urls:  0\n",
      "Unique urls:  0\n",
      "Total unique flat urls for district 61:  0\n",
      "Time spent on district 61: 0.1951229453086853 minutes\n",
      "DISTRICT 62\n",
      "Number of flat urls on the page 1:  0\n",
      "Total pages:  1\n",
      "Total urls:  0\n",
      "Unique urls:  0\n",
      "Number of flat urls on the page 1:  0\n",
      "Total pages:  1\n",
      "Total urls:  0\n",
      "Unique urls:  0\n",
      "Total unique flat urls for district 62:  0\n",
      "Time spent on district 62: 0.15581425428390502 minutes\n",
      "DISTRICT 63\n",
      "Number of flat urls on the page 1:  0\n",
      "Total pages:  1\n",
      "Total urls:  0\n",
      "Unique urls:  0\n",
      "Number of flat urls on the page 1:  0\n",
      "Total pages:  1\n",
      "Total urls:  0\n",
      "Unique urls:  0\n",
      "Total unique flat urls for district 63:  0\n",
      "Time spent on district 63: 0.15542962153752646 minutes\n",
      "DISTRICT 64\n",
      "Number of flat urls on the page 1:  0\n",
      "Total pages:  1\n",
      "Total urls:  0\n",
      "Unique urls:  0\n",
      "Number of flat urls on the page 1:  0\n",
      "Total pages:  1\n",
      "Total urls:  0\n",
      "Unique urls:  0\n",
      "Total unique flat urls for district 64:  0\n",
      "Time spent on district 64: 0.15532120068868002 minutes\n",
      "DISTRICT 65\n",
      "Number of flat urls on the page 1:  0\n",
      "Total pages:  1\n",
      "Total urls:  0\n",
      "Unique urls:  0\n",
      "Number of flat urls on the page 1:  0\n",
      "Total pages:  1\n",
      "Total urls:  0\n",
      "Unique urls:  0\n",
      "Total unique flat urls for district 65:  0\n",
      "Time spent on district 65: 0.16806384722391765 minutes\n",
      "DISTRICT 66\n",
      "Number of flat urls on the page 1:  0\n",
      "Total pages:  1\n",
      "Total urls:  0\n",
      "Unique urls:  0\n",
      "Number of flat urls on the page 1:  0\n",
      "Total pages:  1\n",
      "Total urls:  0\n",
      "Unique urls:  0\n",
      "Total unique flat urls for district 66:  0\n",
      "Time spent on district 66: 0.1524899164835612 minutes\n",
      "DISTRICT 67\n",
      "Number of flat urls on the page 1:  0\n",
      "Total pages:  1\n",
      "Total urls:  0\n",
      "Unique urls:  0\n",
      "Number of flat urls on the page 1:  0\n",
      "Total pages:  1\n",
      "Total urls:  0\n",
      "Unique urls:  0\n",
      "Total unique flat urls for district 67:  0\n",
      "Time spent on district 67: 0.1541923443476359 minutes\n",
      "DISTRICT 68\n",
      "Number of flat urls on the page 1:  0\n",
      "Total pages:  1\n",
      "Total urls:  0\n",
      "Unique urls:  0\n",
      "Number of flat urls on the page 1:  0\n",
      "Total pages:  1\n",
      "Total urls:  0\n",
      "Unique urls:  0\n",
      "Total unique flat urls for district 68:  0\n",
      "Time spent on district 68: 0.1583056847254435 minutes\n",
      "DISTRICT 69\n",
      "Number of flat urls on the page 1:  0\n",
      "Total pages:  1\n",
      "Total urls:  0\n",
      "Unique urls:  0\n",
      "Number of flat urls on the page 1:  0\n",
      "Total pages:  1\n",
      "Total urls:  0\n",
      "Unique urls:  0\n",
      "Total unique flat urls for district 69:  0\n",
      "Time spent on district 69: 0.1611844301223755 minutes\n",
      "DISTRICT 70\n",
      "Number of flat urls on the page 1:  0\n",
      "Total pages:  1\n",
      "Total urls:  0\n",
      "Unique urls:  0\n",
      "Number of flat urls on the page 1:  0\n",
      "Total pages:  1\n",
      "Total urls:  0\n",
      "Unique urls:  0\n",
      "Total unique flat urls for district 70:  0\n",
      "Time spent on district 70: 0.19340225060780844 minutes\n",
      "DISTRICT 71\n",
      "Number of flat urls on the page 1:  0\n",
      "Total pages:  1\n",
      "Total urls:  0\n",
      "Unique urls:  0\n",
      "Number of flat urls on the page 1:  0\n",
      "Total pages:  1\n",
      "Total urls:  0\n",
      "Unique urls:  0\n",
      "Total unique flat urls for district 71:  0\n",
      "Time spent on district 71: 0.1860233227411906 minutes\n",
      "Total time spent: 2.6857586463292438 munutes\n",
      "Total unique flat urls: 0\n"
     ]
    }
   ],
   "source": [
    "start_time = time.time()\n",
    "links = []\n",
    "# 56, ..., 71 - номера районов, соответствующих ВАО\n",
    "for dist in range(56, 72):\n",
    "    start_time_dist = time.time()\n",
    "    last_len_links = len(links)\n",
    "    print('DISTRICT {}'.format(dist))\n",
    "    for url in urls:\n",
    "        # Если по запросу выдается, скажем, 16 страниц, то если мы перескочим на 17, нас перенаправит\n",
    "        # на первую. Переменная is_looped отвечает за то, чтобы мы не зациклились\n",
    "        is_looped = 0\n",
    "        page = 1\n",
    "        while is_looped == 0:\n",
    "            # тут мы просто собираем информацию обо всех объявлениях на странице\n",
    "            # (при помощи пристального вглядывания в html-код и профессионального кодинга (͡° ͜ʖ ͡°))\n",
    "            page_url =  url.format(dist, page)\n",
    "            search_page = BeautifulSoup(requests.get(page_url).content, 'lxml')\n",
    "            pages = search_page.findAll('div', attrs = {'class':\"pager_pages\"})\n",
    "            pages = re.split('<span>|</span>', str(pages))\n",
    "            # условие зацикливания\n",
    "            if page != 1 and ('1' in pages or pages[0] == '[]'):\n",
    "                print('Total pages: ', page - 1)\n",
    "                print('Total urls: ', len(links) - last_len_links)\n",
    "                print('Unique urls: ', len(list(set(links))) - last_len_links)\n",
    "                is_looped = 1\n",
    "            # если не зациклились, то достаем все ссылки и переходим к следующей странице\n",
    "            else:\n",
    "                flat_urls = search_page.findAll('div', attrs = {'ng-class':\"{'serp-item_removed': offer.remove.state, 'serp-item_popup-opened': isPopupOpen}\"})\n",
    "                flat_urls = re.split('http://www.cian.ru/sale/flat/|/\" ng-class=\"', str(flat_urls))\n",
    "                cnt = 0\n",
    "                for link in flat_urls:\n",
    "                    if link.isdigit():\n",
    "                        links.append(link)\n",
    "                        cnt += 1\n",
    "                print('Number of flat urls on the page {}: '.format(page), cnt)\n",
    "                page += 1\n",
    "    # нам нужны только уникальные ссылки - как видно из вывода, некоторые объявления повторяются\n",
    "    links = list(set(links))\n",
    "    print('Total unique flat urls for district {}: '.format(dist), len(links) - last_len_links)\n",
    "    print('Time spent on district {}: {} minutes'.format(dist, (time.time() - start_time_dist) / 60))\n",
    "print('Total time spent: {} munutes'.format((time.time() - start_time) / 60))\n",
    "print('Total unique flat urls: {}'.format(len(links)))"
   ]
  },
  {
   "cell_type": "markdown",
   "metadata": {},
   "source": [
    "Ура, мы получили массив номеров ссылок! Отсортируем его, вспомнив про магическую функцию сравнения в самом начале."
   ]
  },
  {
   "cell_type": "code",
   "execution_count": 7,
   "metadata": {},
   "outputs": [],
   "source": [
    "links = sorted(links, key=numericalSort)"
   ]
  },
  {
   "cell_type": "code",
   "execution_count": 8,
   "metadata": {},
   "outputs": [
    {
     "data": {
      "text/plain": [
       "[]"
      ]
     },
     "execution_count": 8,
     "metadata": {},
     "output_type": "execute_result"
    }
   ],
   "source": [
    "len(links)\n",
    "links[:7]\n",
    "links[-6:]"
   ]
  },
  {
   "cell_type": "code",
   "execution_count": 9,
   "metadata": {},
   "outputs": [],
   "source": [
    "np.savetxt('vao_links.csv', links, delimiter=',', header='link', comments='', fmt='%s')"
   ]
  },
  {
   "cell_type": "markdown",
   "metadata": {},
   "source": [
    "Теперь займемся функциями, с помощью которых мы сможем доставать интересующую нас информацию со страничек. Начнем с"
   ]
  },
  {
   "cell_type": "markdown",
   "metadata": {},
   "source": [
    "#### N – номер квартиры по порядку"
   ]
  },
  {
   "cell_type": "code",
   "execution_count": 10,
   "metadata": {},
   "outputs": [],
   "source": [
    "def getN(link):\n",
    "    return int(link)"
   ]
  },
  {
   "cell_type": "markdown",
   "metadata": {},
   "source": [
    "(это было слишком просто)"
   ]
  },
  {
   "cell_type": "markdown",
   "metadata": {},
   "source": [
    "#### Rooms – число комнат"
   ]
  },
  {
   "cell_type": "code",
   "execution_count": 11,
   "metadata": {},
   "outputs": [],
   "source": [
    "def getRooms(flat_page):\n",
    "    rooms = flat_page.find('div', attrs={'class':\"object_descr_title\"})\n",
    "    rooms = re.split(' |-', str(rooms))\n",
    "    rooms = ''.join([i for i in rooms if i.isdigit()])\n",
    "    # если квартира многокомнатная (6+), то количества комнат в том месте, где мы ищем, не стоит, и\n",
    "    # у нас вылетает ValueError. Искать это самое число непросто - на разных подобных страничках\n",
    "    # оно может стоять в разных местах, может быть в тексте, а может вообще не существовать. Поэтому\n",
    "    # я решил не запариваться и выводить в подобных случаях 6, благо таких случаев на весь ВАО 11\n",
    "    try:\n",
    "        return int(rooms)\n",
    "    except ValueError:\n",
    "        return 6"
   ]
  },
  {
   "cell_type": "markdown",
   "metadata": {},
   "source": [
    "#### Price – цена"
   ]
  },
  {
   "cell_type": "markdown",
   "metadata": {},
   "source": [
    "В цене на сайте стоят пробельчики, но мы их убираем"
   ]
  },
  {
   "cell_type": "code",
   "execution_count": 12,
   "metadata": {},
   "outputs": [],
   "source": [
    "def getPrice(flat_page):\n",
    "    price = flat_page.find('div', attrs={'class':'object_descr_price'})\n",
    "    price = re.split('<div>|руб|\\W', str(price))\n",
    "    price = ''.join([i for i in price if i.isdigit()][-3:])\n",
    "    return int(price)"
   ]
  },
  {
   "cell_type": "markdown",
   "metadata": {},
   "source": [
    "#### Totsp – общая площадь квартиры, кв. м."
   ]
  },
  {
   "cell_type": "code",
   "execution_count": 13,
   "metadata": {},
   "outputs": [],
   "source": [
    "def getTotsp(flat_page):\n",
    "    totsp = flat_page.find('table', attrs={'class': \"object_descr_props flat sale\"})\n",
    "    totsp = html_stripper(totsp).replace('\\n', '')\n",
    "    totsp = re.split('Общая площадь:|\\ха0м2', totsp)\n",
    "    totsp = re.split('\\xa0м2', totsp[1])\n",
    "    # бывает, что некоторых данных на странице нет, как, например, общей площади квартиры.\n",
    "    # В таких случаях при ValueError мы будем выводить -1 (такие значения в обычном случае все равно\n",
    "    # нигде не встретятся) и хитро с этим справляться в самом конце\n",
    "    try:\n",
    "        return float(totsp[0].replace(',', '.'))\n",
    "    except ValueError:\n",
    "        return -1"
   ]
  },
  {
   "cell_type": "markdown",
   "metadata": {},
   "source": [
    "#### Livesp – жилая площадь квартиры, кв. м."
   ]
  },
  {
   "cell_type": "code",
   "execution_count": 14,
   "metadata": {},
   "outputs": [],
   "source": [
    "def getLivesp(flat_page):\n",
    "    livesp = flat_page.find('table', attrs={'class': \"object_descr_props flat sale\"})\n",
    "    livesp = html_stripper(livesp).replace('\\n', '')\n",
    "    livesp = re.split('Жилая площадь:|\\ха0м2', livesp)\n",
    "    livesp = re.split('\\xa0м2', livesp[1])\n",
    "    try:\n",
    "        return float(livesp[0].replace(',', '.'))\n",
    "    except ValueError:\n",
    "        return -1"
   ]
  },
  {
   "cell_type": "markdown",
   "metadata": {},
   "source": [
    "#### Kitsp – площадь кухни, кв. м."
   ]
  },
  {
   "cell_type": "code",
   "execution_count": 15,
   "metadata": {},
   "outputs": [],
   "source": [
    "def getKitsp(flat_page):\n",
    "    kitsp = flat_page.find('table', attrs={'class': \"object_descr_props flat sale\"})\n",
    "    kitsp = html_stripper(kitsp).replace('\\n', '')\n",
    "    kitsp = re.split('Площадь кухни:|\\ха0м2', kitsp)\n",
    "    kitsp = re.split('\\xa0м2', kitsp[1])\n",
    "    try:\n",
    "        return float(kitsp[0].replace(',', '.'))\n",
    "    except ValueError:\n",
    "        return -1"
   ]
  },
  {
   "cell_type": "markdown",
   "metadata": {},
   "source": [
    "#### Dist – расстояние от центра в км. (можно по Пифагору)"
   ]
  },
  {
   "cell_type": "code",
   "execution_count": 21,
   "metadata": {
    "collapsed": true
   },
   "outputs": [],
   "source": [
    "def getDist(flat_page):\n",
    "    # вытаскиваем координаты из карты\n",
    "    coords = flat_page.find('div', attrs={'class':\"map_info_button_extend\"}).contents[1]\n",
    "    coords = re.split('&amp|center=|%2C', str(coords))\n",
    "    coords_list = []\n",
    "    for item in coords:\n",
    "        if item[0].isdigit():\n",
    "            coords_list.append(item)\n",
    "    flat_coords = (float(coords_list[0]), float(coords_list[1]))\n",
    "    # загугленные координаты центра Москвы\n",
    "    mos_cent_coords = (55.753559, 37.609218)\n",
    "    try:\n",
    "        # пользуемся библиотекой geopy\n",
    "        return vincenty(flat_coords, mos_cent_coords).kilometers\n",
    "    except ValueError:\n",
    "        return -1"
   ]
  },
  {
   "cell_type": "markdown",
   "metadata": {},
   "source": [
    "#### Metrdist – расстояние до метро в минутах"
   ]
  },
  {
   "cell_type": "code",
   "execution_count": 16,
   "metadata": {},
   "outputs": [],
   "source": [
    "def getMetrdist(flat_page):\n",
    "    metrdist = flat_page.find('span', attrs={'class': \"object_item_metro_comment\"})\n",
    "    metrdist = html_stripper(metrdist).replace(' ', '')\n",
    "    metrdist = metrdist.split('\\n')\n",
    "    dists = [int(i) for i in metrdist if i.isdigit()]\n",
    "    try:\n",
    "        return int(min(dists))\n",
    "    except ValueError:\n",
    "        return -1"
   ]
  },
  {
   "cell_type": "markdown",
   "metadata": {},
   "source": [
    "#### Walk – 1 – если пешком от метро, 0 – если на транспорте"
   ]
  },
  {
   "cell_type": "code",
   "execution_count": 17,
   "metadata": {},
   "outputs": [],
   "source": [
    "def getWalk(flat_page):\n",
    "    getwalk = flat_page.find('span', attrs={'class': \"object_item_metro_comment\"})\n",
    "    getwalk = html_stripper(getwalk).replace(' ', '')\n",
    "    if 'пешк' in getwalk:\n",
    "        return 1\n",
    "    else:\n",
    "        return 0"
   ]
  },
  {
   "cell_type": "markdown",
   "metadata": {},
   "source": [
    "#### Brick – 1 – кирпичный/монолит/жб, 0 – другой"
   ]
  },
  {
   "cell_type": "markdown",
   "metadata": {},
   "source": [
    "Вообще-то информация о стенах дома может быть в двух разных местах страницы, поэтому я проверяю оба"
   ]
  },
  {
   "cell_type": "code",
   "execution_count": 18,
   "metadata": {},
   "outputs": [],
   "source": [
    "def getBrick(flat_page):\n",
    "    getbrick = flat_page.find('table', attrs={'class': \"bti__data\"})\n",
    "    getbrick = html_stripper(getbrick).replace('\\n', '')\n",
    "    getbrick = re.split('Материалы стен|Этажность', getbrick)\n",
    "    if len(getbrick) != 1:\n",
    "        if 'кирп' in getbrick[1] or 'мон' in getbrick[1] or 'жб' in getbrick[1]\\\n",
    "                               or'ж/б' in getbrick[1] or 'железобетон' in getbrick[1]:\n",
    "            return 1\n",
    "        else:\n",
    "            return 0\n",
    "    else:\n",
    "        getbrick = flat_page.find('table', attrs={'class': \"object_descr_props flat sale\"})\n",
    "        getbrick = html_stripper(getbrick).replace('\\n', '')\n",
    "        getbrick = re.split('Тип дома:|Тип продажи:', getbrick)\n",
    "        try:\n",
    "            if 'кирп' in getbrick[1] or 'мон' in getbrick[1] or 'жб' in getbrick[1]\\\n",
    "                               or'ж/б' in getbrick[1] or 'железобетон' in getbrick[1]:\n",
    "                return 1\n",
    "            else:\n",
    "                return 0\n",
    "        except ValueError:\n",
    "            return -1"
   ]
  },
  {
   "cell_type": "markdown",
   "metadata": {},
   "source": [
    "#### Tel – 1 – если есть, 0 – нет"
   ]
  },
  {
   "cell_type": "code",
   "execution_count": 19,
   "metadata": {},
   "outputs": [],
   "source": [
    "def getTel(flat_page):\n",
    "    gettel = flat_page.find('table', attrs={'class': \"object_descr_props flat sale\"})\n",
    "    gettel = html_stripper(gettel).replace('\\n', '')\n",
    "    gettel = re.split('Телефон:|Вид из окна:', gettel)\n",
    "    if len(gettel) != 3 or 'не' in gettel[1] or '–' in gettel[1]:\n",
    "        return 0\n",
    "    else:\n",
    "        return 1"
   ]
  },
  {
   "cell_type": "markdown",
   "metadata": {},
   "source": [
    "#### Bal – 1 – есть балкон/лоджия, 0 – нет"
   ]
  },
  {
   "cell_type": "code",
   "execution_count": 20,
   "metadata": {},
   "outputs": [],
   "source": [
    "def getBal(flat_page):\n",
    "    getbal = flat_page.find('table', attrs={'class': \"object_descr_props flat sale\"})\n",
    "    getbal = html_stripper(getbal).replace('\\n', '')\n",
    "    getbal = re.split('Балкон:|Лифт:', getbal)\n",
    "    if len(getbal) != 3 or 'не' in getbal[1] or '–' in getbal[1]:\n",
    "        return 0\n",
    "    else:\n",
    "        return 1"
   ]
  },
  {
   "cell_type": "markdown",
   "metadata": {},
   "source": [
    "#### Floor – номер этажа, на котором расположена квартира"
   ]
  },
  {
   "cell_type": "code",
   "execution_count": 21,
   "metadata": {},
   "outputs": [],
   "source": [
    "def getFloor(flat_page):\n",
    "    getfloor = flat_page.find('table', attrs={'class': \"object_descr_props flat sale\"})\n",
    "    getfloor = html_stripper(getfloor).replace('\\n', '')\n",
    "    getfloor = re.split('Этаж:|\\xa0', getfloor)\n",
    "    try:\n",
    "        return int(getfloor[1])\n",
    "    except ValueError:\n",
    "        return -1"
   ]
  },
  {
   "cell_type": "markdown",
   "metadata": {},
   "source": [
    "#### Nfloors – всего этажей в доме"
   ]
  },
  {
   "cell_type": "code",
   "execution_count": 22,
   "metadata": {},
   "outputs": [],
   "source": [
    "def getNfloors(flat_page):\n",
    "    getnfloors = flat_page.find('table', attrs={'class': \"object_descr_props flat sale\"})\n",
    "    getnfloors = html_stripper(getnfloors).replace('\\n', '')\n",
    "    getnfloors = re.split('/\\xa0|Тип дома:', getnfloors)\n",
    "    try:\n",
    "        return int(getnfloors[1])\n",
    "    except ValueError:\n",
    "        return -1"
   ]
  },
  {
   "cell_type": "markdown",
   "metadata": {},
   "source": [
    "#### New – 1 – первичный рынок, 0 - вторичка"
   ]
  },
  {
   "cell_type": "code",
   "execution_count": 23,
   "metadata": {},
   "outputs": [],
   "source": [
    "def getNew(flat_page):\n",
    "    getnew = flat_page.find('table', attrs={'class': \"object_descr_props flat sale\"})\n",
    "    getnew = html_stripper(getnew).replace('\\n', '')\n",
    "    getnew = re.split('Тип дома:|Высота потолков:', getnew)\n",
    "    if 'втор' in getnew[1]:\n",
    "        return 0\n",
    "    else:\n",
    "        return 1"
   ]
  },
  {
   "cell_type": "code",
   "execution_count": 24,
   "metadata": {},
   "outputs": [],
   "source": [
    "#links = pd.read_csv('vao_links.csv')\n",
    "#links = list(np.array(links['link']).astype(str))"
   ]
  },
  {
   "cell_type": "markdown",
   "metadata": {},
   "source": [
    "Ссылки есть, функции есть, мы готовы гулять по страничкам!"
   ]
  },
  {
   "cell_type": "code",
   "execution_count": 25,
   "metadata": {},
   "outputs": [],
   "source": [
    "columns = ['N', 'Rooms', 'Price', 'Totsp', 'Livesp', 'Kitsp', 'Dist', 'Metrdist', 'Walk', 'Brick',\n",
    "          'Tel', 'Bal', 'Floor', 'Nfloors', 'New']\n",
    "df_final = pd.DataFrame(columns=columns)"
   ]
  },
  {
   "cell_type": "code",
   "execution_count": 32,
   "metadata": {
    "collapsed": true
   },
   "outputs": [],
   "source": [
    "def processing(links):\n",
    "    n = len(links)\n",
    "    # количество ошибок (а они встречаются)\n",
    "    errors = 0\n",
    "    for link in links[:]:\n",
    "        flat_page_url = 'http://www.cian.ru/sale/flat/' + link + '/'\n",
    "        print('\\r Processing link {}, {} of {} ({}% completed, total errors: {})'.format(\n",
    "                flat_page_url, n - len(links) + errors + 1, n,\n",
    "                round((n - len(links) + errors + 1) / n * 100, 2), errors), end='')\n",
    "        try:\n",
    "            flat_page = BeautifulSoup(requests.get(flat_page_url).content, 'lxml')\n",
    "            df_final.loc[len(df_final)] = [getN(link), getRooms(flat_page), getPrice(flat_page),\n",
    "                                 getTotsp(flat_page), getLivesp(flat_page), getKitsp(flat_page),\n",
    "                                 getDist(flat_page), getMetrdist(flat_page), getWalk(flat_page),\n",
    "                                 getBrick(flat_page), getTel(flat_page), getBal(flat_page),\n",
    "                                 getFloor(flat_page), getNfloors(flat_page), getNew(flat_page)]\n",
    "            # если ссылка обработана без ошибок, удаляем ее из исходного массива\n",
    "            links.remove(link)\n",
    "        except OSError or MaxRetryError or ConnectionError or ConnectionResetError:\n",
    "            errors += 1\n",
    "    if links:\n",
    "        print('\\nSome links were not processed. Trying to process them again...')\n",
    "        # после процесса обработки в массиве могут остаться только необработанные ссылки\n",
    "        # (где были ошибки в связи с соединением и т.п.); значит, если он не пуст, они есть, и надо\n",
    "        # повторить процедуру еще раз\n",
    "        return processing(links)\n",
    "    else:\n",
    "        print('\\nAll links were processed')"
   ]
  },
  {
   "cell_type": "code",
   "execution_count": 33,
   "metadata": {},
   "outputs": [
    {
     "name": "stdout",
     "output_type": "stream",
     "text": [
      "\n",
      "All links were processed\n",
      "Time spent: 1.666545867919922e-05 minutes\n"
     ]
    }
   ],
   "source": [
    "start_time = time.time()\n",
    "processing(links)\n",
    "print('Time spent: {} minutes'.format((time.time() - start_time) / 60))"
   ]
  },
  {
   "cell_type": "markdown",
   "metadata": {},
   "source": [
    "Отлично, все получилось!"
   ]
  },
  {
   "cell_type": "code",
   "execution_count": 34,
   "metadata": {},
   "outputs": [
    {
     "data": {
      "text/plain": [
       "0"
      ]
     },
     "execution_count": 34,
     "metadata": {},
     "output_type": "execute_result"
    }
   ],
   "source": [
    "len(df_final)"
   ]
  },
  {
   "cell_type": "markdown",
   "metadata": {},
   "source": [
    "Некоторые ссылки задублировались?"
   ]
  },
  {
   "cell_type": "code",
   "execution_count": 35,
   "metadata": {},
   "outputs": [
    {
     "data": {
      "text/plain": [
       "0"
      ]
     },
     "execution_count": 35,
     "metadata": {},
     "output_type": "execute_result"
    }
   ],
   "source": [
    "len(df_final['N'].value_counts()[df_final['N'].value_counts() > 1])"
   ]
  },
  {
   "cell_type": "code",
   "execution_count": 37,
   "metadata": {},
   "outputs": [
    {
     "data": {
      "text/html": [
       "<div>\n",
       "<table border=\"1\" class=\"dataframe\">\n",
       "  <thead>\n",
       "    <tr style=\"text-align: right;\">\n",
       "      <th></th>\n",
       "      <th>N</th>\n",
       "      <th>Rooms</th>\n",
       "      <th>Price</th>\n",
       "      <th>Totsp</th>\n",
       "      <th>Livesp</th>\n",
       "      <th>Kitsp</th>\n",
       "      <th>Dist</th>\n",
       "      <th>Metrdist</th>\n",
       "      <th>Walk</th>\n",
       "      <th>Brick</th>\n",
       "      <th>Tel</th>\n",
       "      <th>Bal</th>\n",
       "      <th>Floor</th>\n",
       "      <th>Nfloors</th>\n",
       "      <th>New</th>\n",
       "    </tr>\n",
       "  </thead>\n",
       "  <tbody>\n",
       "  </tbody>\n",
       "</table>\n",
       "</div>"
      ],
      "text/plain": [
       "Empty DataFrame\n",
       "Columns: [N, Rooms, Price, Totsp, Livesp, Kitsp, Dist, Metrdist, Walk, Brick, Tel, Bal, Floor, Nfloors, New]\n",
       "Index: []"
      ]
     },
     "execution_count": 37,
     "metadata": {},
     "output_type": "execute_result"
    }
   ],
   "source": [
    "df_final.head(16)\n",
    "df_final.tail(5)"
   ]
  },
  {
   "cell_type": "markdown",
   "metadata": {},
   "source": [
    "Далее становится понятно, почему для пропущенного значения использовалось -1, а не nan: мы переводим большинство столбцов в int (зачем, например, номеру ссылки тип 'float'?..)"
   ]
  },
  {
   "cell_type": "code",
   "execution_count": 38,
   "metadata": {},
   "outputs": [
    {
     "data": {
      "text/html": [
       "<div>\n",
       "<table border=\"1\" class=\"dataframe\">\n",
       "  <thead>\n",
       "    <tr style=\"text-align: right;\">\n",
       "      <th></th>\n",
       "      <th>N</th>\n",
       "      <th>Rooms</th>\n",
       "      <th>Price</th>\n",
       "      <th>Totsp</th>\n",
       "      <th>Livesp</th>\n",
       "      <th>Kitsp</th>\n",
       "      <th>Dist</th>\n",
       "      <th>Metrdist</th>\n",
       "      <th>Walk</th>\n",
       "      <th>Brick</th>\n",
       "      <th>Tel</th>\n",
       "      <th>Bal</th>\n",
       "      <th>Floor</th>\n",
       "      <th>Nfloors</th>\n",
       "      <th>New</th>\n",
       "    </tr>\n",
       "  </thead>\n",
       "  <tbody>\n",
       "  </tbody>\n",
       "</table>\n",
       "</div>"
      ],
      "text/plain": [
       "Empty DataFrame\n",
       "Columns: [N, Rooms, Price, Totsp, Livesp, Kitsp, Dist, Metrdist, Walk, Brick, Tel, Bal, Floor, Nfloors, New]\n",
       "Index: []"
      ]
     },
     "execution_count": 38,
     "metadata": {},
     "output_type": "execute_result"
    }
   ],
   "source": [
    "df_final[['N', 'Rooms', 'Price', 'Metrdist', 'Walk', 'Brick',\n",
    "          'Tel', 'Bal', 'Floor', 'Nfloors', 'New']] = \\\n",
    "df_final[['N', 'Rooms', 'Price', 'Metrdist', 'Walk', 'Brick',\n",
    "          'Tel', 'Bal', 'Floor', 'Nfloors', 'New']].astype(int)\n",
    "df_final.head(8)"
   ]
  },
  {
   "cell_type": "markdown",
   "metadata": {},
   "source": [
    "И вот теперь заменяем -1 на nan:"
   ]
  },
  {
   "cell_type": "code",
   "execution_count": 39,
   "metadata": {},
   "outputs": [
    {
     "data": {
      "text/html": [
       "<div>\n",
       "<table border=\"1\" class=\"dataframe\">\n",
       "  <thead>\n",
       "    <tr style=\"text-align: right;\">\n",
       "      <th></th>\n",
       "      <th>N</th>\n",
       "      <th>Rooms</th>\n",
       "      <th>Price</th>\n",
       "      <th>Totsp</th>\n",
       "      <th>Livesp</th>\n",
       "      <th>Kitsp</th>\n",
       "      <th>Dist</th>\n",
       "      <th>Metrdist</th>\n",
       "      <th>Walk</th>\n",
       "      <th>Brick</th>\n",
       "      <th>Tel</th>\n",
       "      <th>Bal</th>\n",
       "      <th>Floor</th>\n",
       "      <th>Nfloors</th>\n",
       "      <th>New</th>\n",
       "    </tr>\n",
       "  </thead>\n",
       "  <tbody>\n",
       "  </tbody>\n",
       "</table>\n",
       "</div>"
      ],
      "text/plain": [
       "Empty DataFrame\n",
       "Columns: [N, Rooms, Price, Totsp, Livesp, Kitsp, Dist, Metrdist, Walk, Brick, Tel, Bal, Floor, Nfloors, New]\n",
       "Index: []"
      ]
     },
     "execution_count": 39,
     "metadata": {},
     "output_type": "execute_result"
    }
   ],
   "source": [
    "df_final.replace(-1, np.nan, inplace=True)\n",
    "df_final.head(16)"
   ]
  },
  {
   "cell_type": "markdown",
   "metadata": {},
   "source": [
    "Видно, что один из столбцов типа int (Nfloors) перешел обратно в float. Это связано с тем, что numpy.nan имеет тип float, значит, только этот столбец из всех целочисленных содержал пропуски. С этим ничего сделать не получится, поэтому оставим все как есть.\n",
    "Итак, ответ готов!"
   ]
  },
  {
   "cell_type": "code",
   "execution_count": 40,
   "metadata": {
    "collapsed": true
   },
   "outputs": [],
   "source": [
    "df_final.to_csv('vao_flats.csv')"
   ]
  },
  {
   "cell_type": "markdown",
   "metadata": {},
   "source": [
    "Итак, в данной части проекта с помощью парсинга сайта cian.ru были получены данные обо всех продающихся в ВАО квартирах. При желании эту процедуру можно проделать для других районов (а также метро и т.п.), выбрав соответствующий критерий для запросов во избежание потери информации (чтобы по каждому запросу выдавалось не больше 840 квартир)."
   ]
  },
  {
   "cell_type": "code",
   "execution_count": null,
   "metadata": {
    "collapsed": true
   },
   "outputs": [],
   "source": []
  }
 ],
 "metadata": {
  "kernelspec": {
   "display_name": "Python 3",
   "language": "python",
   "name": "python3"
  },
  "language_info": {
   "codemirror_mode": {
    "name": "ipython",
    "version": 3
   },
   "file_extension": ".py",
   "mimetype": "text/x-python",
   "name": "python",
   "nbconvert_exporter": "python",
   "pygments_lexer": "ipython3",
   "version": "3.7.3"
  }
 },
 "nbformat": 4,
 "nbformat_minor": 1
}
