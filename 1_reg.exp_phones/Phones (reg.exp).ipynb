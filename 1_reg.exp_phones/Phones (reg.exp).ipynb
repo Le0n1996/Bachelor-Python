{
 "cells": [
  {
   "cell_type": "markdown",
   "metadata": {},
   "source": [
    "This task is practice in working with regular expressions.\n",
    "\n",
    "The goal: write a program that determines whether what is fed to it as input is a phone number or not.\n",
    "\n",
    "When solving, only Russian numbers were considered (possibly starting with +7, 7, 8, then, perhaps, there was a three-digit code (in brackets or not), and then a seven-digit number). It is worth noting that in order to complicate the task, it was suggested that in a seven-digit number, the numbers can be separated by a space or a dash into blocks, but two blocks of one digit cannot be adjacent, as it is unlikely that someone will write the number this way; most likely, these two blocks will merge into one, two-digit. That is, 1-23-4-56-7 is a phone number, but 1-23-4-5-67 is not.\n",
    "\n",
    "The solution to the problem is a regular expression. To test the program, the file 'phones.txt' was compiled, which contains test numbers (the first 20 lines are \"fake numbers\", all the rest are correct). The file 'phones_result.txt' outputs the appropriate set of lines 'YES' or 'NO' depending on whether the numbers are phone numbers or not."
   ]
  },
  {
   "cell_type": "code",
   "execution_count": 1,
   "metadata": {},
   "outputs": [],
   "source": [
    "import re"
   ]
  },
  {
   "cell_type": "code",
   "execution_count": 2,
   "metadata": {},
   "outputs": [],
   "source": [
    "with open('phones.txt') as f:\n",
    "    phones = f.readlines()\n",
    "phones = list(map(lambda x: re.sub('\\n', '', x), phones))"
   ]
  },
  {
   "cell_type": "code",
   "execution_count": 3,
   "metadata": {},
   "outputs": [],
   "source": [
    "result = []\n",
    "for p in phones:\n",
    "    if re.match(r'^(((8|7|\\+7)[ \\-]?)?(\\(?\\d{3}\\)?[ \\-]?))?\\d([ \\-]\\d{2}([ \\-]\\d(\\d([ \\-]\\d|\\d[ \\-]?)|[ \\-]\\d{2}[ \\-]?)|\\d([ \\-]\\d([ \\-]\\d|\\d[ \\-]?)|\\d([ \\-]\\d|\\d[ \\-]?)))|\\d([ \\-]\\d([ \\-]\\d{2}([ \\-]\\d|\\d[ \\-]?)|\\d([ \\-]\\d([ \\-]\\d|\\d[ \\-]?)|\\d([ \\-]\\d|\\d[ \\-]?)))|\\d([ \\-]\\d([ \\-]\\d{2}[ \\-]?|\\d([ \\-]\\d|\\d[ \\-]?))|\\d([ \\-]\\d([ \\-]\\d|\\d[ \\-]?)|\\d([ \\-]\\d|\\d[ \\-]?)))))\\d$', p):\n",
    "        result.append('YES')\n",
    "    else:\n",
    "        result.append('NO')"
   ]
  },
  {
   "cell_type": "code",
   "execution_count": 4,
   "metadata": {},
   "outputs": [],
   "source": [
    "output = open('phones_result.txt', 'w')\n",
    "output.write('\\n'.join(result))\n",
    "output.close()"
   ]
  }
 ],
 "metadata": {
  "kernelspec": {
   "display_name": "Python 3",
   "language": "python",
   "name": "python3"
  },
  "language_info": {
   "codemirror_mode": {
    "name": "ipython",
    "version": 3
   },
   "file_extension": ".py",
   "mimetype": "text/x-python",
   "name": "python",
   "nbconvert_exporter": "python",
   "pygments_lexer": "ipython3",
   "version": "3.7.3"
  }
 },
 "nbformat": 4,
 "nbformat_minor": 2
}
